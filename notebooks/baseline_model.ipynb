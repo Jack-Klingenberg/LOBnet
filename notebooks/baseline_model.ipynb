{
 "cells": [
  {
   "cell_type": "code",
   "execution_count": 30,
   "metadata": {},
   "outputs": [],
   "source": [
    "import pandas as pd \n",
    "import numpy as np\n",
    "import torch\n",
    "import torch.nn as nn\n",
    "from torch.utils.data import Dataset, DataLoader\n",
    "import os\n",
    "from tqdm.auto import tqdm\n",
    "\n",
    "from sklearn.preprocessing import OneHotEncoder\n",
    "import matplotlib.pyplot as plt\n",
    "import seaborn as sns\n",
    "from sklearn.metrics import confusion_matrix, classification_report, roc_curve, auc, roc_auc_score\n",
    "from sklearn.preprocessing import label_binarize"
   ]
  },
  {
   "cell_type": "code",
   "execution_count": 2,
   "metadata": {},
   "outputs": [],
   "source": [
    "datapath = \"/Users/tommydenezza/Desktop/DeepLearning/LOBnet/data/BenchmarkDatasets_csv/BenchmarkDatasets/NoAuction/1.NoAuction_Zscore/NoAuction_Zscore_Training\"\n",
    "csv_files = [f for f in os.listdir(datapath) if f.endswith('.csv')]"
   ]
  },
  {
   "cell_type": "code",
   "execution_count": 5,
   "metadata": {},
   "outputs": [],
   "source": [
    "def split_into_windows(df, window_size=100):\n",
    "    \"\"\"\n",
    "    Split a Pandas DataFrame into non-overlapping windows.\n",
    "    \n",
    "    Parameters:\n",
    "    df (pandas.DataFrame): The input DataFrame to be split.\n",
    "    window_size (int): The size of each window (number of columns).\n",
    "    \n",
    "    Returns:\n",
    "    list of pandas.DataFrame: A list of DataFrame windows.\n",
    "    \"\"\"\n",
    "    num_windows = df.shape[1] // window_size\n",
    "    windows = []\n",
    "    for i in range(num_windows):\n",
    "        start = i * window_size\n",
    "        end = start + window_size\n",
    "        windows.append(df.iloc[:, start:end])\n",
    "    return windows"
   ]
  },
  {
   "cell_type": "code",
   "execution_count": 6,
   "metadata": {},
   "outputs": [
    {
     "name": "stdout",
     "output_type": "stream",
     "text": [
      "Working on file 0\n",
      "Working on file 1\n",
      "Working on file 2\n",
      "Working on file 3\n",
      "Working on file 4\n",
      "Working on file 5\n",
      "Working on file 6\n",
      "Working on file 7\n",
      "Working on file 8\n"
     ]
    }
   ],
   "source": [
    "X_train_lst = []\n",
    "Y_train_lst = []\n",
    "for i,f in enumerate(csv_files):\n",
    "    print(f\"Working on file {i}\")\n",
    "    df = pd.read_csv(os.path.join(datapath, f), header=None)\n",
    "    X_train_lst += split_into_windows(df.iloc[0:40,:], window_size=100)\n",
    "    Y_train_lst += split_into_windows(df.iloc[-5:,:]) "
   ]
  },
  {
   "cell_type": "code",
   "execution_count": 9,
   "metadata": {},
   "outputs": [],
   "source": [
    "X_data = np.array(X_train_lst).swapaxes(1,2)\n",
    "\n",
    "# Naively ignore all information about the orderbook in order to get a baseline. Here, we are looking at the deviation from the end of the \n",
    "# window to a point 10 events into the future. See pg 13 of https://arxiv.org/pdf/1705.03233\n",
    "Y_data = np.array(Y_train_lst)[:,-1,-1] \n",
    "\n",
    "encoder = OneHotEncoder(sparse_output=False)\n",
    "Y_data = encoder.fit_transform(Y_data.reshape(-1,1)) \n",
    "\n",
    "split_point = int(0.75*len(X_data))\n",
    "X_train, X_test = X_data[split_point:], X_data[:split_point]\n",
    "Y_train, Y_test = Y_data[split_point:], Y_data[:split_point]\n"
   ]
  },
  {
   "cell_type": "code",
   "execution_count": 20,
   "metadata": {},
   "outputs": [],
   "source": [
    "class NaiveLOBCNN(nn.Module):\n",
    "    def __init__(self):\n",
    "        super(NaiveLOBCNN, self).__init__()\n",
    "\n",
    "        # Conv block see page 5 of https://arxiv.org/pdf/1808.03668\n",
    "        self.conv1 = nn.Conv2d(in_channels=1,out_channels=16,kernel_size=(1, 2),stride=2)\n",
    "        self.relu1 = nn.ReLU()\n",
    "        self.conv2 = nn.Conv2d(in_channels=16,out_channels=32,kernel_size=(1, 2),stride=2)\n",
    "        self.relu2 = nn.ReLU()\n",
    "        \n",
    "        self.dropout1 = nn.Dropout2d(p=0.3) # Should have a conversation about what our desired dropout is, set to 3/10 rn\n",
    "\n",
    "        self.flatten_size = 32 * 10 * 25\n",
    "        \n",
    "        # FC \n",
    "        self.fc1 = nn.Linear(self.flatten_size, 64)\n",
    "        self.relu3 = nn.ReLU()\n",
    "        self.fc2 = nn.Linear(64, 3)  # 3 classes\n",
    "        self.softmax = nn.Softmax(dim=1)\n",
    "        \n",
    "    def forward(self, x):\n",
    "        # Add channel dimension if not present\n",
    "        if len(x.shape) == 3:\n",
    "            x = x.unsqueeze(1)\n",
    "            \n",
    "        # Convolution blocks\n",
    "        x = self.relu1(self.conv1(x))\n",
    "        x = self.relu2(self.conv2(x))\n",
    "        \n",
    "        # Flatten\n",
    "        x = x.view(-1, self.flatten_size)\n",
    "        \n",
    "        # Fully connected layers\n",
    "        x = self.relu3(self.fc1(x))\n",
    "        x = self.fc2(x)\n",
    "        x = self.softmax(x)\n",
    "        \n",
    "        return x\n"
   ]
  },
  {
   "cell_type": "code",
   "execution_count": 21,
   "metadata": {},
   "outputs": [],
   "source": [
    "class OrderBookDataset(Dataset):\n",
    "    def __init__(self, X, y):\n",
    "        self.X = torch.FloatTensor(X)\n",
    "        self.y = torch.FloatTensor(y)\n",
    "        \n",
    "    def __len__(self):\n",
    "        return len(self.X)\n",
    "    \n",
    "    def __getitem__(self, idx):\n",
    "        return self.X[idx], self.y[idx]\n",
    "\n",
    "train_dataset = OrderBookDataset(X_train, Y_train)\n",
    "test_dataset = OrderBookDataset(X_test, Y_test)\n",
    "\n",
    "batch_size = 32\n",
    "dataloader = DataLoader(\n",
    "    train_dataset, \n",
    "    batch_size=batch_size,\n",
    "    shuffle=False,\n",
    "    num_workers=0  # Increase if you need parallel loading\n",
    ")"
   ]
  },
  {
   "cell_type": "code",
   "execution_count": 25,
   "metadata": {},
   "outputs": [
    {
     "name": "stderr",
     "output_type": "stream",
     "text": [
      "Epoch 1/30: 100%|██████████| 133/133 [00:01<00:00, 105.57it/s, loss=1.0846, acc=38.59%]\n"
     ]
    },
    {
     "name": "stdout",
     "output_type": "stream",
     "text": [
      "\n",
      "Epoch 1 Summary:\n",
      "Average Loss: 1.0846\n",
      "Accuracy: 38.59%\n",
      "\n"
     ]
    },
    {
     "name": "stderr",
     "output_type": "stream",
     "text": [
      "Epoch 2/30: 100%|██████████| 133/133 [00:01<00:00, 107.94it/s, loss=1.0744, acc=40.20%]\n"
     ]
    },
    {
     "name": "stdout",
     "output_type": "stream",
     "text": [
      "\n",
      "Epoch 2 Summary:\n",
      "Average Loss: 1.0744\n",
      "Accuracy: 40.20%\n",
      "\n"
     ]
    },
    {
     "name": "stderr",
     "output_type": "stream",
     "text": [
      "Epoch 3/30: 100%|██████████| 133/133 [00:01<00:00, 114.56it/s, loss=1.0570, acc=43.52%]\n"
     ]
    },
    {
     "name": "stdout",
     "output_type": "stream",
     "text": [
      "\n",
      "Epoch 3 Summary:\n",
      "Average Loss: 1.0570\n",
      "Accuracy: 43.52%\n",
      "\n"
     ]
    },
    {
     "name": "stderr",
     "output_type": "stream",
     "text": [
      "Epoch 4/30: 100%|██████████| 133/133 [00:01<00:00, 109.55it/s, loss=1.0418, acc=45.13%]\n"
     ]
    },
    {
     "name": "stdout",
     "output_type": "stream",
     "text": [
      "\n",
      "Epoch 4 Summary:\n",
      "Average Loss: 1.0418\n",
      "Accuracy: 45.13%\n",
      "\n"
     ]
    },
    {
     "name": "stderr",
     "output_type": "stream",
     "text": [
      "Epoch 5/30: 100%|██████████| 133/133 [00:01<00:00, 120.41it/s, loss=1.0300, acc=47.80%]\n"
     ]
    },
    {
     "name": "stdout",
     "output_type": "stream",
     "text": [
      "\n",
      "Epoch 5 Summary:\n",
      "Average Loss: 1.0300\n",
      "Accuracy: 47.80%\n",
      "\n"
     ]
    },
    {
     "name": "stderr",
     "output_type": "stream",
     "text": [
      "Epoch 6/30: 100%|██████████| 133/133 [00:01<00:00, 107.82it/s, loss=1.0258, acc=46.90%]\n"
     ]
    },
    {
     "name": "stdout",
     "output_type": "stream",
     "text": [
      "\n",
      "Epoch 6 Summary:\n",
      "Average Loss: 1.0258\n",
      "Accuracy: 46.90%\n",
      "\n"
     ]
    },
    {
     "name": "stderr",
     "output_type": "stream",
     "text": [
      "Epoch 7/30: 100%|██████████| 133/133 [00:01<00:00, 114.57it/s, loss=1.0159, acc=49.24%]\n"
     ]
    },
    {
     "name": "stdout",
     "output_type": "stream",
     "text": [
      "\n",
      "Epoch 7 Summary:\n",
      "Average Loss: 1.0159\n",
      "Accuracy: 49.24%\n",
      "\n"
     ]
    },
    {
     "name": "stderr",
     "output_type": "stream",
     "text": [
      "Epoch 8/30: 100%|██████████| 133/133 [00:01<00:00, 111.10it/s, loss=1.0011, acc=51.73%]\n"
     ]
    },
    {
     "name": "stdout",
     "output_type": "stream",
     "text": [
      "\n",
      "Epoch 8 Summary:\n",
      "Average Loss: 1.0011\n",
      "Accuracy: 51.73%\n",
      "\n"
     ]
    },
    {
     "name": "stderr",
     "output_type": "stream",
     "text": [
      "Epoch 9/30: 100%|██████████| 133/133 [00:01<00:00, 113.72it/s, loss=0.9921, acc=52.96%]\n"
     ]
    },
    {
     "name": "stdout",
     "output_type": "stream",
     "text": [
      "\n",
      "Epoch 9 Summary:\n",
      "Average Loss: 0.9921\n",
      "Accuracy: 52.96%\n",
      "\n"
     ]
    },
    {
     "name": "stderr",
     "output_type": "stream",
     "text": [
      "Epoch 10/30: 100%|██████████| 133/133 [00:01<00:00, 111.47it/s, loss=0.9853, acc=53.95%]\n"
     ]
    },
    {
     "name": "stdout",
     "output_type": "stream",
     "text": [
      "\n",
      "Epoch 10 Summary:\n",
      "Average Loss: 0.9853\n",
      "Accuracy: 53.95%\n",
      "\n"
     ]
    },
    {
     "name": "stderr",
     "output_type": "stream",
     "text": [
      "Epoch 11/30: 100%|██████████| 133/133 [00:01<00:00, 113.71it/s, loss=0.9813, acc=54.76%]\n"
     ]
    },
    {
     "name": "stdout",
     "output_type": "stream",
     "text": [
      "\n",
      "Epoch 11 Summary:\n",
      "Average Loss: 0.9813\n",
      "Accuracy: 54.76%\n",
      "\n"
     ]
    },
    {
     "name": "stderr",
     "output_type": "stream",
     "text": [
      "Epoch 12/30: 100%|██████████| 133/133 [00:01<00:00, 109.75it/s, loss=0.9631, acc=57.15%]\n"
     ]
    },
    {
     "name": "stdout",
     "output_type": "stream",
     "text": [
      "\n",
      "Epoch 12 Summary:\n",
      "Average Loss: 0.9631\n",
      "Accuracy: 57.15%\n",
      "\n"
     ]
    },
    {
     "name": "stderr",
     "output_type": "stream",
     "text": [
      "Epoch 13/30: 100%|██████████| 133/133 [00:01<00:00, 116.64it/s, loss=0.9544, acc=58.07%]\n"
     ]
    },
    {
     "name": "stdout",
     "output_type": "stream",
     "text": [
      "\n",
      "Epoch 13 Summary:\n",
      "Average Loss: 0.9544\n",
      "Accuracy: 58.07%\n",
      "\n"
     ]
    },
    {
     "name": "stderr",
     "output_type": "stream",
     "text": [
      "Epoch 14/30: 100%|██████████| 133/133 [00:01<00:00, 109.58it/s, loss=0.9443, acc=59.58%]\n"
     ]
    },
    {
     "name": "stdout",
     "output_type": "stream",
     "text": [
      "\n",
      "Epoch 14 Summary:\n",
      "Average Loss: 0.9443\n",
      "Accuracy: 59.58%\n",
      "\n"
     ]
    },
    {
     "name": "stderr",
     "output_type": "stream",
     "text": [
      "Epoch 15/30: 100%|██████████| 133/133 [00:01<00:00, 117.68it/s, loss=0.9171, acc=62.71%]\n"
     ]
    },
    {
     "name": "stdout",
     "output_type": "stream",
     "text": [
      "\n",
      "Epoch 15 Summary:\n",
      "Average Loss: 0.9171\n",
      "Accuracy: 62.71%\n",
      "\n"
     ]
    },
    {
     "name": "stderr",
     "output_type": "stream",
     "text": [
      "Epoch 16/30: 100%|██████████| 133/133 [00:01<00:00, 115.86it/s, loss=0.9092, acc=63.44%]\n"
     ]
    },
    {
     "name": "stdout",
     "output_type": "stream",
     "text": [
      "\n",
      "Epoch 16 Summary:\n",
      "Average Loss: 0.9092\n",
      "Accuracy: 63.44%\n",
      "\n"
     ]
    },
    {
     "name": "stderr",
     "output_type": "stream",
     "text": [
      "Epoch 17/30: 100%|██████████| 133/133 [00:01<00:00, 113.14it/s, loss=0.8989, acc=64.91%]\n"
     ]
    },
    {
     "name": "stdout",
     "output_type": "stream",
     "text": [
      "\n",
      "Epoch 17 Summary:\n",
      "Average Loss: 0.8989\n",
      "Accuracy: 64.91%\n",
      "\n"
     ]
    },
    {
     "name": "stderr",
     "output_type": "stream",
     "text": [
      "Epoch 18/30: 100%|██████████| 133/133 [00:01<00:00, 118.42it/s, loss=0.9014, acc=64.67%]\n"
     ]
    },
    {
     "name": "stdout",
     "output_type": "stream",
     "text": [
      "\n",
      "Epoch 18 Summary:\n",
      "Average Loss: 0.9014\n",
      "Accuracy: 64.67%\n",
      "\n"
     ]
    },
    {
     "name": "stderr",
     "output_type": "stream",
     "text": [
      "Epoch 19/30: 100%|██████████| 133/133 [00:01<00:00, 112.13it/s, loss=0.8785, acc=68.32%]\n"
     ]
    },
    {
     "name": "stdout",
     "output_type": "stream",
     "text": [
      "\n",
      "Epoch 19 Summary:\n",
      "Average Loss: 0.8785\n",
      "Accuracy: 68.32%\n",
      "\n"
     ]
    },
    {
     "name": "stderr",
     "output_type": "stream",
     "text": [
      "Epoch 20/30: 100%|██████████| 133/133 [00:01<00:00, 114.40it/s, loss=0.8523, acc=70.52%]\n"
     ]
    },
    {
     "name": "stdout",
     "output_type": "stream",
     "text": [
      "\n",
      "Epoch 20 Summary:\n",
      "Average Loss: 0.8523\n",
      "Accuracy: 70.52%\n",
      "\n"
     ]
    },
    {
     "name": "stderr",
     "output_type": "stream",
     "text": [
      "Epoch 21/30: 100%|██████████| 133/133 [00:01<00:00, 111.84it/s, loss=0.8292, acc=73.38%]\n"
     ]
    },
    {
     "name": "stdout",
     "output_type": "stream",
     "text": [
      "\n",
      "Epoch 21 Summary:\n",
      "Average Loss: 0.8292\n",
      "Accuracy: 73.38%\n",
      "\n"
     ]
    },
    {
     "name": "stderr",
     "output_type": "stream",
     "text": [
      "Epoch 22/30: 100%|██████████| 133/133 [00:01<00:00, 113.82it/s, loss=0.8091, acc=75.44%]\n"
     ]
    },
    {
     "name": "stdout",
     "output_type": "stream",
     "text": [
      "\n",
      "Epoch 22 Summary:\n",
      "Average Loss: 0.8091\n",
      "Accuracy: 75.44%\n",
      "\n"
     ]
    },
    {
     "name": "stderr",
     "output_type": "stream",
     "text": [
      "Epoch 23/30: 100%|██████████| 133/133 [00:01<00:00, 111.15it/s, loss=0.7974, acc=76.34%]\n"
     ]
    },
    {
     "name": "stdout",
     "output_type": "stream",
     "text": [
      "\n",
      "Epoch 23 Summary:\n",
      "Average Loss: 0.7974\n",
      "Accuracy: 76.34%\n",
      "\n"
     ]
    },
    {
     "name": "stderr",
     "output_type": "stream",
     "text": [
      "Epoch 24/30: 100%|██████████| 133/133 [00:01<00:00, 113.84it/s, loss=0.7844, acc=77.35%]\n"
     ]
    },
    {
     "name": "stdout",
     "output_type": "stream",
     "text": [
      "\n",
      "Epoch 24 Summary:\n",
      "Average Loss: 0.7844\n",
      "Accuracy: 77.35%\n",
      "\n"
     ]
    },
    {
     "name": "stderr",
     "output_type": "stream",
     "text": [
      "Epoch 25/30: 100%|██████████| 133/133 [00:01<00:00, 110.96it/s, loss=0.7800, acc=77.95%]\n"
     ]
    },
    {
     "name": "stdout",
     "output_type": "stream",
     "text": [
      "\n",
      "Epoch 25 Summary:\n",
      "Average Loss: 0.7800\n",
      "Accuracy: 77.95%\n",
      "\n"
     ]
    },
    {
     "name": "stderr",
     "output_type": "stream",
     "text": [
      "Epoch 26/30: 100%|██████████| 133/133 [00:01<00:00, 115.13it/s, loss=0.7680, acc=79.27%]\n"
     ]
    },
    {
     "name": "stdout",
     "output_type": "stream",
     "text": [
      "\n",
      "Epoch 26 Summary:\n",
      "Average Loss: 0.7680\n",
      "Accuracy: 79.27%\n",
      "\n"
     ]
    },
    {
     "name": "stderr",
     "output_type": "stream",
     "text": [
      "Epoch 27/30: 100%|██████████| 133/133 [00:01<00:00, 112.70it/s, loss=0.7601, acc=79.58%]\n"
     ]
    },
    {
     "name": "stdout",
     "output_type": "stream",
     "text": [
      "\n",
      "Epoch 27 Summary:\n",
      "Average Loss: 0.7601\n",
      "Accuracy: 79.58%\n",
      "\n"
     ]
    },
    {
     "name": "stderr",
     "output_type": "stream",
     "text": [
      "Epoch 28/30: 100%|██████████| 133/133 [00:01<00:00, 114.25it/s, loss=0.7492, acc=80.90%]\n"
     ]
    },
    {
     "name": "stdout",
     "output_type": "stream",
     "text": [
      "\n",
      "Epoch 28 Summary:\n",
      "Average Loss: 0.7492\n",
      "Accuracy: 80.90%\n",
      "\n"
     ]
    },
    {
     "name": "stderr",
     "output_type": "stream",
     "text": [
      "Epoch 29/30: 100%|██████████| 133/133 [00:01<00:00, 112.31it/s, loss=0.7333, acc=82.49%]\n"
     ]
    },
    {
     "name": "stdout",
     "output_type": "stream",
     "text": [
      "\n",
      "Epoch 29 Summary:\n",
      "Average Loss: 0.7333\n",
      "Accuracy: 82.49%\n",
      "\n"
     ]
    },
    {
     "name": "stderr",
     "output_type": "stream",
     "text": [
      "Epoch 30/30: 100%|██████████| 133/133 [00:01<00:00, 106.90it/s, loss=0.7274, acc=83.10%]"
     ]
    },
    {
     "name": "stdout",
     "output_type": "stream",
     "text": [
      "\n",
      "Epoch 30 Summary:\n",
      "Average Loss: 0.7274\n",
      "Accuracy: 83.10%\n",
      "\n"
     ]
    },
    {
     "name": "stderr",
     "output_type": "stream",
     "text": [
      "\n"
     ]
    }
   ],
   "source": [
    "model = NaiveLOBCNN()\n",
    "device = torch.device(\"cuda\" if torch.cuda.is_available() else \"cpu\")\n",
    "model = model.to(device)\n",
    "\n",
    "criterion = nn.CrossEntropyLoss()\n",
    "optimizer = torch.optim.Adam(model.parameters(), lr=0.001)\n",
    "\n",
    "num_epochs = 30\n",
    "\n",
    "for epoch in range(num_epochs):\n",
    "    model.train()\n",
    "    running_loss = 0.0\n",
    "    correct = 0\n",
    "    total = 0\n",
    "    \n",
    "    pbar = tqdm(dataloader, desc=f'Epoch {epoch+1}/{num_epochs}')\n",
    "    \n",
    "    for batch_X, batch_y in pbar:\n",
    "        batch_X = batch_X.to(device)\n",
    "        batch_y = batch_y.to(device)\n",
    "        \n",
    "        outputs = model(batch_X)\n",
    "        loss = criterion(outputs, batch_y)\n",
    "        \n",
    "        optimizer.zero_grad()\n",
    "        loss.backward()\n",
    "        optimizer.step()\n",
    "        \n",
    "        _, predicted = torch.max(outputs.data, 1)\n",
    "        _, labels = torch.max(batch_y.data, 1)\n",
    "        total += labels.size(0)\n",
    "        correct += (predicted == labels).sum().item()\n",
    "        \n",
    "        running_loss += loss.item()\n",
    "        \n",
    "        pbar.set_postfix({\n",
    "            'loss': f'{running_loss/len(pbar):.4f}',\n",
    "            'acc': f'{100 * correct/total:.2f}%'\n",
    "        })\n",
    "    \n",
    "    epoch_loss = running_loss / len(dataloader)\n",
    "    epoch_acc = 100 * correct / total\n",
    "    print(f'\\nEpoch {epoch+1} Summary:')\n",
    "    print(f'Average Loss: {epoch_loss:.4f}')\n",
    "    print(f'Accuracy: {epoch_acc:.2f}%\\n')"
   ]
  },
  {
   "cell_type": "code",
   "execution_count": 26,
   "metadata": {},
   "outputs": [
    {
     "name": "stderr",
     "output_type": "stream",
     "text": [
      "Running Test Predictions: 100%|██████████| 397/397 [00:00<00:00, 603.61it/s]"
     ]
    },
    {
     "name": "stdout",
     "output_type": "stream",
     "text": [
      "Test Accuracy: 46.45%\n"
     ]
    },
    {
     "name": "stderr",
     "output_type": "stream",
     "text": [
      "\n"
     ]
    }
   ],
   "source": [
    "test_dataloader = DataLoader(\n",
    "    test_dataset, \n",
    "    batch_size=batch_size,\n",
    "    shuffle=False,\n",
    "    num_workers=0  # Increase if needed for parallel data loading\n",
    ")\n",
    "\n",
    "model.eval()\n",
    "pred_batches = tqdm(test_dataloader, desc='Running Test Predictions')\n",
    "\n",
    "all_predictions = []\n",
    "all_labels = []\n",
    "\n",
    "for X_batch, y_batch in pred_batches:\n",
    "    \n",
    "    X_batch = X_batch.to(device)\n",
    "    y_batch = y_batch.to(device)\n",
    "    \n",
    "    test_output = model(X_batch)\n",
    "    _, test_pred = torch.max(test_output.data, 1)  # Predicted class indices\n",
    "    \n",
    "    if y_batch.ndim > 1:\n",
    "        _, test_labels = torch.max(y_batch.data, 1)\n",
    "    else:\n",
    "        test_labels = y_batch \n",
    "    \n",
    "    all_predictions.extend(test_pred.cpu().numpy())\n",
    "    all_labels.extend(test_labels.cpu().numpy())\n",
    "\n",
    "all_predictions = np.array(all_predictions)\n",
    "all_labels = np.array(all_labels)\n",
    "\n",
    "accuracy = (all_predictions == all_labels).mean() * 100\n",
    "print(f\"Test Accuracy: {accuracy:.2f}%\")\n",
    "\n"
   ]
  },
  {
   "cell_type": "code",
   "execution_count": 43,
   "metadata": {},
   "outputs": [
    {
     "name": "stdout",
     "output_type": "stream",
     "text": [
      "[5079, 5053, 2543]\n"
     ]
    }
   ],
   "source": [
    "print(pd.DataFrame(all_labels).value_counts().to_list())"
   ]
  },
  {
   "cell_type": "code",
   "execution_count": 44,
   "metadata": {},
   "outputs": [
    {
     "data": {
      "image/png": "[encoded data removed]",
      "text/plain": [
       "<Figure size 800x600 with 2 Axes>"
      ]
     },
     "metadata": {},
     "output_type": "display_data"
    },
    {
     "data": {
      "image/png": "[encoded data removed]",
      "text/plain": [
       "<Figure size 640x480 with 1 Axes>"
      ]
     },
     "metadata": {},
     "output_type": "display_data"
    },
    {
     "data": {
      "image/png": "[encoded data removed]",
      "text/plain": [
       "<Figure size 800x600 with 1 Axes>"
      ]
     },
     "metadata": {},
     "output_type": "display_data"
    }
   ],
   "source": [
    "# Confusion Matrix\n",
    "cm = confusion_matrix(all_labels, all_predictions)\n",
    "plt.figure(figsize=(8, 6))\n",
    "sns.heatmap(cm, annot=True, fmt='d', cmap='Blues', xticklabels=['Up', 'No Mvmt', 'Down'], yticklabels=['Up', 'No Mvmt', 'Down'])\n",
    "plt.title('Confusion Matrix')\n",
    "plt.xlabel('Predicted Labels')\n",
    "plt.ylabel('True Labels')\n",
    "plt.show()\n",
    "\n",
    "# Accuracy per Class Bar Chart\n",
    "class_accuracy = np.diagonal(cm) / cm.sum(axis=1)\n",
    "classes = ['Up', 'No Mvmt', 'Down']\n",
    "plt.bar(classes, class_accuracy, color='skyblue')\n",
    "plt.title('Accuracy per Class')\n",
    "plt.ylabel('Accuracy')\n",
    "plt.show()\n",
    "\n",
    "# Prediction and Ground Truth Side by Side\n",
    "true_counts = pd.DataFrame(all_labels).value_counts().to_list()\n",
    "pred_counts = pd.DataFrame(all_predictions).value_counts().to_list()\n",
    "# Set bar width and positions for the pairs of bars\n",
    "bar_width = 0.35\n",
    "index = np.arange(len(classes))\n",
    "\n",
    "# Create the plot\n",
    "plt.figure(figsize=(8, 6))\n",
    "\n",
    "# Plot the bars\n",
    "plt.bar(index - bar_width/2, true_counts, bar_width, label='True Labels', color='b')\n",
    "plt.bar(index + bar_width/2, predicted_counts, bar_width, label='Predicted Labels', color='orange')\n",
    "\n",
    "# Adding labels and title\n",
    "plt.xlabel('Classes')\n",
    "plt.ylabel('Counts')\n",
    "plt.title('True vs Predicted Labels')\n",
    "plt.xticks(index, classes)\n",
    "plt.legend()\n",
    "\n",
    "# Show the plot\n",
    "plt.show()"
   ]
  }
 ],
 "metadata": {
  "kernelspec": {
   "display_name": "Python 3",
   "language": "python",
   "name": "python3"
  },
  "language_info": {
   "codemirror_mode": {
    "name": "ipython",
    "version": 3
   },
   "file_extension": ".py",
   "mimetype": "text/x-python",
   "name": "python",
   "nbconvert_exporter": "python",
   "pygments_lexer": "ipython3",
   "version": "3.10.4"
  }
 },
 "nbformat": 4,
 "nbformat_minor": 2
}

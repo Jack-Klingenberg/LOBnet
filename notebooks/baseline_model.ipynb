{
 "cells": [
  {
   "cell_type": "code",
   "execution_count": 2,
   "metadata": {},
   "outputs": [],
   "source": [
    "import pandas as pd \n",
    "import numpy as np\n",
    "import torch\n",
    "import os"
   ]
  },
  {
   "cell_type": "code",
   "execution_count": 3,
   "metadata": {},
   "outputs": [],
   "source": [
    "datapath = \"../data/BenchmarkDatasets_csv/NoAuction/1.NoAuction_Zscore/NoAuction_Zscore_Training\"\n",
    "csv_files = [f for f in os.listdir(datapath) if f.endswith('.csv')]"
   ]
  },
  {
   "cell_type": "code",
   "execution_count": 5,
   "metadata": {},
   "outputs": [],
   "source": [
    "def split_into_windows(df, window_size=100):\n",
    "    \"\"\"\n",
    "    Split a Pandas DataFrame into non-overlapping windows.\n",
    "    \n",
    "    Parameters:\n",
    "    df (pandas.DataFrame): The input DataFrame to be split.\n",
    "    window_size (int): The size of each window (number of columns).\n",
    "    \n",
    "    Returns:\n",
    "    list of pandas.DataFrame: A list of DataFrame windows.\n",
    "    \"\"\"\n",
    "    num_windows = df.shape[1] // window_size\n",
    "    windows = []\n",
    "    for i in range(num_windows):\n",
    "        start = i * window_size\n",
    "        end = start + window_size\n",
    "        windows.append(df.iloc[:, start:end])\n",
    "    return windows"
   ]
  },
  {
   "cell_type": "code",
   "execution_count": 34,
   "metadata": {},
   "outputs": [
    {
     "name": "stdout",
     "output_type": "stream",
     "text": [
      "Working on file 0\n"
     ]
    }
   ],
   "source": [
    "X_train_lst = []\n",
    "Y_train_lst = []\n",
    "for i,f in enumerate(csv_files):\n",
    "    print(f\"Working on file {i}\")\n",
    "    df = pd.read_csv(os.path.join(datapath, f), header=None)\n",
    "    X_train_lst += split_into_windows(df.iloc[0:40,:], window_size=100)\n",
    "    Y_train_lst += split_into_windows(df.iloc[-5:,:]) \n",
    "    break"
   ]
  },
  {
   "cell_type": "code",
   "execution_count": 51,
   "metadata": {},
   "outputs": [],
   "source": [
    "X_train = np.array(X_train_lst)\n",
    "\n",
    "# Naively ignore all information about the orderbook in order to get a baseline. Here, we are looking at the deviation from the end of the \n",
    "# window to a point 10 events into the future. See pg 13 of https://arxiv.org/pdf/1705.03233\n",
    "Y_train = np.array(Y_train_lst)[:,-1,-1] \n",
    "    "
   ]
  },
  {
   "cell_type": "code",
   "execution_count": 53,
   "metadata": {},
   "outputs": [
    {
     "name": "stdout",
     "output_type": "stream",
     "text": [
      "(395, 40, 100)\n",
      "(395,)\n"
     ]
    }
   ],
   "source": [
    "print(X_train.shape)\n",
    "print(Y_train.shape)"
   ]
  },
  {
   "cell_type": "code",
   "execution_count": null,
   "metadata": {},
   "outputs": [],
   "source": []
  }
 ],
 "metadata": {
  "kernelspec": {
   "display_name": "base",
   "language": "python",
   "name": "python3"
  },
  "language_info": {
   "codemirror_mode": {
    "name": "ipython",
    "version": 3
   },
   "file_extension": ".py",
   "mimetype": "text/x-python",
   "name": "python",
   "nbconvert_exporter": "python",
   "pygments_lexer": "ipython3",
   "version": "3.9.6"
  }
 },
 "nbformat": 4,
 "nbformat_minor": 2
}

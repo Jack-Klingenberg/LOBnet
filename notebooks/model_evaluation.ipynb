{
 "cells": [
  {
   "cell_type": "code",
   "execution_count": 5,
   "metadata": {},
   "outputs": [],
   "source": [
    "import sys\n",
    "sys.path.append('..')\n",
    "\n",
    "import torch\n",
    "import os\n",
    "import torch.nn as nn\n",
    "import pandas as pd \n",
    "import numpy as np\n",
    "from torch.utils.data import random_split, DataLoader\n",
    "from sklearn.metrics import classification_report, confusion_matrix\n",
    "import seaborn as sns\n",
    "import matplotlib.pyplot as plt\n",
    "from tqdm.auto import tqdm\n",
    "from LOBnet.Orderbooks import FI2010_Orderbook_Optimized"
   ]
  },
  {
   "cell_type": "code",
   "execution_count": null,
   "metadata": {},
   "outputs": [],
   "source": [
    "datapath = os.path.abspath(os.path.join(os.path.dirname(os.getcwd()), \"data\", \"BenchmarkDatasets_csv\", \"Auction\", \"1.Auction_Zscore\", \"Auction_Zscore_Testing\"))\n",
    "window_size = 100\n",
    "overlap_percent = 25  # 25% overlap between windows\n",
    "num_workers = 5"
   ]
  },
  {
   "cell_type": "code",
   "execution_count": 7,
   "metadata": {},
   "outputs": [
    {
     "name": "stderr",
     "output_type": "stream",
     "text": [
      "/Library/Frameworks/Python.framework/Versions/3.10/lib/python3.10/site-packages/threadpoolctl.py:1214: RuntimeWarning: \n",
      "Found Intel OpenMP ('libiomp') and LLVM OpenMP ('libomp') loaded at\n",
      "the same time. Both libraries are known to be incompatible and this\n",
      "can cause random crashes or deadlocks on Linux when loaded in the\n",
      "same Python program.\n",
      "Using threadpoolctl may cause crashes or deadlocks. For more\n",
      "information and possible workarounds, please see\n",
      "    https://github.com/joblib/threadpoolctl/blob/master/multiple_openmp.md\n",
      "\n",
      "  warnings.warn(msg, RuntimeWarning)\n",
      "/Library/Frameworks/Python.framework/Versions/3.10/lib/python3.10/site-packages/threadpoolctl.py:1214: RuntimeWarning: \n",
      "Found Intel OpenMP ('libiomp') and LLVM OpenMP ('libomp') loaded at\n",
      "the same time. Both libraries are known to be incompatible and this\n",
      "can cause random crashes or deadlocks on Linux when loaded in the\n",
      "same Python program.\n",
      "Using threadpoolctl may cause crashes or deadlocks. For more\n",
      "information and possible workarounds, please see\n",
      "    https://github.com/joblib/threadpoolctl/blob/master/multiple_openmp.md\n",
      "\n",
      "  warnings.warn(msg, RuntimeWarning)\n",
      "/Library/Frameworks/Python.framework/Versions/3.10/lib/python3.10/site-packages/threadpoolctl.py:1214: RuntimeWarning: \n",
      "Found Intel OpenMP ('libiomp') and LLVM OpenMP ('libomp') loaded at\n",
      "the same time. Both libraries are known to be incompatible and this\n",
      "can cause random crashes or deadlocks on Linux when loaded in the\n",
      "same Python program.\n",
      "Using threadpoolctl may cause crashes or deadlocks. For more\n",
      "information and possible workarounds, please see\n",
      "    https://github.com/joblib/threadpoolctl/blob/master/multiple_openmp.md\n",
      "\n",
      "  warnings.warn(msg, RuntimeWarning)\n",
      "/Library/Frameworks/Python.framework/Versions/3.10/lib/python3.10/site-packages/threadpoolctl.py:1214: RuntimeWarning: \n",
      "Found Intel OpenMP ('libiomp') and LLVM OpenMP ('libomp') loaded at\n",
      "the same time. Both libraries are known to be incompatible and this\n",
      "can cause random crashes or deadlocks on Linux when loaded in the\n",
      "same Python program.\n",
      "Using threadpoolctl may cause crashes or deadlocks. For more\n",
      "information and possible workarounds, please see\n",
      "    https://github.com/joblib/threadpoolctl/blob/master/multiple_openmp.md\n",
      "\n",
      "  warnings.warn(msg, RuntimeWarning)\n",
      "/Library/Frameworks/Python.framework/Versions/3.10/lib/python3.10/site-packages/threadpoolctl.py:1214: RuntimeWarning: \n",
      "Found Intel OpenMP ('libiomp') and LLVM OpenMP ('libomp') loaded at\n",
      "the same time. Both libraries are known to be incompatible and this\n",
      "can cause random crashes or deadlocks on Linux when loaded in the\n",
      "same Python program.\n",
      "Using threadpoolctl may cause crashes or deadlocks. For more\n",
      "information and possible workarounds, please see\n",
      "    https://github.com/joblib/threadpoolctl/blob/master/multiple_openmp.md\n",
      "\n",
      "  warnings.warn(msg, RuntimeWarning)\n",
      "Processing CSV Files: 100%|██████████| 9/9 [00:17<00:00,  1.94s/it]"
     ]
    },
    {
     "name": "stdout",
     "output_type": "stream",
     "text": [
      "\n",
      "Raw price movement statistics:\n",
      "Mean: 1.9958\n",
      "Std: 0.8641\n",
      "Min: 1.0000\n",
      "Max: 3.0000\n",
      "\n",
      "Label distribution:\n",
      "0    2057\n",
      "1    1388\n",
      "2    2034\n",
      "Name: count, dtype: int64\n"
     ]
    },
    {
     "name": "stderr",
     "output_type": "stream",
     "text": [
      "\n"
     ]
    }
   ],
   "source": [
    "# initialize dataset\n",
    "dataset = FI2010_Orderbook_Optimized(\n",
    "    root_path=datapath,\n",
    "    window_size=window_size,\n",
    "    overlap_percent=overlap_percent,\n",
    "    num_workers=num_workers,\n",
    "    verbose=True\n",
    ")"
   ]
  },
  {
   "cell_type": "code",
   "execution_count": 8,
   "metadata": {},
   "outputs": [
    {
     "name": "stdout",
     "output_type": "stream",
     "text": [
      "Test set size: 5479\n"
     ]
    }
   ],
   "source": [
    "# Load dataset\n",
    "\n",
    "batch_size = 32\n",
    "test_loader = DataLoader(\n",
    "    dataset,\n",
    "    batch_size=batch_size,\n",
    "    shuffle=False,\n",
    "    num_workers=0,\n",
    "    pin_memory=True if torch.cuda.is_available() else False,\n",
    "    collate_fn=lambda batch: (\n",
    "        torch.stack([x[0] for x in batch]).transpose(1, 2).unsqueeze(1),\n",
    "        torch.stack([x[1] for x in batch])\n",
    "    )   \n",
    ")\n",
    "\n",
    "print(f\"Test set size: {len(dataset)}\")"
   ]
  },
  {
   "cell_type": "code",
   "execution_count": 9,
   "metadata": {},
   "outputs": [],
   "source": [
    "# Model Imports\n",
    "\n",
    "from LOBnet.Models import BaselineDeepLOB\n",
    "# from LOBnet.Models import DeepLOB_Network_v1\n",
    "from LOBnet.Models import DeepLOB_Network_v2\n",
    "# from LOBnet.Models import DeepLOB_Network_v3\n",
    "from LOBnet.Models import TransformerLOB"
   ]
  },
  {
   "cell_type": "code",
   "execution_count": 10,
   "metadata": {},
   "outputs": [],
   "source": [
    "# Model List\n",
    "\n",
    "device = torch.device('cuda' if torch.cuda.is_available() else 'cpu')\n",
    "\n",
    "models = {\n",
    "    \"baseline_model\" : BaselineDeepLOB(y_len=3,device=device).to(device),\n",
    "    # \"transformer_model\" : TransformerLOB(y_len=3, device=device).to(device),\n",
    "    # \"deepLOB_v1\" : DeepLOB_Network_v1(y_len=3, device=device).to(device),\n",
    "    # \"deepLOB_v2\" : DeepLOB_Network_v2(y_len=3, device=device).to(device),\n",
    "    \"deepLOB_v2\" : DeepLOB_Network_v2().to(device),\n",
    "}"
   ]
  },
  {
   "cell_type": "code",
   "execution_count": 11,
   "metadata": {},
   "outputs": [],
   "source": [
    "# Ripped from updated_models\n",
    "\n",
    "def evaluate_model(model, test_loader, device):\n",
    "    all_predictions = []\n",
    "    all_labels = []\n",
    "    \n",
    "    with torch.no_grad():\n",
    "        for batch_X, batch_y in test_loader:\n",
    "            batch_X, batch_y = batch_X.to(device), batch_y.to(device)\n",
    "            outputs = model(batch_X)\n",
    "            \n",
    "            # convert one-hot encoded outputs to class predictions\n",
    "            predictions = outputs.argmax(dim=1)\n",
    "            true_labels = batch_y.argmax(dim=1)\n",
    "            \n",
    "            all_predictions.extend(predictions.cpu().numpy())\n",
    "            all_labels.extend(true_labels.cpu().numpy())\n",
    "    \n",
    "    return all_predictions, all_labels"
   ]
  },
  {
   "cell_type": "code",
   "execution_count": null,
   "metadata": {},
   "outputs": [
    {
     "name": "stdout",
     "output_type": "stream",
     "text": [
      "/Users/tommydenezza/Desktop/DeepLearning/LOBnet/bestModels/deepLOB_v2.pth\n",
      "File not found: /Users/tommydenezza/Desktop/DeepLearning/LOBnet/best_models/deepLOB_v2.pth\n"
     ]
    }
   ],
   "source": [
    "print(\"/Users/tommydenezza/Desktop/DeepLearning/LOBnet/bestModels/deepLOB_v2.pth\")\n",
    "model_path = \n",
    "if os.path.isfile(model_path):\n",
    "    print(f\"File exists: {model_path}\")\n",
    "else:\n",
    "    print(f\"File not found: {model_path}\")"
   ]
  },
  {
   "cell_type": "code",
   "execution_count": null,
   "metadata": {},
   "outputs": [
    {
     "name": "stdout",
     "output_type": "stream",
     "text": [
      "baseline_model\n",
      "No saved model found at /Users/tommydenezza/Desktop/DeepLearning/LOBnet/bestModels/baseline_model.pth. Please train the model first.\n",
      "deepLOB_v2\n",
      "Loading saved model from /Users/tommydenezza/Desktop/DeepLearning/LOBnet/bestModels/deepLOB_v2.pth\n",
      "\n",
      "deepLOB_v2:\n",
      "Classification Report:\n",
      "              precision    recall  f1-score   support\n",
      "\n",
      " No Movement       0.72      0.70      0.71      2057\n",
      "          Up       0.78      0.77      0.77      1388\n",
      "        Down       0.72      0.74      0.73      2034\n",
      "\n",
      "    accuracy                           0.73      5479\n",
      "   macro avg       0.74      0.74      0.74      5479\n",
      "weighted avg       0.73      0.73      0.73      5479\n",
      "\n"
     ]
    },
    {
     "data": {
      "image/png": "[encoded data removed]",
      "text/plain": [
       "<Figure size 1000x800 with 2 Axes>"
      ]
     },
     "metadata": {},
     "output_type": "display_data"
    }
   ],
   "source": [
    "for model_name, model in models.items():\n",
    "    model_path = os.path.abspath(os.path.join(\"..\", \"bestModels\", model_name + \".pth\"))\n",
    "    if os.path.exists(model_path):\n",
    "        print(f\"Loading saved model from {model_path}\")\n",
    "        checkpoint = torch.load(model_path, map_location=device)\n",
    "        model.load_state_dict(checkpoint['model_state_dict'])\n",
    "        model.eval()  # set to evaluation mode\n",
    "        predictions, true_labels = evaluate_model(model, test_loader, device)\n",
    "\n",
    "        print(f\"\\n{model_name}:\\nClassification Report:\")\n",
    "        print(classification_report(true_labels, predictions, \n",
    "                                target_names=['No Movement', 'Up', 'Down']))\n",
    "\n",
    "        plt.figure(figsize=(10, 8))\n",
    "        cm = confusion_matrix(true_labels, predictions)\n",
    "        sns.heatmap(cm, annot=True, fmt='d', cmap='Blues',\n",
    "                    xticklabels=['No Movement', 'Up', 'Down'],\n",
    "                    yticklabels=['No Movement', 'Up', 'Down'])\n",
    "        plt.title('Confusion Matrix')\n",
    "        plt.xlabel('Predicted Label')\n",
    "        plt.ylabel('True Label')\n",
    "        plt.show()\n",
    "    else:\n",
    "        print(f\"No saved model found at {model_path}. Please train the model first.\")\n",
    "\n",
    "    "
   ]
  }
 ],
 "metadata": {
  "kernelspec": {
   "display_name": "Python 3",
   "language": "python",
   "name": "python3"
  },
  "language_info": {
   "codemirror_mode": {
    "name": "ipython",
    "version": 3
   },
   "file_extension": ".py",
   "mimetype": "text/x-python",
   "name": "python",
   "nbconvert_exporter": "python",
   "pygments_lexer": "ipython3",
   "version": "3.10.4"
  }
 },
 "nbformat": 4,
 "nbformat_minor": 2
}

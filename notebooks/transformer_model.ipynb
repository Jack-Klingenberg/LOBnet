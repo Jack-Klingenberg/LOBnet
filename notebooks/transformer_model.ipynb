{
 "cells": [
  {
   "cell_type": "code",
   "execution_count": 4,
   "metadata": {},
   "outputs": [],
   "source": [
    "import sys\n",
    "sys.path.append('..')\n",
    "\n",
    "import torch\n",
    "import os\n",
    "import torch.nn as nn\n",
    "import pandas as pd \n",
    "import numpy as np\n",
    "from torch.utils.data import random_split, DataLoader\n",
    "from sklearn.metrics import classification_report, confusion_matrix\n",
    "import seaborn as sns\n",
    "import matplotlib.pyplot as plt\n",
    "from tqdm.auto import tqdm\n",
    "from LOBnet.Models import TransformerLOB\n",
    "from LOBnet.Orderbooks import FI2010_Orderbook_Optimized"
   ]
  },
  {
   "cell_type": "code",
   "execution_count": 10,
   "metadata": {},
   "outputs": [],
   "source": [
    "datapath = \"/home/jackklingenberg/Projects/LOBnet/data/BenchmarkDatasets_csv/BenchmarkDatasets/BenchmarkDatasets/NoAuction/1.NoAuction_Zscore/NoAuction_Zscore_Training\"\n",
    "window_size = 100\n",
    "overlap_percent = 0  # 25% overlap between windows\n",
    "num_workers = 9\n"
   ]
  },
  {
   "cell_type": "code",
   "execution_count": 11,
   "metadata": {},
   "outputs": [
    {
     "name": "stderr",
     "output_type": "stream",
     "text": [
      "Processing CSV Files:  67%|██████▋   | 6/9 [01:01<00:36, 12.15s/it]"
     ]
    },
    {
     "name": "stdout",
     "output_type": "stream",
     "text": [
      "Error processing file /home/jackklingenberg/Projects/LOBnet/data/BenchmarkDatasets_csv/BenchmarkDatasets/BenchmarkDatasets/NoAuction/1.NoAuction_Zscore/NoAuction_Zscore_Training/Train_Dst_NoAuction_ZScore_CF_8.csv: A process in the process pool was terminated abruptly while the future was running or pending.\n",
      "Error processing file /home/jackklingenberg/Projects/LOBnet/data/BenchmarkDatasets_csv/BenchmarkDatasets/BenchmarkDatasets/NoAuction/1.NoAuction_Zscore/NoAuction_Zscore_Training/Train_Dst_NoAuction_ZScore_CF_7.csv: A process in the process pool was terminated abruptly while the future was running or pending.\n",
      "Error processing file /home/jackklingenberg/Projects/LOBnet/data/BenchmarkDatasets_csv/BenchmarkDatasets/BenchmarkDatasets/NoAuction/1.NoAuction_Zscore/NoAuction_Zscore_Training/Train_Dst_NoAuction_ZScore_CF_6.csv: A process in the process pool was terminated abruptly while the future was running or pending.\n",
      "Error processing file /home/jackklingenberg/Projects/LOBnet/data/BenchmarkDatasets_csv/BenchmarkDatasets/BenchmarkDatasets/NoAuction/1.NoAuction_Zscore/NoAuction_Zscore_Training/Train_Dst_NoAuction_ZScore_CF_9.csv: A process in the process pool was terminated abruptly while the future was running or pending.\n"
     ]
    },
    {
     "name": "stderr",
     "output_type": "stream",
     "text": [
      "Processing CSV Files: 100%|██████████| 9/9 [01:01<00:00,  6.88s/it]\n"
     ]
    },
    {
     "name": "stdout",
     "output_type": "stream",
     "text": [
      "\n",
      "Raw price movement statistics:\n",
      "Mean: 1.9846\n",
      "Std: 0.8952\n",
      "Min: 1.0000\n",
      "Max: 3.0000\n",
      "\n",
      "Label distribution:\n",
      "0    2230\n",
      "1    1083\n",
      "2    2146\n",
      "Name: count, dtype: int64\n"
     ]
    }
   ],
   "source": [
    "# initialize dataset\n",
    "dataset = FI2010_Orderbook_Optimized(\n",
    "    root_path=datapath,\n",
    "    window_size=window_size,\n",
    "    overlap_percent=overlap_percent,\n",
    "    num_workers=num_workers, \n",
    "    verbose=True\n",
    ")"
   ]
  },
  {
   "cell_type": "code",
   "execution_count": 12,
   "metadata": {},
   "outputs": [
    {
     "name": "stdout",
     "output_type": "stream",
     "text": [
      "Total dataset size: 5459\n",
      "Training set size: 4367\n",
      "Test set size: 1092\n"
     ]
    }
   ],
   "source": [
    "# create train/test splits (80/20)\n",
    "total_size = len(dataset)\n",
    "train_size = int(0.8 * total_size)\n",
    "test_size = total_size - train_size\n",
    "\n",
    "train_dataset, test_dataset = random_split(\n",
    "    dataset, \n",
    "    [train_size, test_size],\n",
    "    generator=torch.Generator().manual_seed(42)  # for reproducibility\n",
    ")\n",
    "\n",
    "# Create DataLoaders\n",
    "batch_size = 32\n",
    "train_loader = DataLoader(\n",
    "    train_dataset,\n",
    "    batch_size=batch_size,\n",
    "    shuffle=True,\n",
    "    num_workers=0,\n",
    "    pin_memory=True if torch.cuda.is_available() else False,\n",
    "    collate_fn=lambda batch: (\n",
    "        torch.stack([x[0] for x in batch]).transpose(1, 2).unsqueeze(1),\n",
    "        torch.stack([x[1] for x in batch])\n",
    "    )\n",
    ")\n",
    "\n",
    "test_loader = DataLoader(\n",
    "    test_dataset,\n",
    "    batch_size=batch_size,\n",
    "    shuffle=False,\n",
    "    num_workers=0,\n",
    "    pin_memory=True if torch.cuda.is_available() else False,\n",
    "    collate_fn=lambda batch: (\n",
    "        torch.stack([x[0] for x in batch]).transpose(1, 2).unsqueeze(1),\n",
    "        torch.stack([x[1] for x in batch])\n",
    "    )   \n",
    ")\n",
    "\n",
    "print(f\"Total dataset size: {total_size}\")\n",
    "print(f\"Training set size: {len(train_dataset)}\")\n",
    "print(f\"Test set size: {len(test_dataset)}\")"
   ]
  },
  {
   "cell_type": "code",
   "execution_count": 13,
   "metadata": {},
   "outputs": [
    {
     "name": "stdout",
     "output_type": "stream",
     "text": [
      "Batch X shape: torch.Size([32, 1, 100, 40])\n",
      "Batch y shape: torch.Size([32, 3])\n"
     ]
    }
   ],
   "source": [
    "# look at first batch\n",
    "for batch in train_loader:\n",
    "    batch_X, batch_y = batch  # unpack batch tuple\n",
    "    print(f\"Batch X shape: {batch_X.shape}\")  # should be (batch_size, 100, 40)\n",
    "    print(f\"Batch y shape: {batch_y.shape}\")\n",
    "    break"
   ]
  },
  {
   "cell_type": "code",
   "execution_count": 33,
   "metadata": {},
   "outputs": [
    {
     "name": "stderr",
     "output_type": "stream",
     "text": [
      "Epoch 1/50 [Train]: 100%|██████████| 137/137 [00:01<00:00, 75.30it/s, loss=1.09] \n",
      "Epoch 1/50 [Val]: 100%|██████████| 35/35 [00:00<00:00, 208.46it/s, loss=1.32] \n"
     ]
    },
    {
     "name": "stdout",
     "output_type": "stream",
     "text": [
      "\n",
      "New best model saved! Validation Loss: 1.0510\n",
      "\n",
      "Epoch 1/50:\n",
      "Average Training Loss: 1.0464\n",
      "Average Validation Loss: 1.0510\n"
     ]
    },
    {
     "name": "stderr",
     "output_type": "stream",
     "text": [
      "Epoch 2/50 [Train]: 100%|██████████| 137/137 [00:01<00:00, 82.53it/s, loss=1.09] \n",
      "Epoch 2/50 [Val]: 100%|██████████| 35/35 [00:00<00:00, 219.74it/s, loss=1.22] \n"
     ]
    },
    {
     "name": "stdout",
     "output_type": "stream",
     "text": [
      "\n",
      "New best model saved! Validation Loss: 1.0334\n",
      "\n",
      "Epoch 2/50:\n",
      "Average Training Loss: 1.0352\n",
      "Average Validation Loss: 1.0334\n"
     ]
    },
    {
     "name": "stderr",
     "output_type": "stream",
     "text": [
      "Epoch 3/50 [Train]: 100%|██████████| 137/137 [00:01<00:00, 92.34it/s, loss=1.06] \n",
      "Epoch 3/50 [Val]: 100%|██████████| 35/35 [00:00<00:00, 226.73it/s, loss=1.21] \n"
     ]
    },
    {
     "name": "stdout",
     "output_type": "stream",
     "text": [
      "\n",
      "Epoch 3/50:\n",
      "Average Training Loss: 1.0283\n",
      "Average Validation Loss: 1.0398\n"
     ]
    },
    {
     "name": "stderr",
     "output_type": "stream",
     "text": [
      "Epoch 4/50 [Train]: 100%|██████████| 137/137 [00:01<00:00, 92.13it/s, loss=1.02] \n",
      "Epoch 4/50 [Val]: 100%|██████████| 35/35 [00:00<00:00, 247.12it/s, loss=1.18] \n"
     ]
    },
    {
     "name": "stdout",
     "output_type": "stream",
     "text": [
      "\n",
      "Epoch 4/50:\n",
      "Average Training Loss: 1.0254\n",
      "Average Validation Loss: 1.0414\n"
     ]
    },
    {
     "name": "stderr",
     "output_type": "stream",
     "text": [
      "Epoch 5/50 [Train]: 100%|██████████| 137/137 [00:01<00:00, 92.20it/s, loss=1.1]  \n",
      "Epoch 5/50 [Val]: 100%|██████████| 35/35 [00:00<00:00, 237.15it/s, loss=1.23] \n"
     ]
    },
    {
     "name": "stdout",
     "output_type": "stream",
     "text": [
      "\n",
      "New best model saved! Validation Loss: 1.0333\n",
      "\n",
      "Epoch 5/50:\n",
      "Average Training Loss: 1.0199\n",
      "Average Validation Loss: 1.0333\n"
     ]
    },
    {
     "name": "stderr",
     "output_type": "stream",
     "text": [
      "Epoch 6/50 [Train]: 100%|██████████| 137/137 [00:01<00:00, 85.46it/s, loss=1.07] \n",
      "Epoch 6/50 [Val]: 100%|██████████| 35/35 [00:00<00:00, 238.24it/s, loss=1.14] \n"
     ]
    },
    {
     "name": "stdout",
     "output_type": "stream",
     "text": [
      "\n",
      "New best model saved! Validation Loss: 1.0289\n",
      "\n",
      "Epoch 6/50:\n",
      "Average Training Loss: 1.0126\n",
      "Average Validation Loss: 1.0289\n"
     ]
    },
    {
     "name": "stderr",
     "output_type": "stream",
     "text": [
      "Epoch 7/50 [Train]: 100%|██████████| 137/137 [00:01<00:00, 86.78it/s, loss=1.02] \n",
      "Epoch 7/50 [Val]: 100%|██████████| 35/35 [00:00<00:00, 220.43it/s, loss=1.09] \n"
     ]
    },
    {
     "name": "stdout",
     "output_type": "stream",
     "text": [
      "\n",
      "Epoch 7/50:\n",
      "Average Training Loss: 1.0069\n",
      "Average Validation Loss: 1.0350\n"
     ]
    },
    {
     "name": "stderr",
     "output_type": "stream",
     "text": [
      "Epoch 8/50 [Train]: 100%|██████████| 137/137 [00:01<00:00, 92.01it/s, loss=1]    \n",
      "Epoch 8/50 [Val]: 100%|██████████| 35/35 [00:00<00:00, 253.77it/s, loss=1.18] \n"
     ]
    },
    {
     "name": "stdout",
     "output_type": "stream",
     "text": [
      "\n",
      "Epoch 8/50:\n",
      "Average Training Loss: 1.0024\n",
      "Average Validation Loss: 1.0433\n"
     ]
    },
    {
     "name": "stderr",
     "output_type": "stream",
     "text": [
      "Epoch 9/50 [Train]: 100%|██████████| 137/137 [00:01<00:00, 89.12it/s, loss=1.03] \n",
      "Epoch 9/50 [Val]: 100%|██████████| 35/35 [00:00<00:00, 252.87it/s, loss=1.22] \n"
     ]
    },
    {
     "name": "stdout",
     "output_type": "stream",
     "text": [
      "\n",
      "Epoch 9/50:\n",
      "Average Training Loss: 1.0049\n",
      "Average Validation Loss: 1.0402\n"
     ]
    },
    {
     "name": "stderr",
     "output_type": "stream",
     "text": [
      "Epoch 10/50 [Train]: 100%|██████████| 137/137 [00:01<00:00, 90.06it/s, loss=0.888]\n",
      "Epoch 10/50 [Val]: 100%|██████████| 35/35 [00:00<00:00, 223.46it/s, loss=1.14] \n"
     ]
    },
    {
     "name": "stdout",
     "output_type": "stream",
     "text": [
      "\n",
      "Epoch 10/50:\n",
      "Average Training Loss: 0.9978\n",
      "Average Validation Loss: 1.0393\n"
     ]
    },
    {
     "name": "stderr",
     "output_type": "stream",
     "text": [
      "Epoch 11/50 [Train]: 100%|██████████| 137/137 [00:01<00:00, 85.71it/s, loss=0.916]\n",
      "Epoch 11/50 [Val]: 100%|██████████| 35/35 [00:00<00:00, 221.03it/s, loss=1.07] \n"
     ]
    },
    {
     "name": "stdout",
     "output_type": "stream",
     "text": [
      "\n",
      "Epoch 11/50:\n",
      "Average Training Loss: 0.9863\n",
      "Average Validation Loss: 1.0418\n"
     ]
    },
    {
     "name": "stderr",
     "output_type": "stream",
     "text": [
      "Epoch 12/50 [Train]: 100%|██████████| 137/137 [00:01<00:00, 96.68it/s, loss=0.936] \n",
      "Epoch 12/50 [Val]: 100%|██████████| 35/35 [00:00<00:00, 229.10it/s, loss=1.07] \n"
     ]
    },
    {
     "name": "stdout",
     "output_type": "stream",
     "text": [
      "\n",
      "Epoch 12/50:\n",
      "Average Training Loss: 0.9770\n",
      "Average Validation Loss: 1.0423\n"
     ]
    },
    {
     "name": "stderr",
     "output_type": "stream",
     "text": [
      "Epoch 13/50 [Train]: 100%|██████████| 137/137 [00:01<00:00, 91.42it/s, loss=1]    \n",
      "Epoch 13/50 [Val]: 100%|██████████| 35/35 [00:00<00:00, 220.41it/s, loss=1.09] \n"
     ]
    },
    {
     "name": "stdout",
     "output_type": "stream",
     "text": [
      "\n",
      "Epoch 13/50:\n",
      "Average Training Loss: 0.9722\n",
      "Average Validation Loss: 1.0331\n"
     ]
    },
    {
     "name": "stderr",
     "output_type": "stream",
     "text": [
      "Epoch 14/50 [Train]: 100%|██████████| 137/137 [00:01<00:00, 89.95it/s, loss=0.905]\n",
      "Epoch 14/50 [Val]: 100%|██████████| 35/35 [00:00<00:00, 236.81it/s, loss=1.24] \n"
     ]
    },
    {
     "name": "stdout",
     "output_type": "stream",
     "text": [
      "\n",
      "Epoch 14/50:\n",
      "Average Training Loss: 0.9657\n",
      "Average Validation Loss: 1.0526\n"
     ]
    },
    {
     "name": "stderr",
     "output_type": "stream",
     "text": [
      "Epoch 15/50 [Train]: 100%|██████████| 137/137 [00:01<00:00, 87.73it/s, loss=0.971]\n",
      "Epoch 15/50 [Val]: 100%|██████████| 35/35 [00:00<00:00, 244.37it/s, loss=1.11] \n"
     ]
    },
    {
     "name": "stdout",
     "output_type": "stream",
     "text": [
      "\n",
      "Epoch 15/50:\n",
      "Average Training Loss: 0.9590\n",
      "Average Validation Loss: 1.0363\n"
     ]
    },
    {
     "name": "stderr",
     "output_type": "stream",
     "text": [
      "Epoch 16/50 [Train]: 100%|██████████| 137/137 [00:01<00:00, 90.16it/s, loss=0.883]\n",
      "Epoch 16/50 [Val]: 100%|██████████| 35/35 [00:00<00:00, 240.26it/s, loss=1.21] \n"
     ]
    },
    {
     "name": "stdout",
     "output_type": "stream",
     "text": [
      "\n",
      "Epoch 16/50:\n",
      "Average Training Loss: 0.9502\n",
      "Average Validation Loss: 1.0475\n"
     ]
    },
    {
     "name": "stderr",
     "output_type": "stream",
     "text": [
      "Epoch 17/50 [Train]: 100%|██████████| 137/137 [00:01<00:00, 85.51it/s, loss=0.839]\n",
      "Epoch 17/50 [Val]: 100%|██████████| 35/35 [00:00<00:00, 240.54it/s, loss=1.05] \n"
     ]
    },
    {
     "name": "stdout",
     "output_type": "stream",
     "text": [
      "\n",
      "Epoch 17/50:\n",
      "Average Training Loss: 0.9471\n",
      "Average Validation Loss: 1.0306\n"
     ]
    },
    {
     "name": "stderr",
     "output_type": "stream",
     "text": [
      "Epoch 18/50 [Train]: 100%|██████████| 137/137 [00:01<00:00, 88.43it/s, loss=1.01] \n",
      "Epoch 18/50 [Val]: 100%|██████████| 35/35 [00:00<00:00, 233.26it/s, loss=1.1]  \n"
     ]
    },
    {
     "name": "stdout",
     "output_type": "stream",
     "text": [
      "\n",
      "Epoch 18/50:\n",
      "Average Training Loss: 0.9396\n",
      "Average Validation Loss: 1.0323\n"
     ]
    },
    {
     "name": "stderr",
     "output_type": "stream",
     "text": [
      "Epoch 19/50 [Train]: 100%|██████████| 137/137 [00:01<00:00, 100.70it/s, loss=0.855]\n",
      "Epoch 19/50 [Val]: 100%|██████████| 35/35 [00:00<00:00, 254.19it/s, loss=1.11] \n"
     ]
    },
    {
     "name": "stdout",
     "output_type": "stream",
     "text": [
      "\n",
      "New best model saved! Validation Loss: 1.0252\n",
      "\n",
      "Epoch 19/50:\n",
      "Average Training Loss: 0.9273\n",
      "Average Validation Loss: 1.0252\n"
     ]
    },
    {
     "name": "stderr",
     "output_type": "stream",
     "text": [
      "Epoch 20/50 [Train]: 100%|██████████| 137/137 [00:01<00:00, 88.44it/s, loss=0.699]\n",
      "Epoch 20/50 [Val]: 100%|██████████| 35/35 [00:00<00:00, 222.45it/s, loss=1.07] \n"
     ]
    },
    {
     "name": "stdout",
     "output_type": "stream",
     "text": [
      "\n",
      "New best model saved! Validation Loss: 1.0139\n",
      "\n",
      "Epoch 20/50:\n",
      "Average Training Loss: 0.9189\n",
      "Average Validation Loss: 1.0139\n"
     ]
    },
    {
     "name": "stderr",
     "output_type": "stream",
     "text": [
      "Epoch 21/50 [Train]: 100%|██████████| 137/137 [00:01<00:00, 78.48it/s, loss=0.768]\n",
      "Epoch 21/50 [Val]: 100%|██████████| 35/35 [00:00<00:00, 238.66it/s, loss=1.01] \n"
     ]
    },
    {
     "name": "stdout",
     "output_type": "stream",
     "text": [
      "\n",
      "Epoch 21/50:\n",
      "Average Training Loss: 0.9187\n",
      "Average Validation Loss: 1.0187\n"
     ]
    },
    {
     "name": "stderr",
     "output_type": "stream",
     "text": [
      "Epoch 22/50 [Train]: 100%|██████████| 137/137 [00:01<00:00, 85.18it/s, loss=0.932]\n",
      "Epoch 22/50 [Val]: 100%|██████████| 35/35 [00:00<00:00, 238.76it/s, loss=1.13] \n"
     ]
    },
    {
     "name": "stdout",
     "output_type": "stream",
     "text": [
      "\n",
      "Epoch 22/50:\n",
      "Average Training Loss: 0.9132\n",
      "Average Validation Loss: 1.0202\n"
     ]
    },
    {
     "name": "stderr",
     "output_type": "stream",
     "text": [
      "Epoch 23/50 [Train]: 100%|██████████| 137/137 [00:01<00:00, 88.15it/s, loss=0.951]\n",
      "Epoch 23/50 [Val]: 100%|██████████| 35/35 [00:00<00:00, 249.49it/s, loss=1.12] \n"
     ]
    },
    {
     "name": "stdout",
     "output_type": "stream",
     "text": [
      "\n",
      "Epoch 23/50:\n",
      "Average Training Loss: 0.9101\n",
      "Average Validation Loss: 1.0239\n"
     ]
    },
    {
     "name": "stderr",
     "output_type": "stream",
     "text": [
      "Epoch 24/50 [Train]: 100%|██████████| 137/137 [00:01<00:00, 85.39it/s, loss=1]    \n",
      "Epoch 24/50 [Val]: 100%|██████████| 35/35 [00:00<00:00, 219.71it/s, loss=1.19] \n"
     ]
    },
    {
     "name": "stdout",
     "output_type": "stream",
     "text": [
      "\n",
      "Epoch 24/50:\n",
      "Average Training Loss: 0.9075\n",
      "Average Validation Loss: 1.0193\n"
     ]
    },
    {
     "name": "stderr",
     "output_type": "stream",
     "text": [
      "Epoch 25/50 [Train]: 100%|██████████| 137/137 [00:01<00:00, 92.40it/s, loss=0.728]\n",
      "Epoch 25/50 [Val]: 100%|██████████| 35/35 [00:00<00:00, 209.05it/s, loss=1.13] \n"
     ]
    },
    {
     "name": "stdout",
     "output_type": "stream",
     "text": [
      "\n",
      "Epoch 25/50:\n",
      "Average Training Loss: 0.9023\n",
      "Average Validation Loss: 1.0151\n"
     ]
    },
    {
     "name": "stderr",
     "output_type": "stream",
     "text": [
      "Epoch 26/50 [Train]: 100%|██████████| 137/137 [00:01<00:00, 85.72it/s, loss=1.06] \n",
      "Epoch 26/50 [Val]: 100%|██████████| 35/35 [00:00<00:00, 217.18it/s, loss=1.13] \n"
     ]
    },
    {
     "name": "stdout",
     "output_type": "stream",
     "text": [
      "\n",
      "Epoch 26/50:\n",
      "Average Training Loss: 0.9017\n",
      "Average Validation Loss: 1.0194\n"
     ]
    },
    {
     "name": "stderr",
     "output_type": "stream",
     "text": [
      "Epoch 27/50 [Train]: 100%|██████████| 137/137 [00:01<00:00, 90.20it/s, loss=0.839]\n",
      "Epoch 27/50 [Val]: 100%|██████████| 35/35 [00:00<00:00, 212.29it/s, loss=1.08] \n"
     ]
    },
    {
     "name": "stdout",
     "output_type": "stream",
     "text": [
      "\n",
      "Epoch 27/50:\n",
      "Average Training Loss: 0.8972\n",
      "Average Validation Loss: 1.0145\n"
     ]
    },
    {
     "name": "stderr",
     "output_type": "stream",
     "text": [
      "Epoch 28/50 [Train]: 100%|██████████| 137/137 [00:01<00:00, 93.63it/s, loss=0.899]\n",
      "Epoch 28/50 [Val]: 100%|██████████| 35/35 [00:00<00:00, 257.43it/s, loss=1.16] \n"
     ]
    },
    {
     "name": "stdout",
     "output_type": "stream",
     "text": [
      "\n",
      "Epoch 28/50:\n",
      "Average Training Loss: 0.8903\n",
      "Average Validation Loss: 1.0180\n"
     ]
    },
    {
     "name": "stderr",
     "output_type": "stream",
     "text": [
      "Epoch 29/50 [Train]: 100%|██████████| 137/137 [00:01<00:00, 95.23it/s, loss=0.938]\n",
      "Epoch 29/50 [Val]: 100%|██████████| 35/35 [00:00<00:00, 240.21it/s, loss=1.11] \n"
     ]
    },
    {
     "name": "stdout",
     "output_type": "stream",
     "text": [
      "\n",
      "Epoch 29/50:\n",
      "Average Training Loss: 0.8901\n",
      "Average Validation Loss: 1.0192\n"
     ]
    },
    {
     "name": "stderr",
     "output_type": "stream",
     "text": [
      "Epoch 30/50 [Train]: 100%|██████████| 137/137 [00:01<00:00, 96.86it/s, loss=0.917]\n",
      "Epoch 30/50 [Val]: 100%|██████████| 35/35 [00:00<00:00, 281.77it/s, loss=1.17] \n"
     ]
    },
    {
     "name": "stdout",
     "output_type": "stream",
     "text": [
      "\n",
      "Epoch 30/50:\n",
      "Average Training Loss: 0.8940\n",
      "Average Validation Loss: 1.0188\n"
     ]
    },
    {
     "name": "stderr",
     "output_type": "stream",
     "text": [
      "Epoch 31/50 [Train]: 100%|██████████| 137/137 [00:01<00:00, 98.82it/s, loss=1.01] \n",
      "Epoch 31/50 [Val]: 100%|██████████| 35/35 [00:00<00:00, 268.83it/s, loss=1.14] \n"
     ]
    },
    {
     "name": "stdout",
     "output_type": "stream",
     "text": [
      "\n",
      "Epoch 31/50:\n",
      "Average Training Loss: 0.8928\n",
      "Average Validation Loss: 1.0250\n"
     ]
    },
    {
     "name": "stderr",
     "output_type": "stream",
     "text": [
      "Epoch 32/50 [Train]: 100%|██████████| 137/137 [00:01<00:00, 89.27it/s, loss=1.11] \n",
      "Epoch 32/50 [Val]: 100%|██████████| 35/35 [00:00<00:00, 254.14it/s, loss=1.18] \n"
     ]
    },
    {
     "name": "stdout",
     "output_type": "stream",
     "text": [
      "\n",
      "Epoch 32/50:\n",
      "Average Training Loss: 0.8864\n",
      "Average Validation Loss: 1.0186\n"
     ]
    },
    {
     "name": "stderr",
     "output_type": "stream",
     "text": [
      "Epoch 33/50 [Train]: 100%|██████████| 137/137 [00:01<00:00, 96.21it/s, loss=1.15] \n",
      "Epoch 33/50 [Val]: 100%|██████████| 35/35 [00:00<00:00, 245.81it/s, loss=1.16] \n"
     ]
    },
    {
     "name": "stdout",
     "output_type": "stream",
     "text": [
      "\n",
      "Epoch 33/50:\n",
      "Average Training Loss: 0.8904\n",
      "Average Validation Loss: 1.0205\n"
     ]
    },
    {
     "name": "stderr",
     "output_type": "stream",
     "text": [
      "Epoch 34/50 [Train]: 100%|██████████| 137/137 [00:01<00:00, 92.19it/s, loss=1.06] \n",
      "Epoch 34/50 [Val]: 100%|██████████| 35/35 [00:00<00:00, 233.47it/s, loss=1.16] \n"
     ]
    },
    {
     "name": "stdout",
     "output_type": "stream",
     "text": [
      "\n",
      "Epoch 34/50:\n",
      "Average Training Loss: 0.8838\n",
      "Average Validation Loss: 1.0196\n"
     ]
    },
    {
     "name": "stderr",
     "output_type": "stream",
     "text": [
      "Epoch 35/50 [Train]: 100%|██████████| 137/137 [00:01<00:00, 99.40it/s, loss=0.834] \n",
      "Epoch 35/50 [Val]: 100%|██████████| 35/35 [00:00<00:00, 255.65it/s, loss=1.19] \n"
     ]
    },
    {
     "name": "stdout",
     "output_type": "stream",
     "text": [
      "\n",
      "Epoch 35/50:\n",
      "Average Training Loss: 0.8873\n",
      "Average Validation Loss: 1.0226\n"
     ]
    },
    {
     "name": "stderr",
     "output_type": "stream",
     "text": [
      "Epoch 36/50 [Train]: 100%|██████████| 137/137 [00:01<00:00, 93.94it/s, loss=0.816]\n",
      "Epoch 36/50 [Val]: 100%|██████████| 35/35 [00:00<00:00, 270.57it/s, loss=1.17] \n"
     ]
    },
    {
     "name": "stdout",
     "output_type": "stream",
     "text": [
      "\n",
      "Epoch 36/50:\n",
      "Average Training Loss: 0.8893\n",
      "Average Validation Loss: 1.0174\n"
     ]
    },
    {
     "name": "stderr",
     "output_type": "stream",
     "text": [
      "Epoch 37/50 [Train]: 100%|██████████| 137/137 [00:01<00:00, 102.53it/s, loss=0.956]\n",
      "Epoch 37/50 [Val]: 100%|██████████| 35/35 [00:00<00:00, 269.27it/s, loss=1.18] \n"
     ]
    },
    {
     "name": "stdout",
     "output_type": "stream",
     "text": [
      "\n",
      "Epoch 37/50:\n",
      "Average Training Loss: 0.8846\n",
      "Average Validation Loss: 1.0186\n"
     ]
    },
    {
     "name": "stderr",
     "output_type": "stream",
     "text": [
      "Epoch 38/50 [Train]: 100%|██████████| 137/137 [00:01<00:00, 100.85it/s, loss=0.744]\n",
      "Epoch 38/50 [Val]: 100%|██████████| 35/35 [00:00<00:00, 188.56it/s, loss=1.16] \n"
     ]
    },
    {
     "name": "stdout",
     "output_type": "stream",
     "text": [
      "\n",
      "Epoch 38/50:\n",
      "Average Training Loss: 0.8893\n",
      "Average Validation Loss: 1.0181\n"
     ]
    },
    {
     "name": "stderr",
     "output_type": "stream",
     "text": [
      "Epoch 39/50 [Train]: 100%|██████████| 137/137 [00:01<00:00, 94.78it/s, loss=0.933]\n",
      "Epoch 39/50 [Val]: 100%|██████████| 35/35 [00:00<00:00, 236.63it/s, loss=1.18] \n"
     ]
    },
    {
     "name": "stdout",
     "output_type": "stream",
     "text": [
      "\n",
      "Epoch 39/50:\n",
      "Average Training Loss: 0.8863\n",
      "Average Validation Loss: 1.0165\n"
     ]
    },
    {
     "name": "stderr",
     "output_type": "stream",
     "text": [
      "Epoch 40/50 [Train]: 100%|██████████| 137/137 [00:01<00:00, 99.67it/s, loss=0.847] \n",
      "Epoch 40/50 [Val]: 100%|██████████| 35/35 [00:00<00:00, 228.14it/s, loss=1.18] \n"
     ]
    },
    {
     "name": "stdout",
     "output_type": "stream",
     "text": [
      "\n",
      "Epoch 40/50:\n",
      "Average Training Loss: 0.8864\n",
      "Average Validation Loss: 1.0168\n"
     ]
    },
    {
     "name": "stderr",
     "output_type": "stream",
     "text": [
      "Epoch 41/50 [Train]: 100%|██████████| 137/137 [00:01<00:00, 93.16it/s, loss=0.834]\n",
      "Epoch 41/50 [Val]: 100%|██████████| 35/35 [00:00<00:00, 284.45it/s, loss=1.19] \n"
     ]
    },
    {
     "name": "stdout",
     "output_type": "stream",
     "text": [
      "\n",
      "Epoch 41/50:\n",
      "Average Training Loss: 0.8837\n",
      "Average Validation Loss: 1.0204\n"
     ]
    },
    {
     "name": "stderr",
     "output_type": "stream",
     "text": [
      "Epoch 42/50 [Train]: 100%|██████████| 137/137 [00:01<00:00, 93.83it/s, loss=1.01] \n",
      "Epoch 42/50 [Val]: 100%|██████████| 35/35 [00:00<00:00, 244.93it/s, loss=1.17] \n"
     ]
    },
    {
     "name": "stdout",
     "output_type": "stream",
     "text": [
      "\n",
      "Epoch 42/50:\n",
      "Average Training Loss: 0.8852\n",
      "Average Validation Loss: 1.0212\n"
     ]
    },
    {
     "name": "stderr",
     "output_type": "stream",
     "text": [
      "Epoch 43/50 [Train]: 100%|██████████| 137/137 [00:01<00:00, 96.18it/s, loss=1]     \n",
      "Epoch 43/50 [Val]: 100%|██████████| 35/35 [00:00<00:00, 252.84it/s, loss=1.19] \n"
     ]
    },
    {
     "name": "stdout",
     "output_type": "stream",
     "text": [
      "\n",
      "Epoch 43/50:\n",
      "Average Training Loss: 0.8873\n",
      "Average Validation Loss: 1.0163\n"
     ]
    },
    {
     "name": "stderr",
     "output_type": "stream",
     "text": [
      "Epoch 44/50 [Train]: 100%|██████████| 137/137 [00:01<00:00, 94.84it/s, loss=1.22] \n",
      "Epoch 44/50 [Val]: 100%|██████████| 35/35 [00:00<00:00, 247.34it/s, loss=1.17] \n"
     ]
    },
    {
     "name": "stdout",
     "output_type": "stream",
     "text": [
      "\n",
      "Epoch 44/50:\n",
      "Average Training Loss: 0.8887\n",
      "Average Validation Loss: 1.0191\n"
     ]
    },
    {
     "name": "stderr",
     "output_type": "stream",
     "text": [
      "Epoch 45/50 [Train]: 100%|██████████| 137/137 [00:01<00:00, 84.99it/s, loss=0.751]\n",
      "Epoch 45/50 [Val]: 100%|██████████| 35/35 [00:00<00:00, 287.51it/s, loss=1.17] \n"
     ]
    },
    {
     "name": "stdout",
     "output_type": "stream",
     "text": [
      "\n",
      "Epoch 45/50:\n",
      "Average Training Loss: 0.8847\n",
      "Average Validation Loss: 1.0175\n"
     ]
    },
    {
     "name": "stderr",
     "output_type": "stream",
     "text": [
      "Epoch 46/50 [Train]: 100%|██████████| 137/137 [00:01<00:00, 89.86it/s, loss=1.14] \n",
      "Epoch 46/50 [Val]: 100%|██████████| 35/35 [00:00<00:00, 252.34it/s, loss=1.17] \n"
     ]
    },
    {
     "name": "stdout",
     "output_type": "stream",
     "text": [
      "\n",
      "Epoch 46/50:\n",
      "Average Training Loss: 0.8808\n",
      "Average Validation Loss: 1.0165\n"
     ]
    },
    {
     "name": "stderr",
     "output_type": "stream",
     "text": [
      "Epoch 47/50 [Train]: 100%|██████████| 137/137 [00:01<00:00, 95.71it/s, loss=0.722] \n",
      "Epoch 47/50 [Val]: 100%|██████████| 35/35 [00:00<00:00, 261.92it/s, loss=1.14] \n"
     ]
    },
    {
     "name": "stdout",
     "output_type": "stream",
     "text": [
      "\n",
      "Epoch 47/50:\n",
      "Average Training Loss: 0.8874\n",
      "Average Validation Loss: 1.0144\n"
     ]
    },
    {
     "name": "stderr",
     "output_type": "stream",
     "text": [
      "Epoch 48/50 [Train]: 100%|██████████| 137/137 [00:01<00:00, 102.11it/s, loss=0.96] \n",
      "Epoch 48/50 [Val]: 100%|██████████| 35/35 [00:00<00:00, 242.70it/s, loss=1.19] \n"
     ]
    },
    {
     "name": "stdout",
     "output_type": "stream",
     "text": [
      "\n",
      "Epoch 48/50:\n",
      "Average Training Loss: 0.8823\n",
      "Average Validation Loss: 1.0171\n"
     ]
    },
    {
     "name": "stderr",
     "output_type": "stream",
     "text": [
      "Epoch 49/50 [Train]: 100%|██████████| 137/137 [00:01<00:00, 101.63it/s, loss=1.09] \n",
      "Epoch 49/50 [Val]: 100%|██████████| 35/35 [00:00<00:00, 272.02it/s, loss=1.18] \n"
     ]
    },
    {
     "name": "stdout",
     "output_type": "stream",
     "text": [
      "\n",
      "Epoch 49/50:\n",
      "Average Training Loss: 0.8868\n",
      "Average Validation Loss: 1.0181\n"
     ]
    },
    {
     "name": "stderr",
     "output_type": "stream",
     "text": [
      "Epoch 50/50 [Train]: 100%|██████████| 137/137 [00:01<00:00, 99.79it/s, loss=0.912]\n",
      "Epoch 50/50 [Val]: 100%|██████████| 35/35 [00:00<00:00, 288.81it/s, loss=1.17] "
     ]
    },
    {
     "name": "stdout",
     "output_type": "stream",
     "text": [
      "\n",
      "Epoch 50/50:\n",
      "Average Training Loss: 0.8819\n",
      "Average Validation Loss: 1.0163\n"
     ]
    },
    {
     "name": "stderr",
     "output_type": "stream",
     "text": [
      "\n"
     ]
    }
   ],
   "source": [
    "device = torch.device('cuda' if torch.cuda.is_available() else 'cpu')\n",
    "\n",
    "# training config\n",
    "batch_size = 128  \n",
    "learning_rate = 0.001  \n",
    "num_epochs = 50\n",
    "\n",
    "# init model and optimizer\n",
    "model = TransformerLOB(y_len=3, device=device).to(device)\n",
    "optimizer = torch.optim.Adam(model.parameters(), lr=learning_rate)\n",
    "scheduler = torch.optim.lr_scheduler.ReduceLROnPlateau(\n",
    "    optimizer, \n",
    "    mode='min', \n",
    "    factor=0.5, \n",
    "    patience=3, \n",
    "    verbose=True\n",
    ")\n",
    "criterion = nn.CrossEntropyLoss()\n",
    "\n",
    "# save best model to best_transformer.pth\n",
    "best_val_loss = float('inf')\n",
    "best_model_path = 'best_transformer.pth'\n",
    "\n",
    "train_losses = []\n",
    "val_losses = []\n",
    "train_accuracies = []\n",
    "val_accuracies = []\n",
    "\n",
    "for epoch in range(num_epochs):\n",
    "    # training phase\n",
    "    model.train()\n",
    "    total_train_loss = 0\n",
    "    correct_train = 0\n",
    "    total_train = 0\n",
    "    train_batches = tqdm(train_loader, desc=f'Epoch {epoch+1}/{num_epochs} [Train]')\n",
    "\n",
    "    for batch_X, batch_y in train_batches:\n",
    "        batch_X, batch_y = batch_X.to(device), batch_y.to(device)\n",
    "        \n",
    "        optimizer.zero_grad()\n",
    "        outputs = model(batch_X)\n",
    "        loss = criterion(outputs, batch_y)\n",
    "        \n",
    "        loss.backward()\n",
    "        optimizer.step()\n",
    "        \n",
    "        total_train_loss += loss.item()\n",
    "        train_batches.set_postfix({'loss': loss.item()})\n",
    "\n",
    "        _, predicted = torch.max(outputs, dim=1)\n",
    "        correct_train += (predicted == batch_y.argmax(dim=1)).sum().item()\n",
    "        total_train += batch_y.size(0)\n",
    "\n",
    "    avg_train_loss = total_train_loss / len(train_loader)\n",
    "    train_losses.append(avg_train_loss)\n",
    "    \n",
    "    # Calculate epoch-level training accuracy\n",
    "    train_accuracy = correct_train / total_train\n",
    "    train_accuracies.append(train_accuracy)\n",
    "\n",
    "    # validation phase\n",
    "    model.eval()\n",
    "    total_val_loss = 0\n",
    "    correct_val = 0\n",
    "    total_val = 0\n",
    "    val_batches = tqdm(test_loader, desc=f'Epoch {epoch+1}/{num_epochs} [Val]')\n",
    "\n",
    "    with torch.no_grad():\n",
    "        for batch_X, batch_y in val_batches:\n",
    "            batch_X, batch_y = batch_X.to(device), batch_y.to(device)\n",
    "            outputs = model(batch_X)\n",
    "            loss = criterion(outputs, batch_y)\n",
    "            total_val_loss += loss.item()\n",
    "            val_batches.set_postfix({'loss': loss.item()})\n",
    "\n",
    "            _, predicted = torch.max(outputs, dim=1)\n",
    "            correct_val += (predicted == batch_y.argmax(dim=1)).sum().item()\n",
    "            total_val += batch_y.size(0)\n",
    "\n",
    "    avg_val_loss = total_val_loss / len(test_loader)\n",
    "    val_losses.append(avg_val_loss)\n",
    "\n",
    "    # Calculate epoch-level validation accuracy\n",
    "    val_accuracy = correct_val / total_val\n",
    "    val_accuracies.append(val_accuracy)\n",
    "\n",
    "    # update learning rate\n",
    "    scheduler.step(avg_val_loss)\n",
    "    \n",
    "    # save best model\n",
    "    if avg_val_loss < best_val_loss:\n",
    "        best_val_loss = avg_val_loss\n",
    "        torch.save({\n",
    "            'epoch': epoch,\n",
    "            'model_state_dict': model.state_dict(),\n",
    "            'optimizer_state_dict': optimizer.state_dict(),\n",
    "            'train_loss': avg_train_loss,\n",
    "            'val_loss': avg_val_loss,\n",
    "            'train_losses': train_losses,\n",
    "            'val_losses': val_losses\n",
    "        }, best_model_path)\n",
    "        print(f'\\nNew best model saved! Validation Loss: {avg_val_loss:.4f}')\n",
    "    \n",
    "    print(f'\\nEpoch {epoch+1}/{num_epochs}:')\n",
    "    print(f'Average Training Loss: {avg_train_loss:.4f}')\n",
    "    print(f'Average Validation Loss: {avg_val_loss:.4f}')"
   ]
  },
  {
   "cell_type": "code",
   "execution_count": 34,
   "metadata": {},
   "outputs": [
    {
     "data": {
      "image/png": "[encoded data removed]",
      "text/plain": [
       "<Figure size 1000x600 with 1 Axes>"
      ]
     },
     "metadata": {},
     "output_type": "display_data"
    }
   ],
   "source": [
    "plt.figure(figsize=(10, 6))\n",
    "plt.plot(train_accuracies, label='Training Accuracy', color='blue')\n",
    "plt.plot(val_accuracies, label='Validation Accuracy', color='red')\n",
    "plt.xlabel('Iterations (Batch-level)', fontsize=14)\n",
    "plt.ylabel('Accuracy', fontsize=14)\n",
    "plt.title('Training and Validation Accuracy over Time', fontsize=16)\n",
    "plt.legend()\n",
    "plt.grid(True)\n",
    "plt.show()"
   ]
  },
  {
   "cell_type": "code",
   "execution_count": 15,
   "metadata": {},
   "outputs": [],
   "source": [
    "def evaluate_model(model, test_loader, device):\n",
    "    all_predictions = []\n",
    "    all_labels = []\n",
    "    \n",
    "    with torch.no_grad():\n",
    "        for batch_X, batch_y in test_loader:\n",
    "            batch_X, batch_y = batch_X.to(device), batch_y.to(device)\n",
    "            outputs = model(batch_X)\n",
    "            \n",
    "            # convert one-hot encoded outputs to class predictions\n",
    "            predictions = outputs.argmax(dim=1)\n",
    "            true_labels = batch_y.argmax(dim=1)\n",
    "            \n",
    "            all_predictions.extend(predictions.cpu().numpy())\n",
    "            all_labels.extend(true_labels.cpu().numpy())\n",
    "    \n",
    "    return all_predictions, all_labels"
   ]
  },
  {
   "cell_type": "code",
   "execution_count": 16,
   "metadata": {},
   "outputs": [
    {
     "name": "stdout",
     "output_type": "stream",
     "text": [
      "Loading saved model from best_transformer.pth\n"
     ]
    },
    {
     "name": "stderr",
     "output_type": "stream",
     "text": [
      "/tmp/ipykernel_189990/3469247164.py:6: FutureWarning: You are using `torch.load` with `weights_only=False` (the current default value), which uses the default pickle module implicitly. It is possible to construct malicious pickle data which will execute arbitrary code during unpickling (See https://github.com/pytorch/pytorch/blob/main/SECURITY.md#untrusted-models for more details). In a future release, the default value for `weights_only` will be flipped to `True`. This limits the functions that could be executed during unpickling. Arbitrary objects will no longer be allowed to be loaded via this mode unless they are explicitly allowlisted by the user via `torch.serialization.add_safe_globals`. We recommend you start setting `weights_only=True` for any use case where you don't have full control of the loaded file. Please open an issue on GitHub for any issues related to this experimental feature.\n",
      "  checkpoint = torch.load(model_path)\n"
     ]
    },
    {
     "name": "stdout",
     "output_type": "stream",
     "text": [
      "\n",
      "Classification Report:\n",
      "              precision    recall  f1-score   support\n",
      "\n",
      " No Movement       0.48      0.48      0.48       433\n",
      "          Up       0.72      0.23      0.35       220\n",
      "        Down       0.44      0.60      0.51       439\n",
      "\n",
      "    accuracy                           0.48      1092\n",
      "   macro avg       0.55      0.44      0.45      1092\n",
      "weighted avg       0.51      0.48      0.47      1092\n",
      "\n"
     ]
    },
    {
     "data": {
      "image/png": "[encoded data removed]",
      "text/plain": [
       "<Figure size 1000x800 with 2 Axes>"
      ]
     },
     "metadata": {},
     "output_type": "display_data"
    }
   ],
   "source": [
    "# load the saved model state if it exists\n",
    "device = torch.device('cuda' if torch.cuda.is_available() else 'cpu')\n",
    "model_path = 'best_transformer.pth'\n",
    "if os.path.exists(model_path):\n",
    "    print(f\"Loading saved model from {model_path}\")\n",
    "    checkpoint = torch.load(model_path)\n",
    "    model.load_state_dict(checkpoint['model_state_dict'])\n",
    "    model.eval()  # set to evaluation mode\n",
    "else:\n",
    "    print(f\"No saved model found at {model_path}. Please train the model first.\")\n",
    "    exit()\n",
    "\n",
    "predictions, true_labels = evaluate_model(model, test_loader, device)\n",
    "\n",
    "print(\"\\nClassification Report:\")\n",
    "print(classification_report(true_labels, predictions, \n",
    "                          target_names=['No Movement', 'Up', 'Down']))\n",
    "\n",
    "plt.figure(figsize=(10, 8))\n",
    "cm = confusion_matrix(true_labels, predictions)\n",
    "sns.heatmap(cm, annot=True, fmt='d', cmap='Blues',\n",
    "            xticklabels=['No Movement', 'Up', 'Down'],\n",
    "            yticklabels=['No Movement', 'Up', 'Down'])\n",
    "plt.title('Confusion Matrix')\n",
    "plt.xlabel('Predicted Label')\n",
    "plt.ylabel('True Label')\n",
    "plt.show()"
   ]
  },
  {
   "cell_type": "code",
   "execution_count": null,
   "metadata": {},
   "outputs": [],
   "source": []
  }
 ],
 "metadata": {
  "kernelspec": {
   "display_name": "Python 3",
   "language": "python",
   "name": "python3"
  },
  "language_info": {
   "codemirror_mode": {
    "name": "ipython",
    "version": 3
   },
   "file_extension": ".py",
   "mimetype": "text/x-python",
   "name": "python",
   "nbconvert_exporter": "python",
   "pygments_lexer": "ipython3",
   "version": "3.10.12"
  }
 },
 "nbformat": 4,
 "nbformat_minor": 2
}

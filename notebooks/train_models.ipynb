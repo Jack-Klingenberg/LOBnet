{
  "cells": [
    {
      "cell_type": "code",
      "execution_count": 1,
      "metadata": {},
      "outputs": [
        {
          "name": "stdout",
          "output_type": "stream",
          "text": [
            "Requirement already satisfied: pandas in /Users/Rafa/Documents/Code/BC/COMPUTER SCIENCE/DL/LOBnet/venv/lib/python3.9/site-packages (2.2.3)\n",
            "Requirement already satisfied: numpy in /Users/Rafa/Documents/Code/BC/COMPUTER SCIENCE/DL/LOBnet/venv/lib/python3.9/site-packages (2.0.2)\n",
            "Requirement already satisfied: torch in /Users/Rafa/Documents/Code/BC/COMPUTER SCIENCE/DL/LOBnet/venv/lib/python3.9/site-packages (2.5.1)\n",
            "Requirement already satisfied: tqdm in /Users/Rafa/Documents/Code/BC/COMPUTER SCIENCE/DL/LOBnet/venv/lib/python3.9/site-packages (4.67.1)\n",
            "Requirement already satisfied: seaborn in /Users/Rafa/Documents/Code/BC/COMPUTER SCIENCE/DL/LOBnet/venv/lib/python3.9/site-packages (0.13.2)\n",
            "Requirement already satisfied: matplotlib in /Users/Rafa/Documents/Code/BC/COMPUTER SCIENCE/DL/LOBnet/venv/lib/python3.9/site-packages (3.9.3)\n",
            "Requirement already satisfied: torchviz in /Users/Rafa/Documents/Code/BC/COMPUTER SCIENCE/DL/LOBnet/venv/lib/python3.9/site-packages (0.0.3)\n",
            "Requirement already satisfied: graphviz in /Users/Rafa/Documents/Code/BC/COMPUTER SCIENCE/DL/LOBnet/venv/lib/python3.9/site-packages (0.20.3)\n",
            "Requirement already satisfied: pytz>=2020.1 in /Users/Rafa/Documents/Code/BC/COMPUTER SCIENCE/DL/LOBnet/venv/lib/python3.9/site-packages (from pandas) (2024.2)\n",
            "Requirement already satisfied: python-dateutil>=2.8.2 in /Users/Rafa/Documents/Code/BC/COMPUTER SCIENCE/DL/LOBnet/venv/lib/python3.9/site-packages (from pandas) (2.9.0.post0)\n",
            "Requirement already satisfied: tzdata>=2022.7 in /Users/Rafa/Documents/Code/BC/COMPUTER SCIENCE/DL/LOBnet/venv/lib/python3.9/site-packages (from pandas) (2024.2)\n",
            "Requirement already satisfied: fsspec in /Users/Rafa/Documents/Code/BC/COMPUTER SCIENCE/DL/LOBnet/venv/lib/python3.9/site-packages (from torch) (2024.10.0)\n",
            "Requirement already satisfied: sympy==1.13.1 in /Users/Rafa/Documents/Code/BC/COMPUTER SCIENCE/DL/LOBnet/venv/lib/python3.9/site-packages (from torch) (1.13.1)\n",
            "Requirement already satisfied: typing-extensions>=4.8.0 in /Users/Rafa/Documents/Code/BC/COMPUTER SCIENCE/DL/LOBnet/venv/lib/python3.9/site-packages (from torch) (4.12.2)\n",
            "Requirement already satisfied: networkx in /Users/Rafa/Documents/Code/BC/COMPUTER SCIENCE/DL/LOBnet/venv/lib/python3.9/site-packages (from torch) (3.2.1)\n",
            "Requirement already satisfied: jinja2 in /Users/Rafa/Documents/Code/BC/COMPUTER SCIENCE/DL/LOBnet/venv/lib/python3.9/site-packages (from torch) (3.1.4)\n",
            "Requirement already satisfied: filelock in /Users/Rafa/Documents/Code/BC/COMPUTER SCIENCE/DL/LOBnet/venv/lib/python3.9/site-packages (from torch) (3.16.1)\n",
            "Requirement already satisfied: mpmath<1.4,>=1.1.0 in /Users/Rafa/Documents/Code/BC/COMPUTER SCIENCE/DL/LOBnet/venv/lib/python3.9/site-packages (from sympy==1.13.1->torch) (1.3.0)\n",
            "Requirement already satisfied: pillow>=8 in /Users/Rafa/Documents/Code/BC/COMPUTER SCIENCE/DL/LOBnet/venv/lib/python3.9/site-packages (from matplotlib) (11.0.0)\n",
            "Requirement already satisfied: cycler>=0.10 in /Users/Rafa/Documents/Code/BC/COMPUTER SCIENCE/DL/LOBnet/venv/lib/python3.9/site-packages (from matplotlib) (0.12.1)\n",
            "Requirement already satisfied: pyparsing>=2.3.1 in /Users/Rafa/Documents/Code/BC/COMPUTER SCIENCE/DL/LOBnet/venv/lib/python3.9/site-packages (from matplotlib) (3.2.0)\n",
            "Requirement already satisfied: kiwisolver>=1.3.1 in /Users/Rafa/Documents/Code/BC/COMPUTER SCIENCE/DL/LOBnet/venv/lib/python3.9/site-packages (from matplotlib) (1.4.7)\n",
            "Requirement already satisfied: contourpy>=1.0.1 in /Users/Rafa/Documents/Code/BC/COMPUTER SCIENCE/DL/LOBnet/venv/lib/python3.9/site-packages (from matplotlib) (1.3.0)\n",
            "Requirement already satisfied: fonttools>=4.22.0 in /Users/Rafa/Documents/Code/BC/COMPUTER SCIENCE/DL/LOBnet/venv/lib/python3.9/site-packages (from matplotlib) (4.55.0)\n",
            "Requirement already satisfied: packaging>=20.0 in /Users/Rafa/Documents/Code/BC/COMPUTER SCIENCE/DL/LOBnet/venv/lib/python3.9/site-packages (from matplotlib) (24.2)\n",
            "Requirement already satisfied: importlib-resources>=3.2.0 in /Users/Rafa/Documents/Code/BC/COMPUTER SCIENCE/DL/LOBnet/venv/lib/python3.9/site-packages (from matplotlib) (6.4.5)\n",
            "Requirement already satisfied: zipp>=3.1.0 in /Users/Rafa/Documents/Code/BC/COMPUTER SCIENCE/DL/LOBnet/venv/lib/python3.9/site-packages (from importlib-resources>=3.2.0->matplotlib) (3.21.0)\n",
            "Requirement already satisfied: six>=1.5 in /Users/Rafa/Documents/Code/BC/COMPUTER SCIENCE/DL/LOBnet/venv/lib/python3.9/site-packages (from python-dateutil>=2.8.2->pandas) (1.16.0)\n",
            "Requirement already satisfied: MarkupSafe>=2.0 in /Users/Rafa/Documents/Code/BC/COMPUTER SCIENCE/DL/LOBnet/venv/lib/python3.9/site-packages (from jinja2->torch) (3.0.2)\n",
            "\u001b[33mWARNING: You are using pip version 21.2.4; however, version 24.3.1 is available.\n",
            "You should consider upgrading via the '/Users/Rafa/Documents/Code/BC/COMPUTER SCIENCE/DL/LOBnet/venv/bin/python -m pip install --upgrade pip' command.\u001b[0m\n",
            "Note: you may need to restart the kernel to use updated packages.\n"
          ]
        }
      ],
      "source": [
        "%pip install pandas numpy torch tqdm seaborn matplotlib torchviz graphviz"
      ]
    },
    {
      "cell_type": "code",
      "execution_count": 3,
      "metadata": {},
      "outputs": [],
      "source": [
        "import sys\n",
        "sys.path.append('..')\n",
        "\n",
        "import torch\n",
        "import os\n",
        "import torch.nn as nn\n",
        "from torch.utils.data import random_split, DataLoader\n",
        "from sklearn.metrics import classification_report, confusion_matrix\n",
        "import seaborn as sns\n",
        "import matplotlib.pyplot as plt\n",
        "from tqdm.auto import tqdm\n",
        "from LOBnet.final_models import TransformerLOB, DeepLOB_Network_v2, BaselineDeepLOB\n",
        "from LOBnet.orderbook import FI2010_Orderbook_Optimized"
      ]
    },
    {
      "cell_type": "code",
      "execution_count": 2,
      "metadata": {},
      "outputs": [],
      "source": [
        "root_path = os.path.abspath(os.path.join(os.path.dirname(os.getcwd()), \"data\", \"BenchmarkDatasets_csv\", \"Auction\", \"1.Auction_Zscore\", \"Auction_Zscore_Training\"))\n",
        "window_size = 100\n",
        "overlap_percent = 25  # 25% overlap between windows\n",
        "num_workers = 5"
      ]
    },
    {
      "cell_type": "code",
      "execution_count": 3,
      "metadata": {},
      "outputs": [
        {
          "name": "stderr",
          "output_type": "stream",
          "text": [
            "Processing CSV Files: 100%|██████████| 9/9 [04:26<00:00, 29.61s/it]"
          ]
        },
        {
          "name": "stdout",
          "output_type": "stream",
          "text": [
            "\n",
            "Raw price movement statistics:\n",
            "Mean: 1.9965\n",
            "Std: 0.8855\n",
            "Min: 1.0000\n",
            "Max: 3.0000\n",
            "\n",
            "Label distribution:\n",
            "0    10454\n",
            "1     5729\n",
            "2    10360\n",
            "Name: count, dtype: int64\n"
          ]
        },
        {
          "name": "stderr",
          "output_type": "stream",
          "text": [
            "\n"
          ]
        }
      ],
      "source": [
        "# initialize dataset\n",
        "dataset = FI2010_Orderbook_Optimized(\n",
        "    root_path=root_path,\n",
        "    window_size=window_size,\n",
        "    overlap_percent=overlap_percent,\n",
        "    num_workers=num_workers, \n",
        "    verbose=True\n",
        ")"
      ]
    },
    {
      "cell_type": "code",
      "execution_count": 4,
      "metadata": {},
      "outputs": [
        {
          "name": "stdout",
          "output_type": "stream",
          "text": [
            "Total dataset size: 26543\n",
            "Training set size: 21234\n",
            "Test set size: 5309\n"
          ]
        }
      ],
      "source": [
        "# create train/test splits (80/20)\n",
        "total_size = len(dataset)\n",
        "train_size = int(0.8 * total_size)\n",
        "test_size = total_size - train_size\n",
        "\n",
        "train_dataset, test_dataset = random_split(\n",
        "    dataset, \n",
        "    [train_size, test_size],\n",
        "    generator=torch.Generator().manual_seed(42)  # for reproducibility\n",
        ")\n",
        "\n",
        "# create DataLoaders\n",
        "batch_size = 32\n",
        "train_loader = DataLoader(\n",
        "    train_dataset,\n",
        "    batch_size=batch_size,\n",
        "    shuffle=True,\n",
        "    num_workers=0,\n",
        "    pin_memory=True if torch.cuda.is_available() else False,\n",
        "    collate_fn=lambda batch: (\n",
        "        torch.stack([x[0] for x in batch]).transpose(1, 2).unsqueeze(1),\n",
        "        torch.stack([x[1] for x in batch])\n",
        "    )\n",
        ")\n",
        "\n",
        "test_loader = DataLoader(\n",
        "    test_dataset,\n",
        "    batch_size=batch_size,\n",
        "    shuffle=False,\n",
        "    num_workers=0,\n",
        "    pin_memory=True if torch.cuda.is_available() else False,\n",
        "    collate_fn=lambda batch: (\n",
        "        torch.stack([x[0] for x in batch]).transpose(1, 2).unsqueeze(1),\n",
        "        torch.stack([x[1] for x in batch])\n",
        "    )   \n",
        ")\n",
        "\n",
        "print(f\"Total dataset size: {total_size}\")\n",
        "print(f\"Training set size: {len(train_dataset)}\")\n",
        "print(f\"Test set size: {len(test_dataset)}\")"
      ]
    },
    {
      "cell_type": "code",
      "execution_count": 5,
      "metadata": {},
      "outputs": [
        {
          "name": "stdout",
          "output_type": "stream",
          "text": [
            "Batch X shape: torch.Size([32, 1, 100, 40])\n",
            "Batch y shape: torch.Size([32, 3])\n"
          ]
        }
      ],
      "source": [
        "# look at first batch\n",
        "for batch in train_loader:\n",
        "    batch_X, batch_y = batch  # unpack batch tuple\n",
        "    print(f\"Batch X shape: {batch_X.shape}\") # should be (batch_size, 1, 100, 40)\n",
        "    print(f\"Batch y shape: {batch_y.shape}\") # should be (batch_size, 3)\n",
        "    break"
      ]
    },
    {
      "cell_type": "code",
      "execution_count": 6,
      "metadata": {},
      "outputs": [
        {
          "name": "stderr",
          "output_type": "stream",
          "text": [
            "/Users/Rafa/Documents/Code/BC/COMPUTER SCIENCE/DL/LOBnet/venv/lib/python3.9/site-packages/torch/nn/modules/transformer.py:379: UserWarning: enable_nested_tensor is True, but self.use_nested_tensor is False because encoder_layer.norm_first was True\n",
            "  warnings.warn(\n",
            "/Users/Rafa/Documents/Code/BC/COMPUTER SCIENCE/DL/LOBnet/venv/lib/python3.9/site-packages/torch/optim/lr_scheduler.py:62: UserWarning: The verbose parameter is deprecated. Please use get_last_lr() to access the learning rate.\n",
            "  warnings.warn(\n"
          ]
        },
        {
          "data": {
            "application/vnd.jupyter.widget-view+json": {
              "model_id": "b6876ff6e2b14eb1bf12dce1428e43e2",
              "version_major": 2,
              "version_minor": 0
            },
            "text/plain": [
              "Epoch 1/50 [Train]:   0%|          | 0/664 [00:00<?, ?it/s]"
            ]
          },
          "metadata": {},
          "output_type": "display_data"
        },
        {
          "data": {
            "application/vnd.jupyter.widget-view+json": {
              "model_id": "89aa38dff56942e4b02be48bf7477a17",
              "version_major": 2,
              "version_minor": 0
            },
            "text/plain": [
              "Epoch 1/50 [Val]:   0%|          | 0/166 [00:00<?, ?it/s]"
            ]
          },
          "metadata": {},
          "output_type": "display_data"
        },
        {
          "name": "stdout",
          "output_type": "stream",
          "text": [
            "\n",
            "New best model saved! Validation Loss: 1.0505\n",
            "\n",
            "Epoch 1/50:\n",
            "Average Training Loss: 1.0599\n",
            "Average Validation Loss: 1.0505\n"
          ]
        },
        {
          "data": {
            "application/vnd.jupyter.widget-view+json": {
              "model_id": "11f1590582744f998168bae0d1cc2007",
              "version_major": 2,
              "version_minor": 0
            },
            "text/plain": [
              "Epoch 2/50 [Train]:   0%|          | 0/664 [00:00<?, ?it/s]"
            ]
          },
          "metadata": {},
          "output_type": "display_data"
        },
        {
          "data": {
            "application/vnd.jupyter.widget-view+json": {
              "model_id": "ecdcddbefe7d4ddeb18f2aed3e65be30",
              "version_major": 2,
              "version_minor": 0
            },
            "text/plain": [
              "Epoch 2/50 [Val]:   0%|          | 0/166 [00:00<?, ?it/s]"
            ]
          },
          "metadata": {},
          "output_type": "display_data"
        },
        {
          "name": "stdout",
          "output_type": "stream",
          "text": [
            "\n",
            "New best model saved! Validation Loss: 1.0307\n",
            "\n",
            "Epoch 2/50:\n",
            "Average Training Loss: 1.0421\n",
            "Average Validation Loss: 1.0307\n"
          ]
        },
        {
          "data": {
            "application/vnd.jupyter.widget-view+json": {
              "model_id": "dbd3458f35fe4bfab629aac996cb98e9",
              "version_major": 2,
              "version_minor": 0
            },
            "text/plain": [
              "Epoch 3/50 [Train]:   0%|          | 0/664 [00:00<?, ?it/s]"
            ]
          },
          "metadata": {},
          "output_type": "display_data"
        },
        {
          "data": {
            "application/vnd.jupyter.widget-view+json": {
              "model_id": "8c2130fcce5949088f467f9edbdf261f",
              "version_major": 2,
              "version_minor": 0
            },
            "text/plain": [
              "Epoch 3/50 [Val]:   0%|          | 0/166 [00:00<?, ?it/s]"
            ]
          },
          "metadata": {},
          "output_type": "display_data"
        },
        {
          "name": "stdout",
          "output_type": "stream",
          "text": [
            "\n",
            "New best model saved! Validation Loss: 0.9935\n",
            "\n",
            "Epoch 3/50:\n",
            "Average Training Loss: 1.0085\n",
            "Average Validation Loss: 0.9935\n"
          ]
        },
        {
          "data": {
            "application/vnd.jupyter.widget-view+json": {
              "model_id": "18894c5f75c244f59003e4b26d13df87",
              "version_major": 2,
              "version_minor": 0
            },
            "text/plain": [
              "Epoch 4/50 [Train]:   0%|          | 0/664 [00:00<?, ?it/s]"
            ]
          },
          "metadata": {},
          "output_type": "display_data"
        },
        {
          "data": {
            "application/vnd.jupyter.widget-view+json": {
              "model_id": "c7a57cdc338840ca8c0bae1fe6b10f52",
              "version_major": 2,
              "version_minor": 0
            },
            "text/plain": [
              "Epoch 4/50 [Val]:   0%|          | 0/166 [00:00<?, ?it/s]"
            ]
          },
          "metadata": {},
          "output_type": "display_data"
        },
        {
          "name": "stdout",
          "output_type": "stream",
          "text": [
            "\n",
            "New best model saved! Validation Loss: 0.9520\n",
            "\n",
            "Epoch 4/50:\n",
            "Average Training Loss: 0.9676\n",
            "Average Validation Loss: 0.9520\n"
          ]
        },
        {
          "data": {
            "application/vnd.jupyter.widget-view+json": {
              "model_id": "73469df703ce4126999caa6ba9577dc4",
              "version_major": 2,
              "version_minor": 0
            },
            "text/plain": [
              "Epoch 5/50 [Train]:   0%|          | 0/664 [00:00<?, ?it/s]"
            ]
          },
          "metadata": {},
          "output_type": "display_data"
        },
        {
          "data": {
            "application/vnd.jupyter.widget-view+json": {
              "model_id": "7eb2753728c6474e87d3dc5168207df5",
              "version_major": 2,
              "version_minor": 0
            },
            "text/plain": [
              "Epoch 5/50 [Val]:   0%|          | 0/166 [00:00<?, ?it/s]"
            ]
          },
          "metadata": {},
          "output_type": "display_data"
        },
        {
          "name": "stdout",
          "output_type": "stream",
          "text": [
            "\n",
            "New best model saved! Validation Loss: 0.9255\n",
            "\n",
            "Epoch 5/50:\n",
            "Average Training Loss: 0.9399\n",
            "Average Validation Loss: 0.9255\n"
          ]
        },
        {
          "data": {
            "application/vnd.jupyter.widget-view+json": {
              "model_id": "f33fbdd6dfbd48b6bc6e9bf984427ba1",
              "version_major": 2,
              "version_minor": 0
            },
            "text/plain": [
              "Epoch 6/50 [Train]:   0%|          | 0/664 [00:00<?, ?it/s]"
            ]
          },
          "metadata": {},
          "output_type": "display_data"
        },
        {
          "data": {
            "application/vnd.jupyter.widget-view+json": {
              "model_id": "c612ddd13dd54acda09c9a7435d13f0e",
              "version_major": 2,
              "version_minor": 0
            },
            "text/plain": [
              "Epoch 6/50 [Val]:   0%|          | 0/166 [00:00<?, ?it/s]"
            ]
          },
          "metadata": {},
          "output_type": "display_data"
        },
        {
          "name": "stdout",
          "output_type": "stream",
          "text": [
            "\n",
            "New best model saved! Validation Loss: 0.8820\n",
            "\n",
            "Epoch 6/50:\n",
            "Average Training Loss: 0.9067\n",
            "Average Validation Loss: 0.8820\n"
          ]
        },
        {
          "data": {
            "application/vnd.jupyter.widget-view+json": {
              "model_id": "f7e214936b3b49fba0dbc88f03cd7ddc",
              "version_major": 2,
              "version_minor": 0
            },
            "text/plain": [
              "Epoch 7/50 [Train]:   0%|          | 0/664 [00:00<?, ?it/s]"
            ]
          },
          "metadata": {},
          "output_type": "display_data"
        },
        {
          "data": {
            "application/vnd.jupyter.widget-view+json": {
              "model_id": "bbf4132f1e2547b6a777fe0531a9c531",
              "version_major": 2,
              "version_minor": 0
            },
            "text/plain": [
              "Epoch 7/50 [Val]:   0%|          | 0/166 [00:00<?, ?it/s]"
            ]
          },
          "metadata": {},
          "output_type": "display_data"
        },
        {
          "name": "stdout",
          "output_type": "stream",
          "text": [
            "\n",
            "New best model saved! Validation Loss: 0.8452\n",
            "\n",
            "Epoch 7/50:\n",
            "Average Training Loss: 0.8712\n",
            "Average Validation Loss: 0.8452\n"
          ]
        },
        {
          "data": {
            "application/vnd.jupyter.widget-view+json": {
              "model_id": "d3b6ae7557614706a7a845f0a874f5b0",
              "version_major": 2,
              "version_minor": 0
            },
            "text/plain": [
              "Epoch 8/50 [Train]:   0%|          | 0/664 [00:00<?, ?it/s]"
            ]
          },
          "metadata": {},
          "output_type": "display_data"
        },
        {
          "data": {
            "application/vnd.jupyter.widget-view+json": {
              "model_id": "433ffab25af845cd8b8d9ee22a758fff",
              "version_major": 2,
              "version_minor": 0
            },
            "text/plain": [
              "Epoch 8/50 [Val]:   0%|          | 0/166 [00:00<?, ?it/s]"
            ]
          },
          "metadata": {},
          "output_type": "display_data"
        },
        {
          "name": "stdout",
          "output_type": "stream",
          "text": [
            "\n",
            "New best model saved! Validation Loss: 0.8413\n",
            "\n",
            "Epoch 8/50:\n",
            "Average Training Loss: 0.8433\n",
            "Average Validation Loss: 0.8413\n"
          ]
        },
        {
          "data": {
            "application/vnd.jupyter.widget-view+json": {
              "model_id": "b542141580514d1c96059c21e158a572",
              "version_major": 2,
              "version_minor": 0
            },
            "text/plain": [
              "Epoch 9/50 [Train]:   0%|          | 0/664 [00:00<?, ?it/s]"
            ]
          },
          "metadata": {},
          "output_type": "display_data"
        },
        {
          "data": {
            "application/vnd.jupyter.widget-view+json": {
              "model_id": "a6117a3cb9924ec38b3e4fe970c95f17",
              "version_major": 2,
              "version_minor": 0
            },
            "text/plain": [
              "Epoch 9/50 [Val]:   0%|          | 0/166 [00:00<?, ?it/s]"
            ]
          },
          "metadata": {},
          "output_type": "display_data"
        },
        {
          "name": "stdout",
          "output_type": "stream",
          "text": [
            "\n",
            "New best model saved! Validation Loss: 0.8117\n",
            "\n",
            "Epoch 9/50:\n",
            "Average Training Loss: 0.8207\n",
            "Average Validation Loss: 0.8117\n"
          ]
        },
        {
          "data": {
            "application/vnd.jupyter.widget-view+json": {
              "model_id": "839d4c2be0bd4d74b1cdc1e521f4d795",
              "version_major": 2,
              "version_minor": 0
            },
            "text/plain": [
              "Epoch 10/50 [Train]:   0%|          | 0/664 [00:00<?, ?it/s]"
            ]
          },
          "metadata": {},
          "output_type": "display_data"
        },
        {
          "data": {
            "application/vnd.jupyter.widget-view+json": {
              "model_id": "975036d7c5ee4a2c9dcbaffb88a52970",
              "version_major": 2,
              "version_minor": 0
            },
            "text/plain": [
              "Epoch 10/50 [Val]:   0%|          | 0/166 [00:00<?, ?it/s]"
            ]
          },
          "metadata": {},
          "output_type": "display_data"
        },
        {
          "name": "stdout",
          "output_type": "stream",
          "text": [
            "\n",
            "Epoch 10/50:\n",
            "Average Training Loss: 0.8030\n",
            "Average Validation Loss: 0.8301\n"
          ]
        },
        {
          "data": {
            "application/vnd.jupyter.widget-view+json": {
              "model_id": "cc711ba204fe4a26bf1c89887d8dba4e",
              "version_major": 2,
              "version_minor": 0
            },
            "text/plain": [
              "Epoch 11/50 [Train]:   0%|          | 0/664 [00:00<?, ?it/s]"
            ]
          },
          "metadata": {},
          "output_type": "display_data"
        },
        {
          "data": {
            "application/vnd.jupyter.widget-view+json": {
              "model_id": "6bc20e5b0de440bc891a5eabbfc35356",
              "version_major": 2,
              "version_minor": 0
            },
            "text/plain": [
              "Epoch 11/50 [Val]:   0%|          | 0/166 [00:00<?, ?it/s]"
            ]
          },
          "metadata": {},
          "output_type": "display_data"
        },
        {
          "name": "stdout",
          "output_type": "stream",
          "text": [
            "\n",
            "New best model saved! Validation Loss: 0.7785\n",
            "\n",
            "Epoch 11/50:\n",
            "Average Training Loss: 0.7898\n",
            "Average Validation Loss: 0.7785\n"
          ]
        },
        {
          "data": {
            "application/vnd.jupyter.widget-view+json": {
              "model_id": "93d6025bc6f1420b92df1aebdc6c2eff",
              "version_major": 2,
              "version_minor": 0
            },
            "text/plain": [
              "Epoch 12/50 [Train]:   0%|          | 0/664 [00:00<?, ?it/s]"
            ]
          },
          "metadata": {},
          "output_type": "display_data"
        },
        {
          "data": {
            "application/vnd.jupyter.widget-view+json": {
              "model_id": "3f9dd62b26f445b7abb90c65d8a770da",
              "version_major": 2,
              "version_minor": 0
            },
            "text/plain": [
              "Epoch 12/50 [Val]:   0%|          | 0/166 [00:00<?, ?it/s]"
            ]
          },
          "metadata": {},
          "output_type": "display_data"
        },
        {
          "name": "stdout",
          "output_type": "stream",
          "text": [
            "\n",
            "New best model saved! Validation Loss: 0.7774\n",
            "\n",
            "Epoch 12/50:\n",
            "Average Training Loss: 0.7741\n",
            "Average Validation Loss: 0.7774\n"
          ]
        },
        {
          "data": {
            "application/vnd.jupyter.widget-view+json": {
              "model_id": "6693592e94bc49bbb99d513a8b0534f1",
              "version_major": 2,
              "version_minor": 0
            },
            "text/plain": [
              "Epoch 13/50 [Train]:   0%|          | 0/664 [00:00<?, ?it/s]"
            ]
          },
          "metadata": {},
          "output_type": "display_data"
        },
        {
          "data": {
            "application/vnd.jupyter.widget-view+json": {
              "model_id": "7901592090eb401da8f97ebd9dead9f1",
              "version_major": 2,
              "version_minor": 0
            },
            "text/plain": [
              "Epoch 13/50 [Val]:   0%|          | 0/166 [00:00<?, ?it/s]"
            ]
          },
          "metadata": {},
          "output_type": "display_data"
        },
        {
          "name": "stdout",
          "output_type": "stream",
          "text": [
            "\n",
            "New best model saved! Validation Loss: 0.7734\n",
            "\n",
            "Epoch 13/50:\n",
            "Average Training Loss: 0.7610\n",
            "Average Validation Loss: 0.7734\n"
          ]
        },
        {
          "data": {
            "application/vnd.jupyter.widget-view+json": {
              "model_id": "a281265fb34941369cae7d6019b09092",
              "version_major": 2,
              "version_minor": 0
            },
            "text/plain": [
              "Epoch 14/50 [Train]:   0%|          | 0/664 [00:00<?, ?it/s]"
            ]
          },
          "metadata": {},
          "output_type": "display_data"
        },
        {
          "data": {
            "application/vnd.jupyter.widget-view+json": {
              "model_id": "43dd0c85cd4940b89085c02294d54d91",
              "version_major": 2,
              "version_minor": 0
            },
            "text/plain": [
              "Epoch 14/50 [Val]:   0%|          | 0/166 [00:00<?, ?it/s]"
            ]
          },
          "metadata": {},
          "output_type": "display_data"
        },
        {
          "name": "stdout",
          "output_type": "stream",
          "text": [
            "\n",
            "New best model saved! Validation Loss: 0.7704\n",
            "\n",
            "Epoch 14/50:\n",
            "Average Training Loss: 0.7524\n",
            "Average Validation Loss: 0.7704\n"
          ]
        },
        {
          "data": {
            "application/vnd.jupyter.widget-view+json": {
              "model_id": "3a32dc7796ec4c51a37ecb960dd7e75e",
              "version_major": 2,
              "version_minor": 0
            },
            "text/plain": [
              "Epoch 15/50 [Train]:   0%|          | 0/664 [00:00<?, ?it/s]"
            ]
          },
          "metadata": {},
          "output_type": "display_data"
        },
        {
          "data": {
            "application/vnd.jupyter.widget-view+json": {
              "model_id": "1ae2c0ee47084131ba2ff2accd8fe244",
              "version_major": 2,
              "version_minor": 0
            },
            "text/plain": [
              "Epoch 15/50 [Val]:   0%|          | 0/166 [00:00<?, ?it/s]"
            ]
          },
          "metadata": {},
          "output_type": "display_data"
        },
        {
          "name": "stdout",
          "output_type": "stream",
          "text": [
            "\n",
            "Epoch 15/50:\n",
            "Average Training Loss: 0.7362\n",
            "Average Validation Loss: 0.7716\n"
          ]
        },
        {
          "data": {
            "application/vnd.jupyter.widget-view+json": {
              "model_id": "8bd346ea85eb4f3d901de27da398339f",
              "version_major": 2,
              "version_minor": 0
            },
            "text/plain": [
              "Epoch 16/50 [Train]:   0%|          | 0/664 [00:00<?, ?it/s]"
            ]
          },
          "metadata": {},
          "output_type": "display_data"
        },
        {
          "data": {
            "application/vnd.jupyter.widget-view+json": {
              "model_id": "8d208c2a5f1f49009ac44d39d54f4699",
              "version_major": 2,
              "version_minor": 0
            },
            "text/plain": [
              "Epoch 16/50 [Val]:   0%|          | 0/166 [00:00<?, ?it/s]"
            ]
          },
          "metadata": {},
          "output_type": "display_data"
        },
        {
          "name": "stdout",
          "output_type": "stream",
          "text": [
            "\n",
            "New best model saved! Validation Loss: 0.7522\n",
            "\n",
            "Epoch 16/50:\n",
            "Average Training Loss: 0.7218\n",
            "Average Validation Loss: 0.7522\n"
          ]
        },
        {
          "data": {
            "application/vnd.jupyter.widget-view+json": {
              "model_id": "a0714bcd81d24474bf0f92f5b5032c7f",
              "version_major": 2,
              "version_minor": 0
            },
            "text/plain": [
              "Epoch 17/50 [Train]:   0%|          | 0/664 [00:00<?, ?it/s]"
            ]
          },
          "metadata": {},
          "output_type": "display_data"
        },
        {
          "data": {
            "application/vnd.jupyter.widget-view+json": {
              "model_id": "e649bfb72e614da2be1af6da497a7fde",
              "version_major": 2,
              "version_minor": 0
            },
            "text/plain": [
              "Epoch 17/50 [Val]:   0%|          | 0/166 [00:00<?, ?it/s]"
            ]
          },
          "metadata": {},
          "output_type": "display_data"
        },
        {
          "name": "stdout",
          "output_type": "stream",
          "text": [
            "\n",
            "Epoch 17/50:\n",
            "Average Training Loss: 0.7083\n",
            "Average Validation Loss: 0.7533\n"
          ]
        },
        {
          "data": {
            "application/vnd.jupyter.widget-view+json": {
              "model_id": "f8ab63a4b3cd479db95b38ba548e43cb",
              "version_major": 2,
              "version_minor": 0
            },
            "text/plain": [
              "Epoch 18/50 [Train]:   0%|          | 0/664 [00:00<?, ?it/s]"
            ]
          },
          "metadata": {},
          "output_type": "display_data"
        },
        {
          "data": {
            "application/vnd.jupyter.widget-view+json": {
              "model_id": "39ae3b0959fa465188dd46bd0ba5fee4",
              "version_major": 2,
              "version_minor": 0
            },
            "text/plain": [
              "Epoch 18/50 [Val]:   0%|          | 0/166 [00:00<?, ?it/s]"
            ]
          },
          "metadata": {},
          "output_type": "display_data"
        },
        {
          "name": "stdout",
          "output_type": "stream",
          "text": [
            "\n",
            "New best model saved! Validation Loss: 0.7188\n",
            "\n",
            "Epoch 18/50:\n",
            "Average Training Loss: 0.7020\n",
            "Average Validation Loss: 0.7188\n"
          ]
        },
        {
          "data": {
            "application/vnd.jupyter.widget-view+json": {
              "model_id": "3d84ad03599746aba0e905a4ac286d03",
              "version_major": 2,
              "version_minor": 0
            },
            "text/plain": [
              "Epoch 19/50 [Train]:   0%|          | 0/664 [00:00<?, ?it/s]"
            ]
          },
          "metadata": {},
          "output_type": "display_data"
        },
        {
          "data": {
            "application/vnd.jupyter.widget-view+json": {
              "model_id": "1c974146095a458caf6ecd5327af00b9",
              "version_major": 2,
              "version_minor": 0
            },
            "text/plain": [
              "Epoch 19/50 [Val]:   0%|          | 0/166 [00:00<?, ?it/s]"
            ]
          },
          "metadata": {},
          "output_type": "display_data"
        },
        {
          "name": "stdout",
          "output_type": "stream",
          "text": [
            "\n",
            "Epoch 19/50:\n",
            "Average Training Loss: 0.6894\n",
            "Average Validation Loss: 0.7371\n"
          ]
        },
        {
          "data": {
            "application/vnd.jupyter.widget-view+json": {
              "model_id": "d7d3d54cfc7d43c488df3cdba8c79bea",
              "version_major": 2,
              "version_minor": 0
            },
            "text/plain": [
              "Epoch 20/50 [Train]:   0%|          | 0/664 [00:00<?, ?it/s]"
            ]
          },
          "metadata": {},
          "output_type": "display_data"
        },
        {
          "data": {
            "application/vnd.jupyter.widget-view+json": {
              "model_id": "593bc700b4fe484f9f9d20ab1f6f5512",
              "version_major": 2,
              "version_minor": 0
            },
            "text/plain": [
              "Epoch 20/50 [Val]:   0%|          | 0/166 [00:00<?, ?it/s]"
            ]
          },
          "metadata": {},
          "output_type": "display_data"
        },
        {
          "name": "stdout",
          "output_type": "stream",
          "text": [
            "\n",
            "Epoch 20/50:\n",
            "Average Training Loss: 0.6797\n",
            "Average Validation Loss: 0.7278\n"
          ]
        },
        {
          "data": {
            "application/vnd.jupyter.widget-view+json": {
              "model_id": "0e14058e2d29428a8f90654dfa527815",
              "version_major": 2,
              "version_minor": 0
            },
            "text/plain": [
              "Epoch 21/50 [Train]:   0%|          | 0/664 [00:00<?, ?it/s]"
            ]
          },
          "metadata": {},
          "output_type": "display_data"
        },
        {
          "data": {
            "application/vnd.jupyter.widget-view+json": {
              "model_id": "097abf5aa88f4e70b77549b712a90565",
              "version_major": 2,
              "version_minor": 0
            },
            "text/plain": [
              "Epoch 21/50 [Val]:   0%|          | 0/166 [00:00<?, ?it/s]"
            ]
          },
          "metadata": {},
          "output_type": "display_data"
        },
        {
          "name": "stdout",
          "output_type": "stream",
          "text": [
            "\n",
            "Epoch 21/50:\n",
            "Average Training Loss: 0.6741\n",
            "Average Validation Loss: 0.7223\n"
          ]
        },
        {
          "data": {
            "application/vnd.jupyter.widget-view+json": {
              "model_id": "e1635a6ec9fc438da8d820edb7aecdf1",
              "version_major": 2,
              "version_minor": 0
            },
            "text/plain": [
              "Epoch 22/50 [Train]:   0%|          | 0/664 [00:00<?, ?it/s]"
            ]
          },
          "metadata": {},
          "output_type": "display_data"
        },
        {
          "data": {
            "application/vnd.jupyter.widget-view+json": {
              "model_id": "b2f2fa9df36341f68c05c14da1a57109",
              "version_major": 2,
              "version_minor": 0
            },
            "text/plain": [
              "Epoch 22/50 [Val]:   0%|          | 0/166 [00:00<?, ?it/s]"
            ]
          },
          "metadata": {},
          "output_type": "display_data"
        },
        {
          "name": "stdout",
          "output_type": "stream",
          "text": [
            "\n",
            "New best model saved! Validation Loss: 0.7097\n",
            "\n",
            "Epoch 22/50:\n",
            "Average Training Loss: 0.6637\n",
            "Average Validation Loss: 0.7097\n"
          ]
        },
        {
          "data": {
            "application/vnd.jupyter.widget-view+json": {
              "model_id": "7f740f2b4f244793a3a843dfd3e189d7",
              "version_major": 2,
              "version_minor": 0
            },
            "text/plain": [
              "Epoch 23/50 [Train]:   0%|          | 0/664 [00:00<?, ?it/s]"
            ]
          },
          "metadata": {},
          "output_type": "display_data"
        },
        {
          "data": {
            "application/vnd.jupyter.widget-view+json": {
              "model_id": "15c23bfb5af1485fa069840d9c32a34d",
              "version_major": 2,
              "version_minor": 0
            },
            "text/plain": [
              "Epoch 23/50 [Val]:   0%|          | 0/166 [00:00<?, ?it/s]"
            ]
          },
          "metadata": {},
          "output_type": "display_data"
        },
        {
          "name": "stdout",
          "output_type": "stream",
          "text": [
            "\n",
            "Epoch 23/50:\n",
            "Average Training Loss: 0.6568\n",
            "Average Validation Loss: 0.7523\n"
          ]
        },
        {
          "data": {
            "application/vnd.jupyter.widget-view+json": {
              "model_id": "9acecc9c52e84807827ab87b09f00310",
              "version_major": 2,
              "version_minor": 0
            },
            "text/plain": [
              "Epoch 24/50 [Train]:   0%|          | 0/664 [00:00<?, ?it/s]"
            ]
          },
          "metadata": {},
          "output_type": "display_data"
        },
        {
          "data": {
            "application/vnd.jupyter.widget-view+json": {
              "model_id": "8b459c0f658543c7bfdc9ba8a7523a80",
              "version_major": 2,
              "version_minor": 0
            },
            "text/plain": [
              "Epoch 24/50 [Val]:   0%|          | 0/166 [00:00<?, ?it/s]"
            ]
          },
          "metadata": {},
          "output_type": "display_data"
        },
        {
          "name": "stdout",
          "output_type": "stream",
          "text": [
            "\n",
            "Epoch 24/50:\n",
            "Average Training Loss: 0.6487\n",
            "Average Validation Loss: 0.7342\n"
          ]
        },
        {
          "data": {
            "application/vnd.jupyter.widget-view+json": {
              "model_id": "88b1d67b55594140b363399a0d86f051",
              "version_major": 2,
              "version_minor": 0
            },
            "text/plain": [
              "Epoch 25/50 [Train]:   0%|          | 0/664 [00:00<?, ?it/s]"
            ]
          },
          "metadata": {},
          "output_type": "display_data"
        },
        {
          "data": {
            "application/vnd.jupyter.widget-view+json": {
              "model_id": "78618001753a4ba8a46a4f245dcd7f8b",
              "version_major": 2,
              "version_minor": 0
            },
            "text/plain": [
              "Epoch 25/50 [Val]:   0%|          | 0/166 [00:00<?, ?it/s]"
            ]
          },
          "metadata": {},
          "output_type": "display_data"
        },
        {
          "name": "stdout",
          "output_type": "stream",
          "text": [
            "\n",
            "Epoch 25/50:\n",
            "Average Training Loss: 0.6420\n",
            "Average Validation Loss: 0.7180\n"
          ]
        },
        {
          "data": {
            "application/vnd.jupyter.widget-view+json": {
              "model_id": "0f48ab69644141119daba3f19f2153a2",
              "version_major": 2,
              "version_minor": 0
            },
            "text/plain": [
              "Epoch 26/50 [Train]:   0%|          | 0/664 [00:00<?, ?it/s]"
            ]
          },
          "metadata": {},
          "output_type": "display_data"
        },
        {
          "data": {
            "application/vnd.jupyter.widget-view+json": {
              "model_id": "ab35496b7f25441b9d998f29be893d8c",
              "version_major": 2,
              "version_minor": 0
            },
            "text/plain": [
              "Epoch 26/50 [Val]:   0%|          | 0/166 [00:00<?, ?it/s]"
            ]
          },
          "metadata": {},
          "output_type": "display_data"
        },
        {
          "name": "stdout",
          "output_type": "stream",
          "text": [
            "\n",
            "Epoch 26/50:\n",
            "Average Training Loss: 0.6337\n",
            "Average Validation Loss: 0.7230\n"
          ]
        },
        {
          "data": {
            "application/vnd.jupyter.widget-view+json": {
              "model_id": "6404eabfb97d42bb962dc51b84afccaf",
              "version_major": 2,
              "version_minor": 0
            },
            "text/plain": [
              "Epoch 27/50 [Train]:   0%|          | 0/664 [00:00<?, ?it/s]"
            ]
          },
          "metadata": {},
          "output_type": "display_data"
        },
        {
          "data": {
            "application/vnd.jupyter.widget-view+json": {
              "model_id": "07e95efe4c3c472d94f7c66373583d5c",
              "version_major": 2,
              "version_minor": 0
            },
            "text/plain": [
              "Epoch 27/50 [Val]:   0%|          | 0/166 [00:00<?, ?it/s]"
            ]
          },
          "metadata": {},
          "output_type": "display_data"
        },
        {
          "name": "stdout",
          "output_type": "stream",
          "text": [
            "\n",
            "New best model saved! Validation Loss: 0.7052\n",
            "\n",
            "Epoch 27/50:\n",
            "Average Training Loss: 0.5899\n",
            "Average Validation Loss: 0.7052\n"
          ]
        },
        {
          "data": {
            "application/vnd.jupyter.widget-view+json": {
              "model_id": "21b3470fefb5411c8cbac6429725fa1b",
              "version_major": 2,
              "version_minor": 0
            },
            "text/plain": [
              "Epoch 28/50 [Train]:   0%|          | 0/664 [00:00<?, ?it/s]"
            ]
          },
          "metadata": {},
          "output_type": "display_data"
        },
        {
          "data": {
            "application/vnd.jupyter.widget-view+json": {
              "model_id": "9e7b50188db545dca32a5f369ce1a69b",
              "version_major": 2,
              "version_minor": 0
            },
            "text/plain": [
              "Epoch 28/50 [Val]:   0%|          | 0/166 [00:00<?, ?it/s]"
            ]
          },
          "metadata": {},
          "output_type": "display_data"
        },
        {
          "name": "stdout",
          "output_type": "stream",
          "text": [
            "\n",
            "Epoch 28/50:\n",
            "Average Training Loss: 0.5764\n",
            "Average Validation Loss: 0.7059\n"
          ]
        },
        {
          "data": {
            "application/vnd.jupyter.widget-view+json": {
              "model_id": "bb1816bffa8e45fb8f80ab635d6eed9b",
              "version_major": 2,
              "version_minor": 0
            },
            "text/plain": [
              "Epoch 29/50 [Train]:   0%|          | 0/664 [00:00<?, ?it/s]"
            ]
          },
          "metadata": {},
          "output_type": "display_data"
        },
        {
          "data": {
            "application/vnd.jupyter.widget-view+json": {
              "model_id": "f5464a61556d466d9f08478ebecb1512",
              "version_major": 2,
              "version_minor": 0
            },
            "text/plain": [
              "Epoch 29/50 [Val]:   0%|          | 0/166 [00:00<?, ?it/s]"
            ]
          },
          "metadata": {},
          "output_type": "display_data"
        },
        {
          "name": "stdout",
          "output_type": "stream",
          "text": [
            "\n",
            "Epoch 29/50:\n",
            "Average Training Loss: 0.5753\n",
            "Average Validation Loss: 0.7098\n"
          ]
        },
        {
          "data": {
            "application/vnd.jupyter.widget-view+json": {
              "model_id": "87936a4a6b2d4a36ac9cf44e7f7c3f92",
              "version_major": 2,
              "version_minor": 0
            },
            "text/plain": [
              "Epoch 30/50 [Train]:   0%|          | 0/664 [00:00<?, ?it/s]"
            ]
          },
          "metadata": {},
          "output_type": "display_data"
        },
        {
          "data": {
            "application/vnd.jupyter.widget-view+json": {
              "model_id": "ff45a0237a7c4b92924692b311727af7",
              "version_major": 2,
              "version_minor": 0
            },
            "text/plain": [
              "Epoch 30/50 [Val]:   0%|          | 0/166 [00:00<?, ?it/s]"
            ]
          },
          "metadata": {},
          "output_type": "display_data"
        },
        {
          "name": "stdout",
          "output_type": "stream",
          "text": [
            "\n",
            "New best model saved! Validation Loss: 0.7049\n",
            "\n",
            "Epoch 30/50:\n",
            "Average Training Loss: 0.5648\n",
            "Average Validation Loss: 0.7049\n"
          ]
        },
        {
          "data": {
            "application/vnd.jupyter.widget-view+json": {
              "model_id": "0c890c28d30f4279a1e012eab8af127b",
              "version_major": 2,
              "version_minor": 0
            },
            "text/plain": [
              "Epoch 31/50 [Train]:   0%|          | 0/664 [00:00<?, ?it/s]"
            ]
          },
          "metadata": {},
          "output_type": "display_data"
        },
        {
          "data": {
            "application/vnd.jupyter.widget-view+json": {
              "model_id": "739e83f1d4d64a1f8c966e6fbbe1c2a6",
              "version_major": 2,
              "version_minor": 0
            },
            "text/plain": [
              "Epoch 31/50 [Val]:   0%|          | 0/166 [00:00<?, ?it/s]"
            ]
          },
          "metadata": {},
          "output_type": "display_data"
        },
        {
          "name": "stdout",
          "output_type": "stream",
          "text": [
            "\n",
            "New best model saved! Validation Loss: 0.7015\n",
            "\n",
            "Epoch 31/50:\n",
            "Average Training Loss: 0.5599\n",
            "Average Validation Loss: 0.7015\n"
          ]
        },
        {
          "data": {
            "application/vnd.jupyter.widget-view+json": {
              "model_id": "740a6c80de8f454bb1445d07fae65c61",
              "version_major": 2,
              "version_minor": 0
            },
            "text/plain": [
              "Epoch 32/50 [Train]:   0%|          | 0/664 [00:00<?, ?it/s]"
            ]
          },
          "metadata": {},
          "output_type": "display_data"
        },
        {
          "data": {
            "application/vnd.jupyter.widget-view+json": {
              "model_id": "4d80d2b51c1540ee832870ca706f9ab2",
              "version_major": 2,
              "version_minor": 0
            },
            "text/plain": [
              "Epoch 32/50 [Val]:   0%|          | 0/166 [00:00<?, ?it/s]"
            ]
          },
          "metadata": {},
          "output_type": "display_data"
        },
        {
          "name": "stdout",
          "output_type": "stream",
          "text": [
            "\n",
            "Epoch 32/50:\n",
            "Average Training Loss: 0.5545\n",
            "Average Validation Loss: 0.7313\n"
          ]
        },
        {
          "data": {
            "application/vnd.jupyter.widget-view+json": {
              "model_id": "03b4bd9824ca4205be8843f0b81642d5",
              "version_major": 2,
              "version_minor": 0
            },
            "text/plain": [
              "Epoch 33/50 [Train]:   0%|          | 0/664 [00:00<?, ?it/s]"
            ]
          },
          "metadata": {},
          "output_type": "display_data"
        },
        {
          "data": {
            "application/vnd.jupyter.widget-view+json": {
              "model_id": "023a93ad41f3492399fdebde6c0ee47c",
              "version_major": 2,
              "version_minor": 0
            },
            "text/plain": [
              "Epoch 33/50 [Val]:   0%|          | 0/166 [00:00<?, ?it/s]"
            ]
          },
          "metadata": {},
          "output_type": "display_data"
        },
        {
          "name": "stdout",
          "output_type": "stream",
          "text": [
            "\n",
            "Epoch 33/50:\n",
            "Average Training Loss: 0.5518\n",
            "Average Validation Loss: 0.7216\n"
          ]
        },
        {
          "data": {
            "application/vnd.jupyter.widget-view+json": {
              "model_id": "ed65a5cda8d94e98947137a03cc01b8b",
              "version_major": 2,
              "version_minor": 0
            },
            "text/plain": [
              "Epoch 34/50 [Train]:   0%|          | 0/664 [00:00<?, ?it/s]"
            ]
          },
          "metadata": {},
          "output_type": "display_data"
        },
        {
          "data": {
            "application/vnd.jupyter.widget-view+json": {
              "model_id": "3067a315162e45ef8c24d6d07492d464",
              "version_major": 2,
              "version_minor": 0
            },
            "text/plain": [
              "Epoch 34/50 [Val]:   0%|          | 0/166 [00:00<?, ?it/s]"
            ]
          },
          "metadata": {},
          "output_type": "display_data"
        },
        {
          "name": "stdout",
          "output_type": "stream",
          "text": [
            "\n",
            "Epoch 34/50:\n",
            "Average Training Loss: 0.5473\n",
            "Average Validation Loss: 0.7131\n"
          ]
        },
        {
          "data": {
            "application/vnd.jupyter.widget-view+json": {
              "model_id": "5d5d8739a3e64ecebc95a76039ac791a",
              "version_major": 2,
              "version_minor": 0
            },
            "text/plain": [
              "Epoch 35/50 [Train]:   0%|          | 0/664 [00:00<?, ?it/s]"
            ]
          },
          "metadata": {},
          "output_type": "display_data"
        },
        {
          "data": {
            "application/vnd.jupyter.widget-view+json": {
              "model_id": "f81165f49e3d435eafffd5aa6d61b732",
              "version_major": 2,
              "version_minor": 0
            },
            "text/plain": [
              "Epoch 35/50 [Val]:   0%|          | 0/166 [00:00<?, ?it/s]"
            ]
          },
          "metadata": {},
          "output_type": "display_data"
        },
        {
          "name": "stdout",
          "output_type": "stream",
          "text": [
            "\n",
            "Epoch 35/50:\n",
            "Average Training Loss: 0.5448\n",
            "Average Validation Loss: 0.7076\n"
          ]
        },
        {
          "data": {
            "application/vnd.jupyter.widget-view+json": {
              "model_id": "08ed962ab82e46a1a378f4165360de8b",
              "version_major": 2,
              "version_minor": 0
            },
            "text/plain": [
              "Epoch 36/50 [Train]:   0%|          | 0/664 [00:00<?, ?it/s]"
            ]
          },
          "metadata": {},
          "output_type": "display_data"
        },
        {
          "data": {
            "application/vnd.jupyter.widget-view+json": {
              "model_id": "f3670c21f6324617a9638a864f157ae6",
              "version_major": 2,
              "version_minor": 0
            },
            "text/plain": [
              "Epoch 36/50 [Val]:   0%|          | 0/166 [00:00<?, ?it/s]"
            ]
          },
          "metadata": {},
          "output_type": "display_data"
        },
        {
          "name": "stdout",
          "output_type": "stream",
          "text": [
            "\n",
            "Epoch 36/50:\n",
            "Average Training Loss: 0.5151\n",
            "Average Validation Loss: 0.7241\n"
          ]
        },
        {
          "data": {
            "application/vnd.jupyter.widget-view+json": {
              "model_id": "28f00aebe2604d889c17f1d6e4108123",
              "version_major": 2,
              "version_minor": 0
            },
            "text/plain": [
              "Epoch 37/50 [Train]:   0%|          | 0/664 [00:00<?, ?it/s]"
            ]
          },
          "metadata": {},
          "output_type": "display_data"
        },
        {
          "data": {
            "application/vnd.jupyter.widget-view+json": {
              "model_id": "1cf887bc40964f88a9db7c8f60d09ef4",
              "version_major": 2,
              "version_minor": 0
            },
            "text/plain": [
              "Epoch 37/50 [Val]:   0%|          | 0/166 [00:00<?, ?it/s]"
            ]
          },
          "metadata": {},
          "output_type": "display_data"
        },
        {
          "name": "stdout",
          "output_type": "stream",
          "text": [
            "\n",
            "Epoch 37/50:\n",
            "Average Training Loss: 0.5114\n",
            "Average Validation Loss: 0.7210\n"
          ]
        },
        {
          "data": {
            "application/vnd.jupyter.widget-view+json": {
              "model_id": "cae51cca134340cda56c6cbf9515aa65",
              "version_major": 2,
              "version_minor": 0
            },
            "text/plain": [
              "Epoch 38/50 [Train]:   0%|          | 0/664 [00:00<?, ?it/s]"
            ]
          },
          "metadata": {},
          "output_type": "display_data"
        },
        {
          "data": {
            "application/vnd.jupyter.widget-view+json": {
              "model_id": "86851c100ef6435f8dc74ff5409d7f66",
              "version_major": 2,
              "version_minor": 0
            },
            "text/plain": [
              "Epoch 38/50 [Val]:   0%|          | 0/166 [00:00<?, ?it/s]"
            ]
          },
          "metadata": {},
          "output_type": "display_data"
        },
        {
          "name": "stdout",
          "output_type": "stream",
          "text": [
            "\n",
            "Epoch 38/50:\n",
            "Average Training Loss: 0.5087\n",
            "Average Validation Loss: 0.7174\n"
          ]
        },
        {
          "data": {
            "application/vnd.jupyter.widget-view+json": {
              "model_id": "12f2ce5850af42e78cae218d73a7c0dc",
              "version_major": 2,
              "version_minor": 0
            },
            "text/plain": [
              "Epoch 39/50 [Train]:   0%|          | 0/664 [00:00<?, ?it/s]"
            ]
          },
          "metadata": {},
          "output_type": "display_data"
        },
        {
          "data": {
            "application/vnd.jupyter.widget-view+json": {
              "model_id": "02aab28671204a118917840416c13dd3",
              "version_major": 2,
              "version_minor": 0
            },
            "text/plain": [
              "Epoch 39/50 [Val]:   0%|          | 0/166 [00:00<?, ?it/s]"
            ]
          },
          "metadata": {},
          "output_type": "display_data"
        },
        {
          "name": "stdout",
          "output_type": "stream",
          "text": [
            "\n",
            "Epoch 39/50:\n",
            "Average Training Loss: 0.5009\n",
            "Average Validation Loss: 0.7418\n"
          ]
        },
        {
          "data": {
            "application/vnd.jupyter.widget-view+json": {
              "model_id": "be7ea4d0cc1e4818b5b01a33bd65210f",
              "version_major": 2,
              "version_minor": 0
            },
            "text/plain": [
              "Epoch 40/50 [Train]:   0%|          | 0/664 [00:00<?, ?it/s]"
            ]
          },
          "metadata": {},
          "output_type": "display_data"
        },
        {
          "data": {
            "application/vnd.jupyter.widget-view+json": {
              "model_id": "bf93a7656ccf46a9b0576166b75db2a1",
              "version_major": 2,
              "version_minor": 0
            },
            "text/plain": [
              "Epoch 40/50 [Val]:   0%|          | 0/166 [00:00<?, ?it/s]"
            ]
          },
          "metadata": {},
          "output_type": "display_data"
        },
        {
          "name": "stdout",
          "output_type": "stream",
          "text": [
            "\n",
            "Epoch 40/50:\n",
            "Average Training Loss: 0.4865\n",
            "Average Validation Loss: 0.7404\n"
          ]
        },
        {
          "data": {
            "application/vnd.jupyter.widget-view+json": {
              "model_id": "a6deca74b95d4938a378c92183213948",
              "version_major": 2,
              "version_minor": 0
            },
            "text/plain": [
              "Epoch 41/50 [Train]:   0%|          | 0/664 [00:00<?, ?it/s]"
            ]
          },
          "metadata": {},
          "output_type": "display_data"
        },
        {
          "data": {
            "application/vnd.jupyter.widget-view+json": {
              "model_id": "59d1639dc9d44d5184464a323fd10c02",
              "version_major": 2,
              "version_minor": 0
            },
            "text/plain": [
              "Epoch 41/50 [Val]:   0%|          | 0/166 [00:00<?, ?it/s]"
            ]
          },
          "metadata": {},
          "output_type": "display_data"
        },
        {
          "name": "stdout",
          "output_type": "stream",
          "text": [
            "\n",
            "Epoch 41/50:\n",
            "Average Training Loss: 0.4836\n",
            "Average Validation Loss: 0.7374\n"
          ]
        },
        {
          "data": {
            "application/vnd.jupyter.widget-view+json": {
              "model_id": "d1aa9e72778d4750983cbd62e3c7e620",
              "version_major": 2,
              "version_minor": 0
            },
            "text/plain": [
              "Epoch 42/50 [Train]:   0%|          | 0/664 [00:00<?, ?it/s]"
            ]
          },
          "metadata": {},
          "output_type": "display_data"
        },
        {
          "data": {
            "application/vnd.jupyter.widget-view+json": {
              "model_id": "d5f440bb819548e2a16d4ff8b2fb0c08",
              "version_major": 2,
              "version_minor": 0
            },
            "text/plain": [
              "Epoch 42/50 [Val]:   0%|          | 0/166 [00:00<?, ?it/s]"
            ]
          },
          "metadata": {},
          "output_type": "display_data"
        },
        {
          "name": "stdout",
          "output_type": "stream",
          "text": [
            "\n",
            "Epoch 42/50:\n",
            "Average Training Loss: 0.4818\n",
            "Average Validation Loss: 0.7373\n"
          ]
        },
        {
          "data": {
            "application/vnd.jupyter.widget-view+json": {
              "model_id": "f418a4446ffe4f33b94026c8fae714c9",
              "version_major": 2,
              "version_minor": 0
            },
            "text/plain": [
              "Epoch 43/50 [Train]:   0%|          | 0/664 [00:00<?, ?it/s]"
            ]
          },
          "metadata": {},
          "output_type": "display_data"
        },
        {
          "data": {
            "application/vnd.jupyter.widget-view+json": {
              "model_id": "33a1d6275c3d4a8492aacedf6fd9d318",
              "version_major": 2,
              "version_minor": 0
            },
            "text/plain": [
              "Epoch 43/50 [Val]:   0%|          | 0/166 [00:00<?, ?it/s]"
            ]
          },
          "metadata": {},
          "output_type": "display_data"
        },
        {
          "name": "stdout",
          "output_type": "stream",
          "text": [
            "\n",
            "Epoch 43/50:\n",
            "Average Training Loss: 0.4783\n",
            "Average Validation Loss: 0.7359\n"
          ]
        },
        {
          "data": {
            "application/vnd.jupyter.widget-view+json": {
              "model_id": "6b250caa8d2f41d2876e328315002913",
              "version_major": 2,
              "version_minor": 0
            },
            "text/plain": [
              "Epoch 44/50 [Train]:   0%|          | 0/664 [00:00<?, ?it/s]"
            ]
          },
          "metadata": {},
          "output_type": "display_data"
        },
        {
          "data": {
            "application/vnd.jupyter.widget-view+json": {
              "model_id": "f2f603c2675049408de5f5c80f35eb55",
              "version_major": 2,
              "version_minor": 0
            },
            "text/plain": [
              "Epoch 44/50 [Val]:   0%|          | 0/166 [00:00<?, ?it/s]"
            ]
          },
          "metadata": {},
          "output_type": "display_data"
        },
        {
          "name": "stdout",
          "output_type": "stream",
          "text": [
            "\n",
            "Epoch 44/50:\n",
            "Average Training Loss: 0.4731\n",
            "Average Validation Loss: 0.7456\n"
          ]
        },
        {
          "data": {
            "application/vnd.jupyter.widget-view+json": {
              "model_id": "9833f9428342453f8c605761e85ff72b",
              "version_major": 2,
              "version_minor": 0
            },
            "text/plain": [
              "Epoch 45/50 [Train]:   0%|          | 0/664 [00:00<?, ?it/s]"
            ]
          },
          "metadata": {},
          "output_type": "display_data"
        },
        {
          "data": {
            "application/vnd.jupyter.widget-view+json": {
              "model_id": "cd9294bf8bc0420c97e88f3d000fa688",
              "version_major": 2,
              "version_minor": 0
            },
            "text/plain": [
              "Epoch 45/50 [Val]:   0%|          | 0/166 [00:00<?, ?it/s]"
            ]
          },
          "metadata": {},
          "output_type": "display_data"
        },
        {
          "name": "stdout",
          "output_type": "stream",
          "text": [
            "\n",
            "Epoch 45/50:\n",
            "Average Training Loss: 0.4764\n",
            "Average Validation Loss: 0.7398\n"
          ]
        },
        {
          "data": {
            "application/vnd.jupyter.widget-view+json": {
              "model_id": "5fd58ba051164a06bd8bdc56b7a291ae",
              "version_major": 2,
              "version_minor": 0
            },
            "text/plain": [
              "Epoch 46/50 [Train]:   0%|          | 0/664 [00:00<?, ?it/s]"
            ]
          },
          "metadata": {},
          "output_type": "display_data"
        },
        {
          "data": {
            "application/vnd.jupyter.widget-view+json": {
              "model_id": "77596afdbdbe49a7a67e62cd61fde390",
              "version_major": 2,
              "version_minor": 0
            },
            "text/plain": [
              "Epoch 46/50 [Val]:   0%|          | 0/166 [00:00<?, ?it/s]"
            ]
          },
          "metadata": {},
          "output_type": "display_data"
        },
        {
          "name": "stdout",
          "output_type": "stream",
          "text": [
            "\n",
            "Epoch 46/50:\n",
            "Average Training Loss: 0.4661\n",
            "Average Validation Loss: 0.7422\n"
          ]
        },
        {
          "data": {
            "application/vnd.jupyter.widget-view+json": {
              "model_id": "966467447e014332bfa5846e30df1036",
              "version_major": 2,
              "version_minor": 0
            },
            "text/plain": [
              "Epoch 47/50 [Train]:   0%|          | 0/664 [00:00<?, ?it/s]"
            ]
          },
          "metadata": {},
          "output_type": "display_data"
        },
        {
          "data": {
            "application/vnd.jupyter.widget-view+json": {
              "model_id": "4b00c4bd6d6e419f9912d65df8efa62c",
              "version_major": 2,
              "version_minor": 0
            },
            "text/plain": [
              "Epoch 47/50 [Val]:   0%|          | 0/166 [00:00<?, ?it/s]"
            ]
          },
          "metadata": {},
          "output_type": "display_data"
        },
        {
          "name": "stdout",
          "output_type": "stream",
          "text": [
            "\n",
            "Epoch 47/50:\n",
            "Average Training Loss: 0.4676\n",
            "Average Validation Loss: 0.7495\n"
          ]
        },
        {
          "data": {
            "application/vnd.jupyter.widget-view+json": {
              "model_id": "8f1c971feeb044c3a6b25d2cdd0ff1ae",
              "version_major": 2,
              "version_minor": 0
            },
            "text/plain": [
              "Epoch 48/50 [Train]:   0%|          | 0/664 [00:00<?, ?it/s]"
            ]
          },
          "metadata": {},
          "output_type": "display_data"
        },
        {
          "data": {
            "application/vnd.jupyter.widget-view+json": {
              "model_id": "100b86057e1f4248bc8968d2f4f6402b",
              "version_major": 2,
              "version_minor": 0
            },
            "text/plain": [
              "Epoch 48/50 [Val]:   0%|          | 0/166 [00:00<?, ?it/s]"
            ]
          },
          "metadata": {},
          "output_type": "display_data"
        },
        {
          "name": "stdout",
          "output_type": "stream",
          "text": [
            "\n",
            "Epoch 48/50:\n",
            "Average Training Loss: 0.4620\n",
            "Average Validation Loss: 0.7513\n"
          ]
        },
        {
          "data": {
            "application/vnd.jupyter.widget-view+json": {
              "model_id": "87257c0ff25241f98f6e9c17e47708ff",
              "version_major": 2,
              "version_minor": 0
            },
            "text/plain": [
              "Epoch 49/50 [Train]:   0%|          | 0/664 [00:00<?, ?it/s]"
            ]
          },
          "metadata": {},
          "output_type": "display_data"
        },
        {
          "data": {
            "application/vnd.jupyter.widget-view+json": {
              "model_id": "e7ac1b4bfd5d405faed11921b7890458",
              "version_major": 2,
              "version_minor": 0
            },
            "text/plain": [
              "Epoch 49/50 [Val]:   0%|          | 0/166 [00:00<?, ?it/s]"
            ]
          },
          "metadata": {},
          "output_type": "display_data"
        },
        {
          "name": "stdout",
          "output_type": "stream",
          "text": [
            "\n",
            "Epoch 49/50:\n",
            "Average Training Loss: 0.4591\n",
            "Average Validation Loss: 0.7513\n"
          ]
        },
        {
          "data": {
            "application/vnd.jupyter.widget-view+json": {
              "model_id": "8a8ea0c7898546dd9e5154de9f648f84",
              "version_major": 2,
              "version_minor": 0
            },
            "text/plain": [
              "Epoch 50/50 [Train]:   0%|          | 0/664 [00:00<?, ?it/s]"
            ]
          },
          "metadata": {},
          "output_type": "display_data"
        },
        {
          "data": {
            "application/vnd.jupyter.widget-view+json": {
              "model_id": "89632e0d50134be19ff4fc9f2bd3f751",
              "version_major": 2,
              "version_minor": 0
            },
            "text/plain": [
              "Epoch 50/50 [Val]:   0%|          | 0/166 [00:00<?, ?it/s]"
            ]
          },
          "metadata": {},
          "output_type": "display_data"
        },
        {
          "name": "stdout",
          "output_type": "stream",
          "text": [
            "\n",
            "Epoch 50/50:\n",
            "Average Training Loss: 0.4621\n",
            "Average Validation Loss: 0.7485\n"
          ]
        }
      ],
      "source": [
        "device = torch.device('cuda' if torch.cuda.is_available() else 'cpu')\n",
        "\n",
        "# training config\n",
        "batch_size = 128  \n",
        "learning_rate = 0.001  \n",
        "num_epochs = 50\n",
        "\n",
        "# init model and optimizer\n",
        "model = TransformerLOB(y_len=3, device=device).to(device) # can switch to DeepLOB_Network_v2 or BaselineDeepLOB here\n",
        "optimizer = torch.optim.Adam(model.parameters(), lr=learning_rate)\n",
        "scheduler = torch.optim.lr_scheduler.ReduceLROnPlateau(\n",
        "    optimizer, \n",
        "    mode='min', \n",
        "    factor=0.5, \n",
        "    patience=3, \n",
        "    verbose=True\n",
        ")\n",
        "criterion = nn.CrossEntropyLoss()\n",
        "\n",
        "# save best model to savedModels/best_transformer.pth\n",
        "best_val_loss = float('inf')\n",
        "best_model_path = '../savedModels/best_transformer.pth'\n",
        "\n",
        "train_losses = []\n",
        "val_losses = []\n",
        "train_accuracies = []\n",
        "val_accuracies = []\n",
        "\n",
        "for epoch in range(num_epochs):\n",
        "    # training phase\n",
        "    model.train()\n",
        "    total_train_loss = 0\n",
        "    correct_train = 0\n",
        "    total_train = 0\n",
        "    train_batches = tqdm(train_loader, desc=f'Epoch {epoch+1}/{num_epochs} [Train]')\n",
        "\n",
        "    for batch_X, batch_y in train_batches:\n",
        "        batch_X, batch_y = batch_X.to(device), batch_y.to(device)\n",
        "        \n",
        "        optimizer.zero_grad()\n",
        "        outputs = model(batch_X)\n",
        "        loss = criterion(outputs, batch_y)\n",
        "        \n",
        "        loss.backward()\n",
        "        optimizer.step()\n",
        "        \n",
        "        total_train_loss += loss.item()\n",
        "        train_batches.set_postfix({'loss': loss.item()})\n",
        "\n",
        "        _, predicted = torch.max(outputs, dim=1)\n",
        "        correct_train += (predicted == batch_y.argmax(dim=1)).sum().item()\n",
        "        total_train += batch_y.size(0)\n",
        "\n",
        "    avg_train_loss = total_train_loss / len(train_loader)\n",
        "    train_losses.append(avg_train_loss)\n",
        "    \n",
        "    # Calculate epoch-level training accuracy\n",
        "    train_accuracy = correct_train / total_train\n",
        "    train_accuracies.append(train_accuracy)\n",
        "\n",
        "    # validation phase\n",
        "    model.eval()\n",
        "    total_val_loss = 0\n",
        "    correct_val = 0\n",
        "    total_val = 0\n",
        "    val_batches = tqdm(test_loader, desc=f'Epoch {epoch+1}/{num_epochs} [Val]')\n",
        "\n",
        "    with torch.no_grad():\n",
        "        for batch_X, batch_y in val_batches:\n",
        "            batch_X, batch_y = batch_X.to(device), batch_y.to(device)\n",
        "            outputs = model(batch_X)\n",
        "            loss = criterion(outputs, batch_y)\n",
        "            total_val_loss += loss.item()\n",
        "            val_batches.set_postfix({'loss': loss.item()})\n",
        "\n",
        "            _, predicted = torch.max(outputs, dim=1)\n",
        "            correct_val += (predicted == batch_y.argmax(dim=1)).sum().item()\n",
        "            total_val += batch_y.size(0)\n",
        "\n",
        "    avg_val_loss = total_val_loss / len(test_loader)\n",
        "    val_losses.append(avg_val_loss)\n",
        "\n",
        "    # Calculate epoch-level validation accuracy\n",
        "    val_accuracy = correct_val / total_val\n",
        "    val_accuracies.append(val_accuracy)\n",
        "\n",
        "    # update learning rate\n",
        "    scheduler.step(avg_val_loss)\n",
        "    \n",
        "    # save best model\n",
        "    if avg_val_loss < best_val_loss:\n",
        "        best_val_loss = avg_val_loss\n",
        "        torch.save({\n",
        "            'epoch': epoch,\n",
        "            'model_state_dict': model.state_dict(),\n",
        "            'optimizer_state_dict': optimizer.state_dict(),\n",
        "            'train_loss': avg_train_loss,\n",
        "            'val_loss': avg_val_loss,\n",
        "            'train_losses': train_losses,\n",
        "            'val_losses': val_losses\n",
        "        }, best_model_path)\n",
        "        print(f'\\nNew best model saved! Validation Loss: {avg_val_loss:.4f}')\n",
        "    \n",
        "    print(f'\\nEpoch {epoch+1}/{num_epochs}:')\n",
        "    print(f'Average Training Loss: {avg_train_loss:.4f}')\n",
        "    print(f'Average Validation Loss: {avg_val_loss:.4f}')"
      ]
    },
    {
      "cell_type": "code",
      "execution_count": 7,
      "metadata": {},
      "outputs": [
        {
          "data": {
            "image/png": "[encoded data removed]",
            "text/plain": [
              "<Figure size 1000x600 with 1 Axes>"
            ]
          },
          "metadata": {},
          "output_type": "display_data"
        }
      ],
      "source": [
        "plt.figure(figsize=(10, 6))\n",
        "plt.plot(train_accuracies, label='Training Accuracy', color='blue')\n",
        "plt.plot(val_accuracies, label='Validation Accuracy', color='red')\n",
        "plt.xlabel('Iterations (Batch-level)', fontsize=14)\n",
        "plt.ylabel('Accuracy', fontsize=14)\n",
        "plt.title('Training and Validation Accuracy over Time', fontsize=16)\n",
        "plt.legend()\n",
        "plt.grid(True)\n",
        "plt.show()"
      ]
    },
    {
      "cell_type": "code",
      "execution_count": 3,
      "metadata": {},
      "outputs": [],
      "source": [
        "def evaluate_model(model, test_loader, device):\n",
        "    all_predictions = []\n",
        "    all_labels = []\n",
        "    \n",
        "    with torch.no_grad():\n",
        "        for batch_X, batch_y in test_loader:\n",
        "            batch_X, batch_y = batch_X.to(device), batch_y.to(device)\n",
        "            outputs = model(batch_X)\n",
        "            \n",
        "            # convert one-hot encoded outputs to class predictions\n",
        "            predictions = outputs.argmax(dim=1)\n",
        "            true_labels = batch_y.argmax(dim=1)\n",
        "            \n",
        "            all_predictions.extend(predictions.cpu().numpy())\n",
        "            all_labels.extend(true_labels.cpu().numpy())\n",
        "    \n",
        "    return all_predictions, all_labels"
      ]
    },
    {
      "cell_type": "code",
      "execution_count": 6,
      "metadata": {},
      "outputs": [
        {
          "name": "stdout",
          "output_type": "stream",
          "text": [
            "Loading saved model from ../savedModels/best_transformer.pth\n"
          ]
        },
        {
          "name": "stderr",
          "output_type": "stream",
          "text": [
            "/var/folders/6y/rz_n_6x924d63ryw6s3z5jch0000gn/T/ipykernel_1340/2397171367.py:6: FutureWarning: You are using `torch.load` with `weights_only=False` (the current default value), which uses the default pickle module implicitly. It is possible to construct malicious pickle data which will execute arbitrary code during unpickling (See https://github.com/pytorch/pytorch/blob/main/SECURITY.md#untrusted-models for more details). In a future release, the default value for `weights_only` will be flipped to `True`. This limits the functions that could be executed during unpickling. Arbitrary objects will no longer be allowed to be loaded via this mode unless they are explicitly allowlisted by the user via `torch.serialization.add_safe_globals`. We recommend you start setting `weights_only=True` for any use case where you don't have full control of the loaded file. Please open an issue on GitHub for any issues related to this experimental feature.\n",
            "  checkpoint = torch.load(model_path)\n"
          ]
        },
        {
          "ename": "NameError",
          "evalue": "name 'model' is not defined",
          "output_type": "error",
          "traceback": [
            "\u001b[0;31m---------------------------------------------------------------------------\u001b[0m",
            "\u001b[0;31mNameError\u001b[0m                                 Traceback (most recent call last)",
            "Cell \u001b[0;32mIn[6], line 7\u001b[0m\n\u001b[1;32m      5\u001b[0m     \u001b[38;5;28mprint\u001b[39m(\u001b[38;5;124mf\u001b[39m\u001b[38;5;124m\"\u001b[39m\u001b[38;5;124mLoading saved model from \u001b[39m\u001b[38;5;132;01m{\u001b[39;00mmodel_path\u001b[38;5;132;01m}\u001b[39;00m\u001b[38;5;124m\"\u001b[39m)\n\u001b[1;32m      6\u001b[0m     checkpoint \u001b[38;5;241m=\u001b[39m torch\u001b[38;5;241m.\u001b[39mload(model_path)\n\u001b[0;32m----> 7\u001b[0m     \u001b[43mmodel\u001b[49m\u001b[38;5;241m.\u001b[39mload_state_dict(checkpoint[\u001b[38;5;124m'\u001b[39m\u001b[38;5;124mmodel_state_dict\u001b[39m\u001b[38;5;124m'\u001b[39m])\n\u001b[1;32m      8\u001b[0m     model\u001b[38;5;241m.\u001b[39meval()  \u001b[38;5;66;03m# set to evaluation mode\u001b[39;00m\n\u001b[1;32m      9\u001b[0m \u001b[38;5;28;01melse\u001b[39;00m:\n",
            "\u001b[0;31mNameError\u001b[0m: name 'model' is not defined"
          ]
        }
      ],
      "source": [
        "# load the saved model state if it exists\n",
        "device = torch.device('cuda' if torch.cuda.is_available() else 'cpu')\n",
        "model_path = '../savedModels/best_transformer.pth'\n",
        "if os.path.exists(model_path):\n",
        "    print(f\"Loading saved model from {model_path}\")\n",
        "    checkpoint = torch.load(model_path)\n",
        "    model.load_state_dict(checkpoint['model_state_dict'])\n",
        "    model.eval()  # set to evaluation mode\n",
        "else:\n",
        "    print(f\"No saved model found at {model_path}. Please train the model first.\")\n",
        "    exit()\n",
        "\n",
        "predictions, true_labels = evaluate_model(model, test_loader, device)\n",
        "\n",
        "print(\"\\nClassification Report:\")\n",
        "print(classification_report(true_labels, predictions, \n",
        "                          target_names=['No Movement', 'Up', 'Down']))\n",
        "\n",
        "plt.figure(figsize=(10, 8))\n",
        "cm = confusion_matrix(true_labels, predictions)\n",
        "sns.heatmap(cm, annot=True, fmt='d', cmap='Blues',\n",
        "            xticklabels=['No Movement', 'Up', 'Down'],\n",
        "            yticklabels=['No Movement', 'Up', 'Down'])\n",
        "plt.title('Confusion Matrix')\n",
        "plt.xlabel('Predicted Label')\n",
        "plt.ylabel('True Label')\n",
        "plt.show()"
      ]
    },
    {
      "cell_type": "code",
      "execution_count": 10,
      "metadata": {},
      "outputs": [],
      "source": [
        "root_path = os.path.abspath(os.path.join(os.path.dirname(os.getcwd()), \"data\", \"BenchmarkDatasets_csv\", \"Auction\", \"1.Auction_Zscore\", \"Auction_Zscore_Testing\"))\n",
        "window_size = 100\n",
        "overlap_percent = 25  # 25% overlap between windows\n",
        "num_workers = 5"
      ]
    },
    {
      "cell_type": "code",
      "execution_count": 11,
      "metadata": {},
      "outputs": [
        {
          "name": "stderr",
          "output_type": "stream",
          "text": [
            "Processing CSV Files: 100%|██████████| 9/9 [00:08<00:00,  1.10it/s]"
          ]
        },
        {
          "name": "stdout",
          "output_type": "stream",
          "text": [
            "\n",
            "Raw price movement statistics:\n",
            "Mean: 1.9958\n",
            "Std: 0.8641\n",
            "Min: 1.0000\n",
            "Max: 3.0000\n",
            "\n",
            "Label distribution:\n",
            "0    2057\n",
            "1    1388\n",
            "2    2034\n",
            "Name: count, dtype: int64\n"
          ]
        },
        {
          "name": "stderr",
          "output_type": "stream",
          "text": [
            "\n"
          ]
        }
      ],
      "source": [
        "test_dataset = FI2010_Orderbook_Optimized(\n",
        "    root_path=root_path,\n",
        "    window_size=window_size,\n",
        "    overlap_percent=overlap_percent,\n",
        "    num_workers=num_workers, \n",
        "    verbose=True\n",
        ")"
      ]
    },
    {
      "cell_type": "code",
      "execution_count": 20,
      "metadata": {},
      "outputs": [],
      "source": [
        "batch_size = 32\n",
        "test_loader = DataLoader(\n",
        "    test_dataset,\n",
        "    batch_size=batch_size,\n",
        "    shuffle=True,\n",
        "    num_workers=0,\n",
        "    pin_memory=True if torch.cuda.is_available() else False,\n",
        "    collate_fn=lambda batch: (\n",
        "        torch.stack([x[0] for x in batch]).transpose(1, 2).unsqueeze(1),\n",
        "        torch.stack([x[1] for x in batch])\n",
        "    )\n",
        ")"
      ]
    },
    {
      "cell_type": "code",
      "execution_count": 7,
      "metadata": {},
      "outputs": [
        {
          "ename": "NameError",
          "evalue": "name 'evaluate_model' is not defined",
          "output_type": "error",
          "traceback": [
            "\u001b[0;31m---------------------------------------------------------------------------\u001b[0m",
            "\u001b[0;31mNameError\u001b[0m                                 Traceback (most recent call last)",
            "Cell \u001b[0;32mIn[7], line 1\u001b[0m\n\u001b[0;32m----> 1\u001b[0m predictions, true_labels \u001b[38;5;241m=\u001b[39m \u001b[43mevaluate_model\u001b[49m(model, test_loader, device)\n\u001b[1;32m      3\u001b[0m \u001b[38;5;28mprint\u001b[39m(\u001b[38;5;124m\"\u001b[39m\u001b[38;5;130;01m\\n\u001b[39;00m\u001b[38;5;124mClassification Report:\u001b[39m\u001b[38;5;124m\"\u001b[39m)\n\u001b[1;32m      4\u001b[0m \u001b[38;5;28mprint\u001b[39m(classification_report(true_labels, predictions, \n\u001b[1;32m      5\u001b[0m                           target_names\u001b[38;5;241m=\u001b[39m[\u001b[38;5;124m'\u001b[39m\u001b[38;5;124mNo Movement\u001b[39m\u001b[38;5;124m'\u001b[39m, \u001b[38;5;124m'\u001b[39m\u001b[38;5;124mUp\u001b[39m\u001b[38;5;124m'\u001b[39m, \u001b[38;5;124m'\u001b[39m\u001b[38;5;124mDown\u001b[39m\u001b[38;5;124m'\u001b[39m]))\n",
            "\u001b[0;31mNameError\u001b[0m: name 'evaluate_model' is not defined"
          ]
        }
      ],
      "source": [
        "predictions, true_labels = evaluate_model(model, test_loader, device)\n",
        "\n",
        "print(\"\\nClassification Report:\")\n",
        "print(classification_report(true_labels, predictions, \n",
        "                          target_names=['No Movement', 'Up', 'Down']))\n",
        "\n",
        "plt.figure(figsize=(10, 8))\n",
        "cm = confusion_matrix(true_labels, predictions)\n",
        "sns.heatmap(cm, annot=True, fmt='d', cmap='Blues',\n",
        "            xticklabels=['Up', 'No Movement', 'Down'],\n",
        "            yticklabels=['Up', 'No Movement', 'Down'])\n",
        "plt.title('Confusion Matrix')\n",
        "plt.xlabel('Predicted Label')\n",
        "plt.ylabel('True Label')\n",
        "plt.show()"
      ]
    }
  ],
  "metadata": {
    "kernelspec": {
      "display_name": "venv",
      "language": "python",
      "name": "python3"
    },
    "language_info": {
      "codemirror_mode": {
        "name": "ipython",
        "version": 3
      },
      "file_extension": ".py",
      "mimetype": "text/x-python",
      "name": "python",
      "nbconvert_exporter": "python",
      "pygments_lexer": "ipython3",
      "version": "3.9.6"
    }
  },
  "nbformat": 4,
  "nbformat_minor": 2
}

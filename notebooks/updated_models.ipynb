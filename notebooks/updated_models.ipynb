{
 "cells": [
  {
   "cell_type": "code",
   "execution_count": 1,
   "metadata": {},
   "outputs": [
    {
     "name": "stdout",
     "output_type": "stream",
     "text": [
      "Requirement already satisfied: pandas in /Users/Rafa/Documents/Code/BC/COMPUTER SCIENCE/DL/LOBnet/venv/lib/python3.9/site-packages (2.2.3)\n",
      "Requirement already satisfied: numpy in /Users/Rafa/Documents/Code/BC/COMPUTER SCIENCE/DL/LOBnet/venv/lib/python3.9/site-packages (2.0.2)\n",
      "Requirement already satisfied: torch in /Users/Rafa/Documents/Code/BC/COMPUTER SCIENCE/DL/LOBnet/venv/lib/python3.9/site-packages (2.5.1)\n",
      "Requirement already satisfied: tqdm in /Users/Rafa/Documents/Code/BC/COMPUTER SCIENCE/DL/LOBnet/venv/lib/python3.9/site-packages (4.67.1)\n",
      "Requirement already satisfied: seaborn in /Users/Rafa/Documents/Code/BC/COMPUTER SCIENCE/DL/LOBnet/venv/lib/python3.9/site-packages (0.13.2)\n",
      "Requirement already satisfied: matplotlib in /Users/Rafa/Documents/Code/BC/COMPUTER SCIENCE/DL/LOBnet/venv/lib/python3.9/site-packages (3.9.3)\n",
      "Requirement already satisfied: tzdata>=2022.7 in /Users/Rafa/Documents/Code/BC/COMPUTER SCIENCE/DL/LOBnet/venv/lib/python3.9/site-packages (from pandas) (2024.2)\n",
      "Requirement already satisfied: python-dateutil>=2.8.2 in /Users/Rafa/Documents/Code/BC/COMPUTER SCIENCE/DL/LOBnet/venv/lib/python3.9/site-packages (from pandas) (2.9.0.post0)\n",
      "Requirement already satisfied: pytz>=2020.1 in /Users/Rafa/Documents/Code/BC/COMPUTER SCIENCE/DL/LOBnet/venv/lib/python3.9/site-packages (from pandas) (2024.2)\n",
      "Requirement already satisfied: filelock in /Users/Rafa/Documents/Code/BC/COMPUTER SCIENCE/DL/LOBnet/venv/lib/python3.9/site-packages (from torch) (3.16.1)\n",
      "Requirement already satisfied: jinja2 in /Users/Rafa/Documents/Code/BC/COMPUTER SCIENCE/DL/LOBnet/venv/lib/python3.9/site-packages (from torch) (3.1.4)\n",
      "Requirement already satisfied: typing-extensions>=4.8.0 in /Users/Rafa/Documents/Code/BC/COMPUTER SCIENCE/DL/LOBnet/venv/lib/python3.9/site-packages (from torch) (4.12.2)\n",
      "Requirement already satisfied: fsspec in /Users/Rafa/Documents/Code/BC/COMPUTER SCIENCE/DL/LOBnet/venv/lib/python3.9/site-packages (from torch) (2024.10.0)\n",
      "Requirement already satisfied: networkx in /Users/Rafa/Documents/Code/BC/COMPUTER SCIENCE/DL/LOBnet/venv/lib/python3.9/site-packages (from torch) (3.2.1)\n",
      "Requirement already satisfied: sympy==1.13.1 in /Users/Rafa/Documents/Code/BC/COMPUTER SCIENCE/DL/LOBnet/venv/lib/python3.9/site-packages (from torch) (1.13.1)\n",
      "Requirement already satisfied: mpmath<1.4,>=1.1.0 in /Users/Rafa/Documents/Code/BC/COMPUTER SCIENCE/DL/LOBnet/venv/lib/python3.9/site-packages (from sympy==1.13.1->torch) (1.3.0)\n",
      "Requirement already satisfied: cycler>=0.10 in /Users/Rafa/Documents/Code/BC/COMPUTER SCIENCE/DL/LOBnet/venv/lib/python3.9/site-packages (from matplotlib) (0.12.1)\n",
      "Requirement already satisfied: pillow>=8 in /Users/Rafa/Documents/Code/BC/COMPUTER SCIENCE/DL/LOBnet/venv/lib/python3.9/site-packages (from matplotlib) (11.0.0)\n",
      "Requirement already satisfied: pyparsing>=2.3.1 in /Users/Rafa/Documents/Code/BC/COMPUTER SCIENCE/DL/LOBnet/venv/lib/python3.9/site-packages (from matplotlib) (3.2.0)\n",
      "Requirement already satisfied: fonttools>=4.22.0 in /Users/Rafa/Documents/Code/BC/COMPUTER SCIENCE/DL/LOBnet/venv/lib/python3.9/site-packages (from matplotlib) (4.55.0)\n",
      "Requirement already satisfied: kiwisolver>=1.3.1 in /Users/Rafa/Documents/Code/BC/COMPUTER SCIENCE/DL/LOBnet/venv/lib/python3.9/site-packages (from matplotlib) (1.4.7)\n",
      "Requirement already satisfied: importlib-resources>=3.2.0 in /Users/Rafa/Documents/Code/BC/COMPUTER SCIENCE/DL/LOBnet/venv/lib/python3.9/site-packages (from matplotlib) (6.4.5)\n",
      "Requirement already satisfied: contourpy>=1.0.1 in /Users/Rafa/Documents/Code/BC/COMPUTER SCIENCE/DL/LOBnet/venv/lib/python3.9/site-packages (from matplotlib) (1.3.0)\n",
      "Requirement already satisfied: packaging>=20.0 in /Users/Rafa/Documents/Code/BC/COMPUTER SCIENCE/DL/LOBnet/venv/lib/python3.9/site-packages (from matplotlib) (24.2)\n",
      "Requirement already satisfied: zipp>=3.1.0 in /Users/Rafa/Documents/Code/BC/COMPUTER SCIENCE/DL/LOBnet/venv/lib/python3.9/site-packages (from importlib-resources>=3.2.0->matplotlib) (3.21.0)\n",
      "Requirement already satisfied: six>=1.5 in /Users/Rafa/Documents/Code/BC/COMPUTER SCIENCE/DL/LOBnet/venv/lib/python3.9/site-packages (from python-dateutil>=2.8.2->pandas) (1.16.0)\n",
      "Requirement already satisfied: MarkupSafe>=2.0 in /Users/Rafa/Documents/Code/BC/COMPUTER SCIENCE/DL/LOBnet/venv/lib/python3.9/site-packages (from jinja2->torch) (3.0.2)\n",
      "\u001b[33mWARNING: You are using pip version 21.2.4; however, version 24.3.1 is available.\n",
      "You should consider upgrading via the '/Users/Rafa/Documents/Code/BC/COMPUTER SCIENCE/DL/LOBnet/venv/bin/python -m pip install --upgrade pip' command.\u001b[0m\n",
      "Note: you may need to restart the kernel to use updated packages.\n"
     ]
    }
   ],
   "source": [
    "%pip install pandas numpy torch tqdm seaborn matplotlib"
   ]
  },
  {
   "cell_type": "code",
   "execution_count": 2,
   "metadata": {},
   "outputs": [],
   "source": [
    "import sys\n",
    "sys.path.append('..')\n",
    "\n",
    "import torch\n",
    "import os\n",
    "import torch.nn as nn\n",
    "import pandas as pd \n",
    "import numpy as np\n",
    "from torch.utils.data import random_split, DataLoader\n",
    "from sklearn.metrics import classification_report, confusion_matrix\n",
    "import seaborn as sns\n",
    "import matplotlib.pyplot as plt\n",
    "from tqdm.auto import tqdm\n",
    "from LOBnet.Models import DeepLOB_Network_v1\n",
    "from LOBnet.Orderbooks import FI2010_Orderbook_Optimized"
   ]
  },
  {
   "cell_type": "code",
   "execution_count": 3,
   "metadata": {},
   "outputs": [],
   "source": [
    "datapath = \"../data/BenchmarkDatasets_csv\"\n",
    "window_size = 100\n",
    "overlap_percent = 25  # 25% overlap between windows\n",
    "num_workers = 6\n"
   ]
  },
  {
   "cell_type": "code",
   "execution_count": 4,
   "metadata": {},
   "outputs": [
    {
     "name": "stderr",
     "output_type": "stream",
     "text": [
      "Processing CSV Files:   0%|          | 0/9 [00:00<?, ?it/s]"
     ]
    },
    {
     "name": "stdout",
     "output_type": "stream",
     "text": [
      "Processing file: ../data/BenchmarkDatasets_csv/NoAuction/1.NoAuction_Zscore/NoAuction_Zscore_Training/Train_Dst_NoAuction_ZScore_CF_1.csv\n",
      "Processing file: ../data/BenchmarkDatasets_csv/NoAuction/1.NoAuction_Zscore/NoAuction_Zscore_Training/Train_Dst_NoAuction_ZScore_CF_2.csv\n",
      "Processing file: ../data/BenchmarkDatasets_csv/NoAuction/1.NoAuction_Zscore/NoAuction_Zscore_Training/Train_Dst_NoAuction_ZScore_CF_3.csv\n",
      "Processing file: ../data/BenchmarkDatasets_csv/NoAuction/1.NoAuction_Zscore/NoAuction_Zscore_Training/Train_Dst_NoAuction_ZScore_CF_6.csv\n",
      "Processing file: ../data/BenchmarkDatasets_csv/NoAuction/1.NoAuction_Zscore/NoAuction_Zscore_Training/Train_Dst_NoAuction_ZScore_CF_7.csv\n",
      "Processing file: ../data/BenchmarkDatasets_csv/NoAuction/1.NoAuction_Zscore/NoAuction_Zscore_Training/Train_Dst_NoAuction_ZScore_CF_4.csv\n"
     ]
    },
    {
     "name": "stderr",
     "output_type": "stream",
     "text": [
      "Processing CSV Files:  11%|█         | 1/9 [00:04<00:38,  4.77s/it]"
     ]
    },
    {
     "name": "stdout",
     "output_type": "stream",
     "text": [
      "Processing file: ../data/BenchmarkDatasets_csv/NoAuction/1.NoAuction_Zscore/NoAuction_Zscore_Training/Train_Dst_NoAuction_ZScore_CF_5.csv\n"
     ]
    },
    {
     "name": "stderr",
     "output_type": "stream",
     "text": [
      "Processing CSV Files:  22%|██▏       | 2/9 [00:10<00:39,  5.62s/it]"
     ]
    },
    {
     "name": "stdout",
     "output_type": "stream",
     "text": [
      "Processing file: ../data/BenchmarkDatasets_csv/NoAuction/1.NoAuction_Zscore/NoAuction_Zscore_Training/Train_Dst_NoAuction_ZScore_CF_8.csv\n"
     ]
    },
    {
     "name": "stderr",
     "output_type": "stream",
     "text": [
      "Processing CSV Files:  33%|███▎      | 3/9 [00:15<00:29,  4.94s/it]"
     ]
    },
    {
     "name": "stdout",
     "output_type": "stream",
     "text": [
      "Processing file: ../data/BenchmarkDatasets_csv/NoAuction/1.NoAuction_Zscore/NoAuction_Zscore_Training/Train_Dst_NoAuction_ZScore_CF_9.csv\n"
     ]
    },
    {
     "name": "stderr",
     "output_type": "stream",
     "text": [
      "Processing CSV Files: 100%|██████████| 9/9 [04:40<00:00, 31.14s/it]\n"
     ]
    },
    {
     "name": "stdout",
     "output_type": "stream",
     "text": [
      "\n",
      "Raw price movement statistics:\n",
      "Mean: 1.9929\n",
      "Std: 0.8862\n",
      "Min: 1.0000\n",
      "Max: 3.0000\n",
      "\n",
      "Label distribution:\n",
      "0    8931\n",
      "1    4838\n",
      "2    8771\n",
      "Name: count, dtype: int64\n"
     ]
    }
   ],
   "source": [
    "# initialize dataset\n",
    "dataset = FI2010_Orderbook_Optimized(\n",
    "    root_path=datapath,\n",
    "    venue=\"NoAuction\",\n",
    "    normalization_type=\"Zscore\",\n",
    "    split=\"Training\",\n",
    "    window_size=window_size,\n",
    "    overlap_percent=overlap_percent,\n",
    "    num_workers=num_workers, \n",
    "    verbose=True\n",
    ")"
   ]
  },
  {
   "cell_type": "code",
   "execution_count": 6,
   "metadata": {},
   "outputs": [
    {
     "name": "stdout",
     "output_type": "stream",
     "text": [
      "Total dataset size: 22540\n",
      "Training set size: 18032\n",
      "Test set size: 4508\n"
     ]
    }
   ],
   "source": [
    "# create train/test splits (80/20)\n",
    "total_size = len(dataset)\n",
    "train_size = int(0.8 * total_size)\n",
    "test_size = total_size - train_size\n",
    "\n",
    "train_dataset, test_dataset = random_split(\n",
    "    dataset, \n",
    "    [train_size, test_size],\n",
    "    generator=torch.Generator().manual_seed(42)  # for reproducibility\n",
    ")\n",
    "\n",
    "# Create DataLoaders\n",
    "batch_size = 32\n",
    "train_loader = DataLoader(\n",
    "    train_dataset,\n",
    "    batch_size=batch_size,\n",
    "    shuffle=True,\n",
    "    num_workers=0,\n",
    "    pin_memory=True if torch.cuda.is_available() else False,\n",
    "    collate_fn=lambda batch: (\n",
    "        torch.stack([x[0] for x in batch]).transpose(1, 2).unsqueeze(1),\n",
    "        torch.stack([x[1] for x in batch])\n",
    "    )\n",
    ")\n",
    "\n",
    "test_loader = DataLoader(\n",
    "    test_dataset,\n",
    "    batch_size=batch_size,\n",
    "    shuffle=False,\n",
    "    num_workers=0,\n",
    "    pin_memory=True if torch.cuda.is_available() else False,\n",
    "    collate_fn=lambda batch: (\n",
    "        torch.stack([x[0] for x in batch]).transpose(1, 2).unsqueeze(1),\n",
    "        torch.stack([x[1] for x in batch])\n",
    "    )   \n",
    ")\n",
    "\n",
    "print(f\"Total dataset size: {total_size}\")\n",
    "print(f\"Training set size: {len(train_dataset)}\")\n",
    "print(f\"Test set size: {len(test_dataset)}\")"
   ]
  },
  {
   "cell_type": "code",
   "execution_count": 7,
   "metadata": {},
   "outputs": [
    {
     "name": "stdout",
     "output_type": "stream",
     "text": [
      "Batch X shape: torch.Size([32, 1, 100, 40])\n",
      "Batch y shape: torch.Size([32, 3])\n"
     ]
    }
   ],
   "source": [
    "# look at first batch\n",
    "for batch in train_loader:\n",
    "    batch_X, batch_y = batch  # unpack batch tuple\n",
    "    print(f\"Batch X shape: {batch_X.shape}\")  # should be (batch_size, 100, 40)\n",
    "    print(f\"Batch y shape: {batch_y.shape}\")\n",
    "    break"
   ]
  },
  {
   "cell_type": "code",
   "execution_count": 8,
   "metadata": {},
   "outputs": [
    {
     "data": {
      "application/vnd.jupyter.widget-view+json": {
       "model_id": "7267c34489c046dfa92284eb67861e6b",
       "version_major": 2,
       "version_minor": 0
      },
      "text/plain": [
       "Epoch 1/25:   0%|          | 0/564 [00:00<?, ?it/s]"
      ]
     },
     "metadata": {},
     "output_type": "display_data"
    },
    {
     "name": "stdout",
     "output_type": "stream",
     "text": [
      "Epoch 1 Loss: 1.0296\n"
     ]
    },
    {
     "data": {
      "application/vnd.jupyter.widget-view+json": {
       "model_id": "0c6d854b232647e5abf40489ec8dfc7b",
       "version_major": 2,
       "version_minor": 0
      },
      "text/plain": [
       "Epoch 2/25:   0%|          | 0/564 [00:00<?, ?it/s]"
      ]
     },
     "metadata": {},
     "output_type": "display_data"
    },
    {
     "name": "stdout",
     "output_type": "stream",
     "text": [
      "Epoch 2 Loss: 0.9467\n"
     ]
    },
    {
     "data": {
      "application/vnd.jupyter.widget-view+json": {
       "model_id": "8de42f8f664347bd8fb0afe46861ee91",
       "version_major": 2,
       "version_minor": 0
      },
      "text/plain": [
       "Epoch 3/25:   0%|          | 0/564 [00:00<?, ?it/s]"
      ]
     },
     "metadata": {},
     "output_type": "display_data"
    },
    {
     "name": "stdout",
     "output_type": "stream",
     "text": [
      "Epoch 3 Loss: 0.9114\n"
     ]
    },
    {
     "data": {
      "application/vnd.jupyter.widget-view+json": {
       "model_id": "0e0f2711a7ac45da8f55c0a77ea20491",
       "version_major": 2,
       "version_minor": 0
      },
      "text/plain": [
       "Epoch 4/25:   0%|          | 0/564 [00:00<?, ?it/s]"
      ]
     },
     "metadata": {},
     "output_type": "display_data"
    },
    {
     "name": "stdout",
     "output_type": "stream",
     "text": [
      "Epoch 4 Loss: 0.8818\n"
     ]
    },
    {
     "data": {
      "application/vnd.jupyter.widget-view+json": {
       "model_id": "feb437fe8fb64ffbb0b06fd4016ea3ee",
       "version_major": 2,
       "version_minor": 0
      },
      "text/plain": [
       "Epoch 5/25:   0%|          | 0/564 [00:00<?, ?it/s]"
      ]
     },
     "metadata": {},
     "output_type": "display_data"
    },
    {
     "name": "stdout",
     "output_type": "stream",
     "text": [
      "Epoch 5 Loss: 0.8558\n"
     ]
    },
    {
     "data": {
      "application/vnd.jupyter.widget-view+json": {
       "model_id": "ed848f84b6094d5da6299783dfb28933",
       "version_major": 2,
       "version_minor": 0
      },
      "text/plain": [
       "Epoch 6/25:   0%|          | 0/564 [00:00<?, ?it/s]"
      ]
     },
     "metadata": {},
     "output_type": "display_data"
    },
    {
     "name": "stdout",
     "output_type": "stream",
     "text": [
      "Epoch 6 Loss: 0.8301\n"
     ]
    },
    {
     "data": {
      "application/vnd.jupyter.widget-view+json": {
       "model_id": "cf0bc2c4210540bd950f7797a39c5b99",
       "version_major": 2,
       "version_minor": 0
      },
      "text/plain": [
       "Epoch 7/25:   0%|          | 0/564 [00:00<?, ?it/s]"
      ]
     },
     "metadata": {},
     "output_type": "display_data"
    },
    {
     "name": "stdout",
     "output_type": "stream",
     "text": [
      "Epoch 7 Loss: 0.8103\n"
     ]
    },
    {
     "data": {
      "application/vnd.jupyter.widget-view+json": {
       "model_id": "b31464ada74d40ecbbfbfaa7968e7c1d",
       "version_major": 2,
       "version_minor": 0
      },
      "text/plain": [
       "Epoch 8/25:   0%|          | 0/564 [00:00<?, ?it/s]"
      ]
     },
     "metadata": {},
     "output_type": "display_data"
    },
    {
     "name": "stdout",
     "output_type": "stream",
     "text": [
      "Epoch 8 Loss: 0.7860\n"
     ]
    },
    {
     "data": {
      "application/vnd.jupyter.widget-view+json": {
       "model_id": "b6d02c3cecfc41bfa1e4d2e0bba5d657",
       "version_major": 2,
       "version_minor": 0
      },
      "text/plain": [
       "Epoch 9/25:   0%|          | 0/564 [00:00<?, ?it/s]"
      ]
     },
     "metadata": {},
     "output_type": "display_data"
    },
    {
     "name": "stdout",
     "output_type": "stream",
     "text": [
      "Epoch 9 Loss: 0.7679\n"
     ]
    },
    {
     "data": {
      "application/vnd.jupyter.widget-view+json": {
       "model_id": "310f10f64a874e8daa31943cf5a62a74",
       "version_major": 2,
       "version_minor": 0
      },
      "text/plain": [
       "Epoch 10/25:   0%|          | 0/564 [00:00<?, ?it/s]"
      ]
     },
     "metadata": {},
     "output_type": "display_data"
    },
    {
     "name": "stdout",
     "output_type": "stream",
     "text": [
      "Epoch 10 Loss: 0.7433\n"
     ]
    },
    {
     "data": {
      "application/vnd.jupyter.widget-view+json": {
       "model_id": "e981629586b04084b3994e82c05e0d4a",
       "version_major": 2,
       "version_minor": 0
      },
      "text/plain": [
       "Epoch 11/25:   0%|          | 0/564 [00:00<?, ?it/s]"
      ]
     },
     "metadata": {},
     "output_type": "display_data"
    },
    {
     "name": "stdout",
     "output_type": "stream",
     "text": [
      "Epoch 11 Loss: 0.7257\n"
     ]
    },
    {
     "data": {
      "application/vnd.jupyter.widget-view+json": {
       "model_id": "f5cee133e05e49459bc9a7601b75ce1a",
       "version_major": 2,
       "version_minor": 0
      },
      "text/plain": [
       "Epoch 12/25:   0%|          | 0/564 [00:00<?, ?it/s]"
      ]
     },
     "metadata": {},
     "output_type": "display_data"
    },
    {
     "name": "stdout",
     "output_type": "stream",
     "text": [
      "Epoch 12 Loss: 0.6981\n"
     ]
    },
    {
     "data": {
      "application/vnd.jupyter.widget-view+json": {
       "model_id": "4d99beaa16b346a0ba29e3a56e74d2e8",
       "version_major": 2,
       "version_minor": 0
      },
      "text/plain": [
       "Epoch 13/25:   0%|          | 0/564 [00:00<?, ?it/s]"
      ]
     },
     "metadata": {},
     "output_type": "display_data"
    },
    {
     "name": "stdout",
     "output_type": "stream",
     "text": [
      "Epoch 13 Loss: 0.6780\n"
     ]
    },
    {
     "data": {
      "application/vnd.jupyter.widget-view+json": {
       "model_id": "6f7ca8cad0cc4fe686b56cbb79d1e145",
       "version_major": 2,
       "version_minor": 0
      },
      "text/plain": [
       "Epoch 14/25:   0%|          | 0/564 [00:00<?, ?it/s]"
      ]
     },
     "metadata": {},
     "output_type": "display_data"
    },
    {
     "name": "stdout",
     "output_type": "stream",
     "text": [
      "Epoch 14 Loss: 0.6577\n"
     ]
    },
    {
     "data": {
      "application/vnd.jupyter.widget-view+json": {
       "model_id": "ac7476b7257f463e98a1ddc52a5fb9fb",
       "version_major": 2,
       "version_minor": 0
      },
      "text/plain": [
       "Epoch 15/25:   0%|          | 0/564 [00:00<?, ?it/s]"
      ]
     },
     "metadata": {},
     "output_type": "display_data"
    },
    {
     "name": "stdout",
     "output_type": "stream",
     "text": [
      "Epoch 15 Loss: 0.6400\n"
     ]
    },
    {
     "data": {
      "application/vnd.jupyter.widget-view+json": {
       "model_id": "baa2b992d3c24748863cff0b49986dd5",
       "version_major": 2,
       "version_minor": 0
      },
      "text/plain": [
       "Epoch 16/25:   0%|          | 0/564 [00:00<?, ?it/s]"
      ]
     },
     "metadata": {},
     "output_type": "display_data"
    },
    {
     "name": "stdout",
     "output_type": "stream",
     "text": [
      "Epoch 16 Loss: 0.6165\n"
     ]
    },
    {
     "data": {
      "application/vnd.jupyter.widget-view+json": {
       "model_id": "8268670f30a34c03843719b73d9ca47b",
       "version_major": 2,
       "version_minor": 0
      },
      "text/plain": [
       "Epoch 17/25:   0%|          | 0/564 [00:00<?, ?it/s]"
      ]
     },
     "metadata": {},
     "output_type": "display_data"
    },
    {
     "name": "stdout",
     "output_type": "stream",
     "text": [
      "Epoch 17 Loss: 0.5975\n"
     ]
    },
    {
     "data": {
      "application/vnd.jupyter.widget-view+json": {
       "model_id": "79cf66c6e8744a00ad487639b2ebec8b",
       "version_major": 2,
       "version_minor": 0
      },
      "text/plain": [
       "Epoch 18/25:   0%|          | 0/564 [00:00<?, ?it/s]"
      ]
     },
     "metadata": {},
     "output_type": "display_data"
    },
    {
     "name": "stdout",
     "output_type": "stream",
     "text": [
      "Epoch 18 Loss: 0.5811\n"
     ]
    },
    {
     "data": {
      "application/vnd.jupyter.widget-view+json": {
       "model_id": "25b78a3e083d4237a80039b83a98321d",
       "version_major": 2,
       "version_minor": 0
      },
      "text/plain": [
       "Epoch 19/25:   0%|          | 0/564 [00:00<?, ?it/s]"
      ]
     },
     "metadata": {},
     "output_type": "display_data"
    },
    {
     "name": "stdout",
     "output_type": "stream",
     "text": [
      "Epoch 19 Loss: 0.5648\n"
     ]
    },
    {
     "data": {
      "application/vnd.jupyter.widget-view+json": {
       "model_id": "12a1e60d95ce40b88f11dcfe22cc0210",
       "version_major": 2,
       "version_minor": 0
      },
      "text/plain": [
       "Epoch 20/25:   0%|          | 0/564 [00:00<?, ?it/s]"
      ]
     },
     "metadata": {},
     "output_type": "display_data"
    },
    {
     "name": "stdout",
     "output_type": "stream",
     "text": [
      "Epoch 20 Loss: 0.5381\n"
     ]
    },
    {
     "data": {
      "application/vnd.jupyter.widget-view+json": {
       "model_id": "ed265fa4459f45c49a1fba380fbc61b5",
       "version_major": 2,
       "version_minor": 0
      },
      "text/plain": [
       "Epoch 21/25:   0%|          | 0/564 [00:00<?, ?it/s]"
      ]
     },
     "metadata": {},
     "output_type": "display_data"
    },
    {
     "name": "stdout",
     "output_type": "stream",
     "text": [
      "Epoch 21 Loss: 0.5216\n"
     ]
    },
    {
     "data": {
      "application/vnd.jupyter.widget-view+json": {
       "model_id": "28adee0d1a354ae5a7a3c7790b89e2ef",
       "version_major": 2,
       "version_minor": 0
      },
      "text/plain": [
       "Epoch 22/25:   0%|          | 0/564 [00:00<?, ?it/s]"
      ]
     },
     "metadata": {},
     "output_type": "display_data"
    },
    {
     "name": "stdout",
     "output_type": "stream",
     "text": [
      "Epoch 22 Loss: 0.5020\n"
     ]
    },
    {
     "data": {
      "application/vnd.jupyter.widget-view+json": {
       "model_id": "da6179762d9747f78c69f57fcf556990",
       "version_major": 2,
       "version_minor": 0
      },
      "text/plain": [
       "Epoch 23/25:   0%|          | 0/564 [00:00<?, ?it/s]"
      ]
     },
     "metadata": {},
     "output_type": "display_data"
    },
    {
     "name": "stdout",
     "output_type": "stream",
     "text": [
      "Epoch 23 Loss: 0.4792\n"
     ]
    },
    {
     "data": {
      "application/vnd.jupyter.widget-view+json": {
       "model_id": "4707f0de36774121a915403902c9b936",
       "version_major": 2,
       "version_minor": 0
      },
      "text/plain": [
       "Epoch 24/25:   0%|          | 0/564 [00:00<?, ?it/s]"
      ]
     },
     "metadata": {},
     "output_type": "display_data"
    },
    {
     "name": "stdout",
     "output_type": "stream",
     "text": [
      "Epoch 24 Loss: 0.4653\n"
     ]
    },
    {
     "data": {
      "application/vnd.jupyter.widget-view+json": {
       "model_id": "95b09675c8944ecd9210eb378fcf10d8",
       "version_major": 2,
       "version_minor": 0
      },
      "text/plain": [
       "Epoch 25/25:   0%|          | 0/564 [00:00<?, ?it/s]"
      ]
     },
     "metadata": {},
     "output_type": "display_data"
    },
    {
     "name": "stdout",
     "output_type": "stream",
     "text": [
      "Epoch 25 Loss: 0.4465\n",
      "Training finished!\n"
     ]
    }
   ],
   "source": [
    "device = torch.device('cuda' if torch.cuda.is_available() else 'cpu')\n",
    "model = DeepLOB_Network_v1(y_len=3, device=device).to(device) \n",
    "criterion = nn.CrossEntropyLoss(ignore_index=-1)\n",
    "optimizer = torch.optim.Adam(model.parameters(), lr=0.0001)\n",
    "\n",
    "# Training parameters\n",
    "num_epochs = 25\n",
    "best_loss = float('inf')\n",
    "\n",
    "for epoch in range(num_epochs):\n",
    "    model.train()\n",
    "    running_loss = 0.0\n",
    "    correct = 0\n",
    "    total = 0\n",
    "    \n",
    "    pbar = tqdm(train_loader, desc=f'Epoch {epoch+1}/{num_epochs}')\n",
    "    \n",
    "    for batch_X, batch_y in pbar:\n",
    "        batch_X = batch_X.float().to(device)\n",
    "        batch_y = batch_y.to(device)\n",
    "        \n",
    "        # Forward pass\n",
    "        optimizer.zero_grad()\n",
    "        outputs = model(batch_X)\n",
    "        loss = criterion(outputs, batch_y)\n",
    "        \n",
    "        # Backward pass\n",
    "        loss.backward()\n",
    "        optimizer.step()\n",
    "        \n",
    "        # Calculate accuracy\n",
    "        _, predicted = torch.max(outputs.data, 1)\n",
    "        _, labels = torch.max(batch_y.data, 1)\n",
    "        total += labels.size(0)\n",
    "        correct += (predicted == labels).sum().item()\n",
    "        \n",
    "        running_loss += loss.item()\n",
    "        \n",
    "        pbar.set_postfix({\n",
    "            'loss': f'{running_loss/len(pbar):.4f}',\n",
    "            'acc': f'{100 * correct/total:.2f}%'\n",
    "        })\n",
    "    \n",
    "    # Epoch statistics\n",
    "    epoch_loss = running_loss / len(train_loader)\n",
    "    print(f'Epoch {epoch+1} Loss: {epoch_loss:.4f}')\n",
    "    \n",
    "    # Save best model\n",
    "    if epoch_loss < best_loss:\n",
    "        best_loss = epoch_loss\n",
    "        torch.save({\n",
    "            'epoch': epoch,\n",
    "            'model_state_dict': model.state_dict(),\n",
    "            'optimizer_state_dict': optimizer.state_dict(),\n",
    "            'loss': best_loss,\n",
    "        }, 'best_model.pth')\n",
    "\n",
    "print('Training finished!')"
   ]
  },
  {
   "cell_type": "code",
   "execution_count": 9,
   "metadata": {},
   "outputs": [],
   "source": [
    "def evaluate_model(model, test_loader, device):\n",
    "    all_predictions = []\n",
    "    all_labels = []\n",
    "    \n",
    "    with torch.no_grad():\n",
    "        for batch_X, batch_y in test_loader:\n",
    "            batch_X, batch_y = batch_X.to(device), batch_y.to(device)\n",
    "            outputs = model(batch_X)\n",
    "            \n",
    "            # convert one-hot encoded outputs to class predictions\n",
    "            predictions = outputs.argmax(dim=1)\n",
    "            true_labels = batch_y.argmax(dim=1)\n",
    "            \n",
    "            all_predictions.extend(predictions.cpu().numpy())\n",
    "            all_labels.extend(true_labels.cpu().numpy())\n",
    "    \n",
    "    return all_predictions, all_labels"
   ]
  },
  {
   "cell_type": "code",
   "execution_count": 10,
   "metadata": {},
   "outputs": [
    {
     "name": "stdout",
     "output_type": "stream",
     "text": [
      "Loading saved model from best_model.pth\n"
     ]
    },
    {
     "name": "stderr",
     "output_type": "stream",
     "text": [
      "/var/folders/6y/rz_n_6x924d63ryw6s3z5jch0000gn/T/ipykernel_44019/2508686073.py:6: FutureWarning: You are using `torch.load` with `weights_only=False` (the current default value), which uses the default pickle module implicitly. It is possible to construct malicious pickle data which will execute arbitrary code during unpickling (See https://github.com/pytorch/pytorch/blob/main/SECURITY.md#untrusted-models for more details). In a future release, the default value for `weights_only` will be flipped to `True`. This limits the functions that could be executed during unpickling. Arbitrary objects will no longer be allowed to be loaded via this mode unless they are explicitly allowlisted by the user via `torch.serialization.add_safe_globals`. We recommend you start setting `weights_only=True` for any use case where you don't have full control of the loaded file. Please open an issue on GitHub for any issues related to this experimental feature.\n",
      "  checkpoint = torch.load(model_path)\n"
     ]
    },
    {
     "name": "stdout",
     "output_type": "stream",
     "text": [
      "\n",
      "Classification Report:\n",
      "              precision    recall  f1-score   support\n",
      "\n",
      " No Movement       0.64      0.65      0.64      1833\n",
      "          Up       0.75      0.66      0.71       952\n",
      "        Down       0.62      0.64      0.63      1723\n",
      "\n",
      "    accuracy                           0.65      4508\n",
      "   macro avg       0.67      0.65      0.66      4508\n",
      "weighted avg       0.65      0.65      0.65      4508\n",
      "\n"
     ]
    },
    {
     "data": {
      "image/png": "[encoded data removed]",
      "text/plain": [
       "<Figure size 1000x800 with 2 Axes>"
      ]
     },
     "metadata": {},
     "output_type": "display_data"
    }
   ],
   "source": [
    "# load the saved model state if it exists\n",
    "device = torch.device('cuda' if torch.cuda.is_available() else 'cpu')\n",
    "model_path = 'best_model.pth'\n",
    "if os.path.exists(model_path):\n",
    "    print(f\"Loading saved model from {model_path}\")\n",
    "    checkpoint = torch.load(model_path)\n",
    "    model.load_state_dict(checkpoint['model_state_dict'])\n",
    "    model.eval()  # set to evaluation mode\n",
    "else:\n",
    "    print(f\"No saved model found at {model_path}. Please train the model first.\")\n",
    "    exit()\n",
    "\n",
    "predictions, true_labels = evaluate_model(model, test_loader, device)\n",
    "\n",
    "print(\"\\nClassification Report:\")\n",
    "print(classification_report(true_labels, predictions, \n",
    "                          target_names=['No Movement', 'Up', 'Down']))\n",
    "\n",
    "plt.figure(figsize=(10, 8))\n",
    "cm = confusion_matrix(true_labels, predictions)\n",
    "sns.heatmap(cm, annot=True, fmt='d', cmap='Blues',\n",
    "            xticklabels=['No Movement', 'Up', 'Down'],\n",
    "            yticklabels=['No Movement', 'Up', 'Down'])\n",
    "plt.title('Confusion Matrix')\n",
    "plt.xlabel('Predicted Label')\n",
    "plt.ylabel('True Label')\n",
    "plt.show()"
   ]
  }
 ],
 "metadata": {
  "kernelspec": {
   "display_name": "venv",
   "language": "python",
   "name": "python3"
  },
  "language_info": {
   "codemirror_mode": {
    "name": "ipython",
    "version": 3
   },
   "file_extension": ".py",
   "mimetype": "text/x-python",
   "name": "python",
   "nbconvert_exporter": "python",
   "pygments_lexer": "ipython3",
   "version": "3.9.6"
  }
 },
 "nbformat": 4,
 "nbformat_minor": 2
}
